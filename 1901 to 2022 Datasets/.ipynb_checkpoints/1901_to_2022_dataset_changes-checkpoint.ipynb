{
 "cells": [
  {
   "cell_type": "code",
   "execution_count": 7,
   "id": "4bad7aa4-826b-4139-8af3-b496c038f83b",
   "metadata": {},
   "outputs": [
    {
     "name": "stdout",
     "output_type": "stream",
     "text": [
      "Merging complete. File saved as 'merged_data_1901_to_2022.xlsx'.\n"
     ]
    }
   ],
   "source": [
    "import pandas as pd\n",
    "\n",
    "# Load the three datasets\n",
    "df1 = pd.read_excel(\"..//combined datasets//combined_data_1901_to_1938.xlsx\")\n",
    "df2 = pd.read_excel(\"..//combined datasets//combined_data_1939_to_1977.xlsx\")\n",
    "df3 = pd.read_excel(\"..//combined datasets//combined_data_1978_to_2022.xlsx\")\n",
    "\n",
    "# Concatenate the datasets vertically\n",
    "combined_df = pd.concat([df1, df2, df3], ignore_index=True)\n",
    "\n",
    "# Remove duplicate columns based on column names (assuming dates are in column names)\n",
    "combined_df = combined_df.loc[:, ~combined_df.columns.duplicated()]\n",
    "\n",
    "# Save the merged dataset\n",
    "combined_df.to_excel(\"merged_data_1901_to_2022.xlsx\", index=False)\n",
    "\n",
    "print(\"Merging complete. File saved as 'merged_data_1901_to_2022.xlsx'.\")\n"
   ]
  },
  {
   "cell_type": "code",
   "execution_count": 8,
   "id": "e1010977-b9fd-47b1-bd26-57985447f869",
   "metadata": {},
   "outputs": [
    {
     "name": "stdout",
     "output_type": "stream",
     "text": [
      "Shape of merged dataset: (669680, 9)\n"
     ]
    }
   ],
   "source": [
    "print(\"Shape of merged dataset:\", combined_df.shape)"
   ]
  },
  {
   "cell_type": "code",
   "execution_count": 10,
   "id": "8c40b80e-6247-4098-aefa-3667065f8253",
   "metadata": {},
   "outputs": [
    {
     "name": "stdout",
     "output_type": "stream",
     "text": [
      "First 5 rows of combined dataset:\n",
      "         Date    Day    Year  Month Location  Rainfall (in mm)  Latitude  \\\n",
      "0 1901-01-01  Day_1  1901.0    1.0    Loc_0               3.0     27.25   \n",
      "1 1901-01-02  Day_2  1901.0    1.0    Loc_0               8.0     27.25   \n",
      "2 1901-01-03  Day_3  1901.0    1.0    Loc_0               0.0     27.25   \n",
      "3 1901-01-04  Day_4  1901.0    1.0    Loc_0               0.0     27.25   \n",
      "4 1901-01-05  Day_5  1901.0    1.0    Loc_0               0.0     27.25   \n",
      "\n",
      "   Longitude  Quarter  \n",
      "0      88.25      1.0  \n",
      "1      88.25      1.0  \n",
      "2      88.25      1.0  \n",
      "3      88.25      1.0  \n",
      "4      88.25      1.0  \n"
     ]
    }
   ],
   "source": [
    "print(\"First 5 rows of combined dataset:\\n\", combined_df.head())\n"
   ]
  },
  {
   "cell_type": "code",
   "execution_count": 11,
   "id": "3a0f4364-03f7-4fd6-abfa-2dae975610fc",
   "metadata": {},
   "outputs": [
    {
     "name": "stdout",
     "output_type": "stream",
     "text": [
      "Last 5 rows of combined dataset:\n",
      "              Date      Day    Year  Month Location  Rainfall (in mm)  \\\n",
      "669675 2022-12-27  Day_361  2022.0   12.0   Loc_10               0.6   \n",
      "669676 2022-12-28  Day_362  2022.0   12.0   Loc_10               0.7   \n",
      "669677 2022-12-29  Day_363  2022.0   12.0   Loc_10               0.1   \n",
      "669678 2022-12-30  Day_364  2022.0   12.0   Loc_10               0.0   \n",
      "669679 2022-12-31  Day_365  2022.0   12.0   Loc_10               0.0   \n",
      "\n",
      "        Latitude  Longitude  Quarter  \n",
      "669675      28.0      88.75      4.0  \n",
      "669676      28.0      88.75      4.0  \n",
      "669677      28.0      88.75      4.0  \n",
      "669678      28.0      88.75      4.0  \n",
      "669679      28.0      88.75      4.0  \n"
     ]
    }
   ],
   "source": [
    "print(\"Last 5 rows of combined dataset:\\n\", combined_df.tail())\n"
   ]
  },
  {
   "cell_type": "code",
   "execution_count": null,
   "id": "c9261bc7-7d11-4833-b648-642e3d1feba7",
   "metadata": {},
   "outputs": [],
   "source": []
  }
 ],
 "metadata": {
  "kernelspec": {
   "display_name": "Python 3 (ipykernel)",
   "language": "python",
   "name": "python3"
  },
  "language_info": {
   "codemirror_mode": {
    "name": "ipython",
    "version": 3
   },
   "file_extension": ".py",
   "mimetype": "text/x-python",
   "name": "python",
   "nbconvert_exporter": "python",
   "pygments_lexer": "ipython3",
   "version": "3.12.7"
  }
 },
 "nbformat": 4,
 "nbformat_minor": 5
}
