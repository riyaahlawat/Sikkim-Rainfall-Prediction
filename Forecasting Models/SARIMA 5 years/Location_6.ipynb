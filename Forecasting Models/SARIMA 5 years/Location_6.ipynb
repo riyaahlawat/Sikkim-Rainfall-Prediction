{
 "cells": [
  {
   "cell_type": "code",
   "execution_count": 2,
   "id": "4893928d-be96-46ad-bc2e-c7ceca8a6381",
   "metadata": {},
   "outputs": [
    {
     "name": "stdout",
     "output_type": "stream",
     "text": [
      "            Rainfall (in mm)\n",
      "Date                        \n",
      "1901-01-01               3.0\n",
      "1901-01-02               8.0\n",
      "1901-01-03               0.0\n",
      "1901-01-04               0.0\n",
      "1901-01-05               0.0\n"
     ]
    }
   ],
   "source": [
    "import pandas as pd\n",
    "\n",
    "# Load the dataset\n",
    "df = pd.read_excel(\"..//..//datasets//modified_location_6.xlsx\")  # Replace with your actual file path\n",
    "\n",
    "# Convert 'Date' column to datetime format\n",
    "df['Date'] = pd.to_datetime(df['Date'], format='%Y-%m-%d')  # Adjust format if necessary\n",
    "\n",
    "# Drop rows with missing values in 'Rainfall' or 'Date'\n",
    "df.dropna(subset=['Rainfall (in mm)'], inplace=True)\n",
    "\n",
    "# Select only the 'Date' and 'Rainfall' columns\n",
    "df = df[['Date', 'Rainfall (in mm)']]\n",
    "\n",
    "# Set the 'Date' column as the index\n",
    "df.set_index('Date', inplace=True)\n",
    "\n",
    "# Convert Rainfall to time series (assuming daily data)\n",
    "rainfall_ts = df['Rainfall (in mm)']\n",
    "\n",
    "# Display the first few rows to check the data\n",
    "print(df.head())"
   ]
  },
  {
   "cell_type": "code",
   "execution_count": 2,
   "id": "ab682186-90e4-477c-a874-51244ee1f627",
   "metadata": {},
   "outputs": [
    {
     "name": "stdout",
     "output_type": "stream",
     "text": [
      "(61600, 1)\n"
     ]
    }
   ],
   "source": [
    "print(df.shape)  # (rows, columns)"
   ]
  },
  {
   "cell_type": "code",
   "execution_count": 3,
   "id": "fafc026b-3b04-4c04-84fa-2d864afd53d0",
   "metadata": {},
   "outputs": [
    {
     "name": "stdout",
     "output_type": "stream",
     "text": [
      "Performing stepwise search to minimize aic\n",
      " ARIMA(0,0,0)(1,0,1)[15] intercept   : AIC=29340.100, Time=2.93 sec\n",
      " ARIMA(0,0,0)(0,0,0)[15] intercept   : AIC=29787.495, Time=0.06 sec\n",
      " ARIMA(1,0,0)(1,0,0)[15] intercept   : AIC=26571.171, Time=1.64 sec\n",
      " ARIMA(0,0,1)(0,0,1)[15] intercept   : AIC=26757.885, Time=3.32 sec\n",
      " ARIMA(0,0,0)(0,0,0)[15]             : AIC=31084.192, Time=0.05 sec\n",
      " ARIMA(1,0,0)(0,0,0)[15] intercept   : AIC=26572.883, Time=0.20 sec\n",
      " ARIMA(1,0,0)(1,0,1)[15] intercept   : AIC=26557.961, Time=4.00 sec\n",
      " ARIMA(1,0,0)(0,0,1)[15] intercept   : AIC=26571.452, Time=1.41 sec\n",
      " ARIMA(1,0,1)(1,0,1)[15] intercept   : AIC=26374.161, Time=9.94 sec\n",
      " ARIMA(1,0,1)(0,0,1)[15] intercept   : AIC=26409.929, Time=5.42 sec\n",
      " ARIMA(1,0,1)(1,0,0)[15] intercept   : AIC=26408.979, Time=2.33 sec\n",
      " ARIMA(1,0,1)(0,0,0)[15] intercept   : AIC=26415.097, Time=0.79 sec\n",
      " ARIMA(0,0,1)(1,0,1)[15] intercept   : AIC=26617.196, Time=7.02 sec\n",
      " ARIMA(1,0,1)(1,0,1)[15]             : AIC=inf, Time=3.10 sec\n",
      "\n",
      "Best model:  ARIMA(1,0,1)(1,0,1)[15] intercept\n",
      "Total fit time: 42.229 seconds\n"
     ]
    }
   ],
   "source": [
    "from pmdarima import auto_arima\n",
    "\n",
    "# Define training range\n",
    "train_start = '2018-01-01'\n",
    "train_end = '2022-12-31'\n",
    "\n",
    "# Slice training data\n",
    "y_train = rainfall_ts[train_start:train_end]\n",
    "\n",
    "# Fit a lightweight seasonal ARIMA model\n",
    "model = auto_arima(\n",
    "    y_train,\n",
    "    seasonal=True,\n",
    "    m=15,  \n",
    "    start_p=0, start_q=0, max_p=1, max_q=1, max_d=1,\n",
    "    max_P=1, max_Q=1, max_D=1,\n",
    "    stepwise=True,\n",
    "    trace=True,\n",
    "    suppress_warnings=True,\n",
    "    information_criterion='aic'\n",
    ")"
   ]
  },
  {
   "cell_type": "code",
   "execution_count": 4,
   "id": "4e1288cf-d6d7-47c8-9294-e1963f0193fc",
   "metadata": {},
   "outputs": [
    {
     "name": "stdout",
     "output_type": "stream",
     "text": [
      "Actual data size: 365\n",
      "Predicted data size: 365\n",
      "MSE for 2023 forecast: 160.669086894852\n",
      "MAE for 2023 forecast: 9.144315685753376\n",
      "R² for 2023 forecast: 0.015934217776150894\n",
      "✅ Forecast saved successfully: 2023_forecast_results_Sarima.xlsx\n"
     ]
    },
    {
     "name": "stderr",
     "output_type": "stream",
     "text": [
      "C:\\Users\\rahla\\anaconda3\\Lib\\site-packages\\statsmodels\\tsa\\base\\tsa_model.py:836: ValueWarning: No supported index is available. Prediction results will be given with an integer index beginning at `start`.\n",
      "  return get_prediction_index(\n",
      "C:\\Users\\rahla\\anaconda3\\Lib\\site-packages\\statsmodels\\tsa\\base\\tsa_model.py:836: FutureWarning: No supported index is available. In the next version, calling this method in a model without a supported index will result in an exception.\n",
      "  return get_prediction_index(\n"
     ]
    }
   ],
   "source": [
    "# Forecast for 2023\n",
    "forecast_start = '2023-01-01'\n",
    "forecast_end = '2023-12-31'\n",
    "\n",
    "# Extract actual values\n",
    "y_true_2023 = df[(df.index >= forecast_start) & (df.index <= forecast_end)]['Rainfall (in mm)']\n",
    "\n",
    "# Predict for the same period\n",
    "n_periods = len(y_true_2023)\n",
    "y_pred_2023 = model.predict(n_periods=n_periods)\n",
    "\n",
    "# Check lengths\n",
    "print(\"Actual data size:\", len(y_true_2023))\n",
    "print(\"Predicted data size:\", len(y_pred_2023))\n",
    "\n",
    "from sklearn.metrics import mean_squared_error, mean_absolute_error, r2_score\n",
    "\n",
    "# Evaluation metrics\n",
    "mse_2023 = mean_squared_error(y_true_2023, y_pred_2023)  # MSE instead of RMSE\n",
    "mae_2023 = mean_absolute_error(y_true_2023, y_pred_2023)\n",
    "r2_2023 = r2_score(y_true_2023, y_pred_2023)\n",
    "\n",
    "print(f\"MSE for 2023 forecast: {mse_2023}\")\n",
    "print(f\"MAE for 2023 forecast: {mae_2023}\")\n",
    "print(f\"R² for 2023 forecast: {r2_2023}\")\n",
    "\n",
    "\n",
    "# Create results DataFrame using index (dates) directly\n",
    "forecast_df_2023 = pd.DataFrame({\n",
    "    'Date': y_true_2023.index,                   # correct date index\n",
    "    'Actual Rainfall': y_true_2023.values,       # actual values\n",
    "    'Predicted Rainfall': y_pred_2023            # predicted values\n",
    "})\n",
    "\n",
    "# Save to Excel\n",
    "forecast_df_2023.to_excel('.//sarima_location_6_(15_5yrs).xlsx', index=False)\n",
    "\n",
    "print(\"✅ Forecast saved successfully: 2023_forecast_results_Sarima.xlsx\")\n"
   ]
  },
  {
   "cell_type": "code",
   "execution_count": 5,
   "id": "57c26d74-1969-4084-81f8-38b66a063423",
   "metadata": {},
   "outputs": [],
   "source": [
    "# now with m = 30"
   ]
  },
  {
   "cell_type": "code",
   "execution_count": 3,
   "id": "81b79cdc-36e8-4134-9ef1-b2e92dc2da21",
   "metadata": {},
   "outputs": [
    {
     "name": "stdout",
     "output_type": "stream",
     "text": [
      "Performing stepwise search to minimize aic\n",
      " ARIMA(0,0,0)(1,0,1)[30] intercept   : AIC=29470.691, Time=11.51 sec\n",
      " ARIMA(0,0,0)(0,0,0)[30] intercept   : AIC=29787.495, Time=0.07 sec\n",
      " ARIMA(1,0,0)(1,0,0)[30] intercept   : AIC=26568.858, Time=6.19 sec\n",
      " ARIMA(0,0,1)(0,0,1)[30] intercept   : AIC=26751.488, Time=7.36 sec\n",
      " ARIMA(0,0,0)(0,0,0)[30]             : AIC=31084.192, Time=0.04 sec\n",
      " ARIMA(1,0,0)(0,0,0)[30] intercept   : AIC=26572.883, Time=0.21 sec\n",
      " ARIMA(1,0,0)(1,0,1)[30] intercept   : AIC=26563.228, Time=11.30 sec\n",
      " ARIMA(1,0,0)(0,0,1)[30] intercept   : AIC=26569.456, Time=5.44 sec\n",
      " ARIMA(1,0,1)(1,0,1)[30] intercept   : AIC=26390.236, Time=13.97 sec\n",
      " ARIMA(1,0,1)(0,0,1)[30] intercept   : AIC=26403.195, Time=9.27 sec\n",
      " ARIMA(1,0,1)(1,0,0)[30] intercept   : AIC=26401.417, Time=8.49 sec\n",
      " ARIMA(1,0,1)(0,0,0)[30] intercept   : AIC=26415.097, Time=0.79 sec\n",
      " ARIMA(0,0,1)(1,0,1)[30] intercept   : AIC=26706.344, Time=13.46 sec\n",
      " ARIMA(1,0,1)(1,0,1)[30]             : AIC=inf, Time=26.37 sec\n",
      "\n",
      "Best model:  ARIMA(1,0,1)(1,0,1)[30] intercept\n",
      "Total fit time: 114.668 seconds\n"
     ]
    }
   ],
   "source": [
    "from pmdarima import auto_arima\n",
    "\n",
    "# Define training range\n",
    "train_start = '2018-01-01'\n",
    "train_end = '2022-12-31'\n",
    "\n",
    "# Slice training data\n",
    "y_train = rainfall_ts[train_start:train_end]\n",
    "\n",
    "# Fit a lightweight seasonal ARIMA model\n",
    "model_30 = auto_arima(\n",
    "    y_train,\n",
    "    seasonal=True,\n",
    "    m=30,  \n",
    "    start_p=0, start_q=0, max_p=1, max_q=1, max_d=1,\n",
    "    max_P=1, max_Q=1, max_D=1,\n",
    "    stepwise=True,\n",
    "    trace=True,\n",
    "    suppress_warnings=True,\n",
    "    information_criterion='aic'\n",
    ")"
   ]
  },
  {
   "cell_type": "code",
   "execution_count": 5,
   "id": "04374bb7-a975-40aa-8ead-daf5afb75d02",
   "metadata": {},
   "outputs": [
    {
     "name": "stdout",
     "output_type": "stream",
     "text": [
      "Actual data size: 365\n",
      "Predicted data size: 365\n",
      "MSE for 2023 forecast: 161.47968848352963\n",
      "MAE for 2023 forecast: 9.264380544066785\n",
      "R² for 2023 forecast: 0.01096944638265962\n",
      "✅ Forecast saved successfully: 2023_forecast_results_Sarima.xlsx\n"
     ]
    },
    {
     "name": "stderr",
     "output_type": "stream",
     "text": [
      "C:\\Users\\rahla\\anaconda3\\Lib\\site-packages\\statsmodels\\tsa\\base\\tsa_model.py:836: ValueWarning: No supported index is available. Prediction results will be given with an integer index beginning at `start`.\n",
      "  return get_prediction_index(\n",
      "C:\\Users\\rahla\\anaconda3\\Lib\\site-packages\\statsmodels\\tsa\\base\\tsa_model.py:836: FutureWarning: No supported index is available. In the next version, calling this method in a model without a supported index will result in an exception.\n",
      "  return get_prediction_index(\n"
     ]
    }
   ],
   "source": [
    "# Forecast for 2023\n",
    "forecast_start = '2023-01-01'\n",
    "forecast_end = '2023-12-31'\n",
    "\n",
    "from sklearn.metrics import mean_squared_error, mean_absolute_error, r2_score\n",
    "\n",
    "# Extract actual values\n",
    "y_true_2023 = df[(df.index >= forecast_start) & (df.index <= forecast_end)]['Rainfall (in mm)']\n",
    "\n",
    "# Predict for the same period\n",
    "n_periods = len(y_true_2023)\n",
    "y_pred_2023 = model_30.predict(n_periods=n_periods)\n",
    "\n",
    "# Check lengths\n",
    "print(\"Actual data size:\", len(y_true_2023))\n",
    "print(\"Predicted data size:\", len(y_pred_2023))\n",
    "\n",
    "# Evaluation metrics\n",
    "mse_2023 = mean_squared_error(y_true_2023, y_pred_2023)\n",
    "mae_2023 = mean_absolute_error(y_true_2023, y_pred_2023)\n",
    "r2_2023 = r2_score(y_true_2023, y_pred_2023)\n",
    "\n",
    "print(f\"MSE for 2023 forecast: {mse_2023}\")\n",
    "print(f\"MAE for 2023 forecast: {mae_2023}\")\n",
    "print(f\"R² for 2023 forecast: {r2_2023}\")\n",
    "\n",
    "# Create results DataFrame using index (dates) directly\n",
    "forecast_df_2023 = pd.DataFrame({\n",
    "    'Date': y_true_2023.index,                   # correct date index\n",
    "    'Actual Rainfall': y_true_2023.values,       # actual values\n",
    "    'Predicted Rainfall': y_pred_2023            # predicted values\n",
    "})\n",
    "\n",
    "# Save to Excel\n",
    "forecast_df_2023.to_excel('.//sarima_location_6_(30_5yrs.xlsx', index=False)\n",
    "\n",
    "print(\"✅ Forecast saved successfully: 2023_forecast_results_Sarima.xlsx\")\n"
   ]
  },
  {
   "cell_type": "code",
   "execution_count": null,
   "id": "9a7de8d6-3f2b-44b4-a4ab-7daa9cd861c3",
   "metadata": {},
   "outputs": [],
   "source": []
  }
 ],
 "metadata": {
  "kernelspec": {
   "display_name": "Python 3 (ipykernel)",
   "language": "python",
   "name": "python3"
  },
  "language_info": {
   "codemirror_mode": {
    "name": "ipython",
    "version": 3
   },
   "file_extension": ".py",
   "mimetype": "text/x-python",
   "name": "python",
   "nbconvert_exporter": "python",
   "pygments_lexer": "ipython3",
   "version": "3.12.7"
  }
 },
 "nbformat": 4,
 "nbformat_minor": 5
}
