{
 "cells": [
  {
   "cell_type": "code",
   "execution_count": 1,
   "id": "ebed5000-14bb-4891-b3aa-017cddcc70d3",
   "metadata": {},
   "outputs": [
    {
     "name": "stdout",
     "output_type": "stream",
     "text": [
      "            Rainfall (in mm)\n",
      "Date                        \n",
      "1901-01-01               3.0\n",
      "1901-01-02               8.0\n",
      "1901-01-03               0.0\n",
      "1901-01-04               0.0\n",
      "1901-01-05               0.0\n"
     ]
    }
   ],
   "source": [
    "import pandas as pd\n",
    "\n",
    "# Load the dataset\n",
    "df = pd.read_excel(\"..//datasets//modified_location_0.xlsx\")  # Replace with your actual file path\n",
    "\n",
    "# Convert 'Date' column to datetime format\n",
    "df['Date'] = pd.to_datetime(df['Date'], format='%Y-%m-%d')  # Adjust format if necessary\n",
    "\n",
    "# Drop rows with missing values in 'Rainfall' or 'Date'\n",
    "df.dropna(subset=['Rainfall (in mm)'], inplace=True)\n",
    "\n",
    "# Select only the 'Date' and 'Rainfall' columns\n",
    "df = df[['Date', 'Rainfall (in mm)']]\n",
    "\n",
    "# Set the 'Date' column as the index\n",
    "df.set_index('Date', inplace=True)\n",
    "\n",
    "# Convert Rainfall to time series (assuming daily data)\n",
    "rainfall_ts = df['Rainfall (in mm)']\n",
    "\n",
    "# Display the first few rows to check the data\n",
    "print(df.head())"
   ]
  },
  {
   "cell_type": "code",
   "execution_count": 2,
   "id": "5b32cccc-0be5-4d88-9b77-0cde3ca3bd12",
   "metadata": {},
   "outputs": [],
   "source": [
    "train_start = '2018-01-01'\n",
    "train_end = '2022-12-31'\n",
    "test_start = '2023-01-01'\n",
    "test_end = '2023-12-31' \n",
    "\n",
    "# Slice the data for the training and testing sets using loc\n",
    "y_train = rainfall_ts.loc[train_start:train_end]\n",
    "y_test = rainfall_ts.loc[test_start:test_end]"
   ]
  },
  {
   "cell_type": "code",
   "execution_count": 3,
   "id": "d028b4bb-415d-4707-884a-0eed8fa54435",
   "metadata": {},
   "outputs": [
    {
     "name": "stdout",
     "output_type": "stream",
     "text": [
      "Best AICc: 26240.916809416107\n",
      "Best Fourier Terms: K1 = 1 , K2 = 1\n"
     ]
    }
   ],
   "source": [
    "import numpy as np\n",
    "import pandas as pd\n",
    "from pmdarima import auto_arima\n",
    "from statsmodels.tsa.stattools import acf\n",
    "from statsmodels.tsa.tsatools import detrend\n",
    "\n",
    "# Define Fourier terms function\n",
    "def fourier_terms(time_series, period, K):\n",
    "    \"\"\"Generate Fourier terms for a given seasonal period and number of harmonics K.\"\"\"\n",
    "    t = np.arange(len(time_series))\n",
    "    terms = np.column_stack([np.sin(2 * np.pi * k * t / period) for k in range(1, K + 1)] +\n",
    "                            [np.cos(2 * np.pi * k * t / period) for k in range(1, K + 1)])\n",
    "    return terms\n",
    "\n",
    "# Initialize best fit storage\n",
    "best_fit = {'aicc': np.inf, 'i': 0, 'j': 0, 'model': None}\n",
    "\n",
    "# Define seasonal periods\n",
    "seasonality_1 = 366.66\n",
    "seasonality_2 = 733.33\n",
    "\n",
    "# Loop over different Fourier terms to find the best AICc\n",
    "for i in range(1, 4):  # Vary K1 from 1 to 3\n",
    "    for j in range(1, 4):  # Vary K2 from 1 to 3\n",
    "        # Generate Fourier terms\n",
    "        z1 = fourier_terms(y_train, seasonality_1, i)\n",
    "        z2 = fourier_terms(y_train, seasonality_2, j)\n",
    "        xreg = np.hstack([z1, z2])  # Combine Fourier terms\n",
    "\n",
    "        # Fit ARIMA model with external regressors\n",
    "        model = auto_arima(y_train, exogenous=xreg, seasonal=False, stepwise=True, suppress_warnings=True)\n",
    "\n",
    "        # Check if current model has a lower AICc\n",
    "        if model.aic() < best_fit['aicc']:\n",
    "            best_fit = {'aicc': model.aic(), 'i': i, 'j': j, 'model': model}\n",
    "\n",
    "# Print best model details\n",
    "print(\"Best AICc:\", best_fit['aicc'])\n",
    "print(\"Best Fourier Terms:\", \"K1 =\", best_fit['i'], \", K2 =\", best_fit['j'])"
   ]
  },
  {
   "cell_type": "code",
   "execution_count": 4,
   "id": "438202c7-3089-4c76-8058-5321493c5510",
   "metadata": {},
   "outputs": [
    {
     "name": "stderr",
     "output_type": "stream",
     "text": [
      "C:\\Users\\rahla\\anaconda3\\Lib\\site-packages\\statsmodels\\tsa\\base\\tsa_model.py:836: ValueWarning: No supported index is available. Prediction results will be given with an integer index beginning at `start`.\n",
      "  return get_prediction_index(\n",
      "C:\\Users\\rahla\\anaconda3\\Lib\\site-packages\\statsmodels\\tsa\\base\\tsa_model.py:836: FutureWarning: No supported index is available. In the next version, calling this method in a model without a supported index will result in an exception.\n",
      "  return get_prediction_index(\n"
     ]
    },
    {
     "name": "stdout",
     "output_type": "stream",
     "text": [
      "MAE: 8.990785614661355\n",
      "RMSE: 15.078632835666651\n",
      "R²: -0.05920734904092151\n",
      "Forecast saved to location_0_fourier_5yrs.xlsx\n"
     ]
    }
   ],
   "source": [
    "import matplotlib.pyplot as plt\n",
    "from sklearn.metrics import mean_absolute_error, mean_squared_error, r2_score\n",
    "import os\n",
    "\n",
    "# Step 1: Generate Fourier terms for the test period using the best K1 and K2\n",
    "K1 = best_fit['i']\n",
    "K2 = best_fit['j']\n",
    "\n",
    "z1_test = fourier_terms(y_test, seasonality_1, K1)\n",
    "z2_test = fourier_terms(y_test, seasonality_2, K2)\n",
    "xreg_test = np.hstack([z1_test, z2_test])\n",
    "\n",
    "# Step 2: Forecast\n",
    "n_periods = len(y_test)\n",
    "forecast = best_fit['model'].predict(n_periods=n_periods, exogenous=xreg_test)\n",
    "\n",
    "# Step 3: Evaluation\n",
    "mae = mean_absolute_error(y_test, forecast)\n",
    "rmse = np.sqrt(mean_squared_error(y_test, forecast))\n",
    "r2 = r2_score(y_test, forecast)\n",
    "\n",
    "print(\"MAE:\", mae)\n",
    "print(\"RMSE:\", rmse)\n",
    "print(\"R²:\", r2)\n",
    "\n",
    "# Step 4: Create a DataFrame for saving\n",
    "results_df = pd.DataFrame({\n",
    "    'Date': y_test.index,\n",
    "    'Actual': y_test.values,\n",
    "    'Forecast': forecast\n",
    "})\n",
    "results_df.set_index('Date', inplace=True)\n",
    "\n",
    "# Step 5: Save to Excel\n",
    "location_name = 'location_0'  # Replace with actual location name\n",
    "output_filename = f'{location_name}_fourier_5yrs.xlsx'\n",
    "results_df.to_excel(output_filename)\n",
    "\n",
    "print(f\"Forecast saved to {output_filename}\")\n"
   ]
  },
  {
   "cell_type": "code",
   "execution_count": null,
   "id": "bf7a3d07-2a49-47ec-a0d4-ac7cc6337ffa",
   "metadata": {},
   "outputs": [],
   "source": []
  }
 ],
 "metadata": {
  "kernelspec": {
   "display_name": "Python 3 (ipykernel)",
   "language": "python",
   "name": "python3"
  },
  "language_info": {
   "codemirror_mode": {
    "name": "ipython",
    "version": 3
   },
   "file_extension": ".py",
   "mimetype": "text/x-python",
   "name": "python",
   "nbconvert_exporter": "python",
   "pygments_lexer": "ipython3",
   "version": "3.12.7"
  }
 },
 "nbformat": 4,
 "nbformat_minor": 5
}
