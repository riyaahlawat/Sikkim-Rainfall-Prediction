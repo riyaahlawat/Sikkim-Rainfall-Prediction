{
 "cells": [
  {
   "cell_type": "code",
   "execution_count": 1,
   "id": "61b1fa8c-5191-4cf1-910c-6995e71a83b2",
   "metadata": {},
   "outputs": [],
   "source": [
    "import pandas as pd\n",
    "import numpy as np\n",
    "import matplotlib.pyplot as plt\n",
    "from tbats import TBATS\n",
    "from sklearn.metrics import mean_absolute_error, mean_squared_error, r2_score\n",
    "\n",
    "# Load the dataset\n",
    "df = pd.read_excel(\"..\\\\datasets\\\\modified_location_0.xlsx\")\n",
    "\n",
    "# Convert 'Date' to datetime format and set as index\n",
    "df['Date'] = pd.to_datetime(df['Date'], format='%Y-%m-%d')\n",
    "df.dropna(subset=['Rainfall (in mm)'], inplace=True)\n",
    "df = df[['Date', 'Rainfall (in mm)']]\n",
    "df.set_index('Date', inplace=True)\n",
    "\n",
    "# Extract the time series\n",
    "rainfall_ts = df['Rainfall (in mm)']"
   ]
  },
  {
   "cell_type": "code",
   "execution_count": 2,
   "id": "80b2e2bb-ab77-47c1-9b1a-f84c452492a9",
   "metadata": {},
   "outputs": [],
   "source": [
    "# Split the data\n",
    "train_start = '2018-01-01'\n",
    "train_end = '2022-12-31'\n",
    "test_start = '2023-01-01'\n",
    "test_end = '2023-12-31'\n",
    "\n",
    "y_train = rainfall_ts.loc[train_start:train_end]\n",
    "y_test = rainfall_ts.loc[test_start:test_end]"
   ]
  },
  {
   "cell_type": "code",
   "execution_count": 3,
   "id": "f0b82f8c-f400-4fde-bae4-c001b69a88c8",
   "metadata": {},
   "outputs": [],
   "source": [
    "# Fit TBATS model with detected seasonality (e.g., yearly = 365)\n",
    "estimator = TBATS(seasonal_periods=[365])\n",
    "tbats_model = estimator.fit(y_train)"
   ]
  },
  {
   "cell_type": "code",
   "execution_count": 4,
   "id": "47e1d486-7503-49a0-87d4-700cd9d27227",
   "metadata": {},
   "outputs": [],
   "source": [
    "# Forecast for the length of the test set\n",
    "horizon = len(y_test)\n",
    "forecast_tbats = tbats_model.forecast(steps=horizon)"
   ]
  },
  {
   "cell_type": "code",
   "execution_count": 5,
   "id": "051e46ad-da4c-49ff-a299-169d17d19977",
   "metadata": {},
   "outputs": [],
   "source": [
    "# Evaluate the forecast\n",
    "mae = mean_absolute_error(y_test, forecast_tbats)\n",
    "mse = mean_squared_error(y_test, forecast_tbats)\n",
    "rmse = np.sqrt(mse)\n",
    "r2 = r2_score(y_test, forecast_tbats)"
   ]
  },
  {
   "cell_type": "code",
   "execution_count": 6,
   "id": "3d27c30d-8dee-4780-974d-dd3e3b72bb30",
   "metadata": {},
   "outputs": [
    {
     "name": "stdout",
     "output_type": "stream",
     "text": [
      "TBATS Forecast Performance:\n",
      "MAE: 9.163\n",
      "MSE: 296.884\n",
      "RMSE: 17.230\n",
      "R² Score: -0.383\n"
     ]
    }
   ],
   "source": [
    "print(\"TBATS Forecast Performance:\")\n",
    "print(f\"MAE: {mae:.3f}\")\n",
    "print(f\"MSE: {mse:.3f}\")\n",
    "print(f\"RMSE: {rmse:.3f}\")\n",
    "print(f\"R² Score: {r2:.3f}\")"
   ]
  },
  {
   "cell_type": "code",
   "execution_count": 7,
   "id": "f0491f86-57a2-4796-82ed-6ad9f180bff4",
   "metadata": {},
   "outputs": [],
   "source": [
    "# # Plot the forecast\n",
    "# plt.figure(figsize=(14, 6))\n",
    "# plt.plot(y_train.index, y_train, label=\"Training Data\", color='blue')\n",
    "# plt.plot(y_test.index, y_test, label=\"Actual (2023-24)\", color='black')\n",
    "# plt.plot(y_test.index, forecast_tbats, label=\"TBATS Forecast\", color='green')\n",
    "# plt.title(\"TBATS Forecast vs Actual Rainfall\")\n",
    "# plt.xlabel(\"Date\")\n",
    "# plt.ylabel(\"Rainfall (in mm)\")\n",
    "# plt.legend()\n",
    "# plt.grid(True)\n",
    "# plt.tight_layout()\n",
    "# plt.show()"
   ]
  },
  {
   "cell_type": "code",
   "execution_count": 9,
   "id": "559060bb-bad3-442b-82ad-7ff33f897f59",
   "metadata": {},
   "outputs": [
    {
     "name": "stdout",
     "output_type": "stream",
     "text": [
      "Forecast results saved to ..\\datasets\\tbats_forecast_results.xlsx\n"
     ]
    }
   ],
   "source": [
    "# Create a DataFrame for saving the results\n",
    "results_df = pd.DataFrame({\n",
    "    'Date': y_test.index,\n",
    "    'Actual': y_test.values,\n",
    "    'Forecast': forecast_tbats\n",
    "})\n",
    "results_df.set_index('Date', inplace=True)\n",
    "\n",
    "# Save to Excel\n",
    "output_filename = '..\\\\datasets\\\\tbats_forecast_results.xlsx'\n",
    "results_df.to_excel(output_filename)\n",
    "\n",
    "print(f\"Forecast results saved to {output_filename}\")"
   ]
  },
  {
   "cell_type": "code",
   "execution_count": null,
   "id": "961a576d-1b6b-481f-a262-59c60b4f27dc",
   "metadata": {},
   "outputs": [],
   "source": []
  }
 ],
 "metadata": {
  "kernelspec": {
   "display_name": "Python 3 (ipykernel)",
   "language": "python",
   "name": "python3"
  },
  "language_info": {
   "codemirror_mode": {
    "name": "ipython",
    "version": 3
   },
   "file_extension": ".py",
   "mimetype": "text/x-python",
   "name": "python",
   "nbconvert_exporter": "python",
   "pygments_lexer": "ipython3",
   "version": "3.12.7"
  }
 },
 "nbformat": 4,
 "nbformat_minor": 5
}
