{
 "cells": [
  {
   "cell_type": "code",
   "execution_count": null,
   "id": "1262abf4-a179-4a67-8f48-5fbdb54d32ca",
   "metadata": {},
   "outputs": [
    {
     "name": "stdout",
     "output_type": "stream",
     "text": [
      "Performing stepwise search to minimize aic\n",
      " ARIMA(0,0,0)(0,0,0)[365] intercept   : AIC=29708.313, Time=0.10 sec\n"
     ]
    }
   ],
   "source": [
    "# --- Step 1: Load and prepare the data ---\n",
    "import pandas as pd\n",
    "\n",
    "# Load dataset\n",
    "df = pd.read_excel(\"../datasets/modified_location_0.xlsx\")\n",
    "\n",
    "# Convert 'Date' column to datetime format\n",
    "df['Date'] = pd.to_datetime(df['Date'])\n",
    "\n",
    "# Drop rows with missing rainfall values\n",
    "df.dropna(subset=['Rainfall (in mm)'], inplace=True)\n",
    "\n",
    "# Set 'Date' as the index and select rainfall series\n",
    "df.set_index('Date', inplace=True)\n",
    "rainfall_ts = df['Rainfall (in mm)']\n",
    "\n",
    "# --- Step 2: Split data into train and test ---\n",
    "train = rainfall_ts['2018-01-01':'2022-12-31']\n",
    "test = rainfall_ts['2023-01-01':'2024-12-31']\n",
    "\n",
    "# --- Step 3: Fit SARIMA Model (Memory-optimized) ---\n",
    "from pmdarima import auto_arima\n",
    "\n",
    "model = auto_arima(train,\n",
    "                   start_p=0, start_q=0,\n",
    "                   max_p=2, max_q=2,\n",
    "                   d=None,           # let it infer\n",
    "                   seasonal=True,\n",
    "                   m=365,            # yearly seasonality for daily data\n",
    "                   start_P=0, start_Q=0,\n",
    "                   max_P=1, max_Q=1, max_D=1,\n",
    "                   stepwise=True,\n",
    "                   n_fits=10,        # limit number of model fits\n",
    "                   error_action='ignore',\n",
    "                   suppress_warnings=True,\n",
    "                   trace=True,\n",
    "                   max_order=5)      # total p+q+P+Q <= 5 to limit complexity\n",
    "\n",
    "# --- Step 4: Forecast ---\n",
    "forecast_period = len(test)\n",
    "forecast_values = model.predict(n_periods=forecast_period)\n",
    "\n",
    "# --- Step 5: Evaluate Forecast ---\n",
    "from sklearn.metrics import mean_absolute_error, mean_squared_error, r2_score\n",
    "import numpy as np\n",
    "\n",
    "mae = mean_absolute_error(test, forecast_values)\n",
    "mse = mean_squared_error(test, forecast_values)\n",
    "rmse = np.sqrt(mse)\n",
    "r2 = r2_score(test, forecast_values)\n",
    "\n",
    "print(\"\\n--- SARIMA Forecast Evaluation ---\")\n",
    "print(f\"MAE: {mae:.2f}\")\n",
    "print(f\"MSE: {mse:.2f}\")\n",
    "print(f\"RMSE: {rmse:.2f}\")\n",
    "print(f\"R2 Score: {r2:.4f}\")\n",
    "\n",
    "# --- Step 6: Plot Results ---\n",
    "import matplotlib.pyplot as plt\n",
    "\n",
    "plt.figure(figsize=(14,6))\n",
    "plt.plot(test.index, test.values, label='Actual')\n",
    "plt.plot(test.index, forecast_values, label='Forecast', linestyle='--')\n",
    "plt.title(\"SARIMA Forecast vs Actual Rainfall (2023-2024)\")\n",
    "plt.xlabel(\"Date\")\n",
    "plt.ylabel(\"Rainfall (mm)\")\n",
    "plt.legend()\n",
    "plt.grid(True)\n",
    "plt.tight_layout()\n",
    "plt.show()"
   ]
  },
  {
   "cell_type": "code",
   "execution_count": null,
   "id": "544305e0-74b8-4d71-946f-9ed874f252ab",
   "metadata": {},
   "outputs": [],
   "source": []
  }
 ],
 "metadata": {
  "kernelspec": {
   "display_name": "Python 3 (ipykernel)",
   "language": "python",
   "name": "python3"
  },
  "language_info": {
   "codemirror_mode": {
    "name": "ipython",
    "version": 3
   },
   "file_extension": ".py",
   "mimetype": "text/x-python",
   "name": "python",
   "nbconvert_exporter": "python",
   "pygments_lexer": "ipython3",
   "version": "3.12.7"
  }
 },
 "nbformat": 4,
 "nbformat_minor": 5
}
