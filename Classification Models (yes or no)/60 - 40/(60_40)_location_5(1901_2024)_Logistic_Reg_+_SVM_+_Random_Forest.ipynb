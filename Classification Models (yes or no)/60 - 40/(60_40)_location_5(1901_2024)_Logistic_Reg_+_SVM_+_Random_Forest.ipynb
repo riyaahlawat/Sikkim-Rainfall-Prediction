{
  "cells": [
    {
      "cell_type": "code",
      "execution_count": null,
      "id": "e8659e51-560c-46bd-a656-22ab01e2e32d",
      "metadata": {
        "id": "e8659e51-560c-46bd-a656-22ab01e2e32d"
      },
      "outputs": [],
      "source": [
        "# Predicting rainfall - yes / no (boolean values)"
      ]
    },
    {
      "cell_type": "code",
      "source": [
        "from google.colab import files\n",
        "\n",
        "# Upload dataset manually\n",
        "uploaded = files.upload()"
      ],
      "metadata": {
        "colab": {
          "base_uri": "https://localhost:8080/",
          "height": 91
        },
        "id": "lWtonqBY5NqB",
        "outputId": "368476bf-a795-4d8d-bc7e-3e4ea00b54ee"
      },
      "id": "lWtonqBY5NqB",
      "execution_count": 118,
      "outputs": [
        {
          "output_type": "display_data",
          "data": {
            "text/plain": [
              "<IPython.core.display.HTML object>"
            ],
            "text/html": [
              "\n",
              "     <input type=\"file\" id=\"files-e95bcfcd-30d8-4ac1-abd7-0227b06665fd\" name=\"files[]\" multiple disabled\n",
              "        style=\"border:none\" />\n",
              "     <output id=\"result-e95bcfcd-30d8-4ac1-abd7-0227b06665fd\">\n",
              "      Upload widget is only available when the cell has been executed in the\n",
              "      current browser session. Please rerun this cell to enable.\n",
              "      </output>\n",
              "      <script>// Copyright 2017 Google LLC\n",
              "//\n",
              "// Licensed under the Apache License, Version 2.0 (the \"License\");\n",
              "// you may not use this file except in compliance with the License.\n",
              "// You may obtain a copy of the License at\n",
              "//\n",
              "//      http://www.apache.org/licenses/LICENSE-2.0\n",
              "//\n",
              "// Unless required by applicable law or agreed to in writing, software\n",
              "// distributed under the License is distributed on an \"AS IS\" BASIS,\n",
              "// WITHOUT WARRANTIES OR CONDITIONS OF ANY KIND, either express or implied.\n",
              "// See the License for the specific language governing permissions and\n",
              "// limitations under the License.\n",
              "\n",
              "/**\n",
              " * @fileoverview Helpers for google.colab Python module.\n",
              " */\n",
              "(function(scope) {\n",
              "function span(text, styleAttributes = {}) {\n",
              "  const element = document.createElement('span');\n",
              "  element.textContent = text;\n",
              "  for (const key of Object.keys(styleAttributes)) {\n",
              "    element.style[key] = styleAttributes[key];\n",
              "  }\n",
              "  return element;\n",
              "}\n",
              "\n",
              "// Max number of bytes which will be uploaded at a time.\n",
              "const MAX_PAYLOAD_SIZE = 100 * 1024;\n",
              "\n",
              "function _uploadFiles(inputId, outputId) {\n",
              "  const steps = uploadFilesStep(inputId, outputId);\n",
              "  const outputElement = document.getElementById(outputId);\n",
              "  // Cache steps on the outputElement to make it available for the next call\n",
              "  // to uploadFilesContinue from Python.\n",
              "  outputElement.steps = steps;\n",
              "\n",
              "  return _uploadFilesContinue(outputId);\n",
              "}\n",
              "\n",
              "// This is roughly an async generator (not supported in the browser yet),\n",
              "// where there are multiple asynchronous steps and the Python side is going\n",
              "// to poll for completion of each step.\n",
              "// This uses a Promise to block the python side on completion of each step,\n",
              "// then passes the result of the previous step as the input to the next step.\n",
              "function _uploadFilesContinue(outputId) {\n",
              "  const outputElement = document.getElementById(outputId);\n",
              "  const steps = outputElement.steps;\n",
              "\n",
              "  const next = steps.next(outputElement.lastPromiseValue);\n",
              "  return Promise.resolve(next.value.promise).then((value) => {\n",
              "    // Cache the last promise value to make it available to the next\n",
              "    // step of the generator.\n",
              "    outputElement.lastPromiseValue = value;\n",
              "    return next.value.response;\n",
              "  });\n",
              "}\n",
              "\n",
              "/**\n",
              " * Generator function which is called between each async step of the upload\n",
              " * process.\n",
              " * @param {string} inputId Element ID of the input file picker element.\n",
              " * @param {string} outputId Element ID of the output display.\n",
              " * @return {!Iterable<!Object>} Iterable of next steps.\n",
              " */\n",
              "function* uploadFilesStep(inputId, outputId) {\n",
              "  const inputElement = document.getElementById(inputId);\n",
              "  inputElement.disabled = false;\n",
              "\n",
              "  const outputElement = document.getElementById(outputId);\n",
              "  outputElement.innerHTML = '';\n",
              "\n",
              "  const pickedPromise = new Promise((resolve) => {\n",
              "    inputElement.addEventListener('change', (e) => {\n",
              "      resolve(e.target.files);\n",
              "    });\n",
              "  });\n",
              "\n",
              "  const cancel = document.createElement('button');\n",
              "  inputElement.parentElement.appendChild(cancel);\n",
              "  cancel.textContent = 'Cancel upload';\n",
              "  const cancelPromise = new Promise((resolve) => {\n",
              "    cancel.onclick = () => {\n",
              "      resolve(null);\n",
              "    };\n",
              "  });\n",
              "\n",
              "  // Wait for the user to pick the files.\n",
              "  const files = yield {\n",
              "    promise: Promise.race([pickedPromise, cancelPromise]),\n",
              "    response: {\n",
              "      action: 'starting',\n",
              "    }\n",
              "  };\n",
              "\n",
              "  cancel.remove();\n",
              "\n",
              "  // Disable the input element since further picks are not allowed.\n",
              "  inputElement.disabled = true;\n",
              "\n",
              "  if (!files) {\n",
              "    return {\n",
              "      response: {\n",
              "        action: 'complete',\n",
              "      }\n",
              "    };\n",
              "  }\n",
              "\n",
              "  for (const file of files) {\n",
              "    const li = document.createElement('li');\n",
              "    li.append(span(file.name, {fontWeight: 'bold'}));\n",
              "    li.append(span(\n",
              "        `(${file.type || 'n/a'}) - ${file.size} bytes, ` +\n",
              "        `last modified: ${\n",
              "            file.lastModifiedDate ? file.lastModifiedDate.toLocaleDateString() :\n",
              "                                    'n/a'} - `));\n",
              "    const percent = span('0% done');\n",
              "    li.appendChild(percent);\n",
              "\n",
              "    outputElement.appendChild(li);\n",
              "\n",
              "    const fileDataPromise = new Promise((resolve) => {\n",
              "      const reader = new FileReader();\n",
              "      reader.onload = (e) => {\n",
              "        resolve(e.target.result);\n",
              "      };\n",
              "      reader.readAsArrayBuffer(file);\n",
              "    });\n",
              "    // Wait for the data to be ready.\n",
              "    let fileData = yield {\n",
              "      promise: fileDataPromise,\n",
              "      response: {\n",
              "        action: 'continue',\n",
              "      }\n",
              "    };\n",
              "\n",
              "    // Use a chunked sending to avoid message size limits. See b/62115660.\n",
              "    let position = 0;\n",
              "    do {\n",
              "      const length = Math.min(fileData.byteLength - position, MAX_PAYLOAD_SIZE);\n",
              "      const chunk = new Uint8Array(fileData, position, length);\n",
              "      position += length;\n",
              "\n",
              "      const base64 = btoa(String.fromCharCode.apply(null, chunk));\n",
              "      yield {\n",
              "        response: {\n",
              "          action: 'append',\n",
              "          file: file.name,\n",
              "          data: base64,\n",
              "        },\n",
              "      };\n",
              "\n",
              "      let percentDone = fileData.byteLength === 0 ?\n",
              "          100 :\n",
              "          Math.round((position / fileData.byteLength) * 100);\n",
              "      percent.textContent = `${percentDone}% done`;\n",
              "\n",
              "    } while (position < fileData.byteLength);\n",
              "  }\n",
              "\n",
              "  // All done.\n",
              "  yield {\n",
              "    response: {\n",
              "      action: 'complete',\n",
              "    }\n",
              "  };\n",
              "}\n",
              "\n",
              "scope.google = scope.google || {};\n",
              "scope.google.colab = scope.google.colab || {};\n",
              "scope.google.colab._files = {\n",
              "  _uploadFiles,\n",
              "  _uploadFilesContinue,\n",
              "};\n",
              "})(self);\n",
              "</script> "
            ]
          },
          "metadata": {}
        },
        {
          "output_type": "stream",
          "name": "stdout",
          "text": [
            "Saving modified_location_5.xlsx to modified_location_5.xlsx\n"
          ]
        }
      ]
    },
    {
      "cell_type": "code",
      "execution_count": 119,
      "id": "294cf10d-1ef4-4fe2-9ca6-7308dd725710",
      "metadata": {
        "id": "294cf10d-1ef4-4fe2-9ca6-7308dd725710"
      },
      "outputs": [],
      "source": [
        "import numpy as np\n",
        "import pandas as pd\n",
        "import matplotlib.pyplot as plt\n",
        "import seaborn as sns\n",
        "# Ensure inline plotting if using Jupyter Notebook\n",
        "%matplotlib inline\n",
        "from sklearn.model_selection import train_test_split\n",
        "from sklearn.metrics import classification_report,accuracy_score"
      ]
    },
    {
      "cell_type": "code",
      "execution_count": null,
      "id": "f1859df7-4736-4795-b651-ed30f1926b8d",
      "metadata": {
        "id": "f1859df7-4736-4795-b651-ed30f1926b8d"
      },
      "outputs": [],
      "source": [
        "import pandas as pd\n",
        "\n",
        "# 1978 to 2022\n",
        "file_path = \"modified_location_3.xlsx\"\n",
        "\n",
        "# Read the Excel file\n",
        "data = pd.read_excel(file_path)\n",
        "\n",
        "# Display the first few rows of the data\n",
        "print(data.head())"
      ]
    },
    {
      "cell_type": "code",
      "execution_count": null,
      "id": "93dbc3e4-d613-43eb-87d3-ccc0d31c030a",
      "metadata": {
        "id": "93dbc3e4-d613-43eb-87d3-ccc0d31c030a"
      },
      "outputs": [],
      "source": [
        "data.shape"
      ]
    },
    {
      "cell_type": "code",
      "execution_count": null,
      "id": "d3ae34a7",
      "metadata": {
        "id": "d3ae34a7"
      },
      "outputs": [],
      "source": [
        "print(data.columns)"
      ]
    },
    {
      "cell_type": "code",
      "execution_count": null,
      "id": "ad4dbc22-6d46-47b2-8d9e-9a007a57a0d9",
      "metadata": {
        "id": "ad4dbc22-6d46-47b2-8d9e-9a007a57a0d9"
      },
      "outputs": [],
      "source": [
        "data.head()\n",
        "\n",
        "# divided in classes - 1 for rainfall, 0 for no rainfall"
      ]
    },
    {
      "cell_type": "code",
      "execution_count": null,
      "id": "e6e2c070-bd91-4be0-a81c-a47ea15faaf3",
      "metadata": {
        "id": "e6e2c070-bd91-4be0-a81c-a47ea15faaf3"
      },
      "outputs": [],
      "source": [
        "data['hasRainfall'].value_counts()"
      ]
    },
    {
      "cell_type": "code",
      "execution_count": null,
      "id": "1e93bd93-3545-490a-9502-90f1633a1f22",
      "metadata": {
        "id": "1e93bd93-3545-490a-9502-90f1633a1f22"
      },
      "outputs": [],
      "source": [
        "data.info()"
      ]
    },
    {
      "cell_type": "code",
      "execution_count": null,
      "id": "2196244e-1256-4a22-bc53-457cff7e9b40",
      "metadata": {
        "id": "2196244e-1256-4a22-bc53-457cff7e9b40"
      },
      "outputs": [],
      "source": [
        "data['Day_of_Week'] = data['Date'].dt.dayofweek  # Day of the week (0=Monday, 6=Sunday)\n",
        "data['Day_of_Year'] = data['Date'].dt.dayofyear  # Day of the year (1-365/366)"
      ]
    },
    {
      "cell_type": "code",
      "execution_count": null,
      "id": "4cf41261",
      "metadata": {
        "id": "4cf41261"
      },
      "outputs": [],
      "source": [
        "print(data.columns)"
      ]
    },
    {
      "cell_type": "code",
      "execution_count": null,
      "id": "c5d8367e-b136-4f64-a1bd-5ab0fdc14ab4",
      "metadata": {
        "id": "c5d8367e-b136-4f64-a1bd-5ab0fdc14ab4"
      },
      "outputs": [],
      "source": [
        "from sklearn.preprocessing import LabelEncoder\n",
        "label_encoder = LabelEncoder()\n",
        "data['Season'] = label_encoder.fit_transform(data['Season'])"
      ]
    },
    {
      "cell_type": "code",
      "execution_count": null,
      "id": "e76e2f6b-ce5c-4180-b06b-5c57dfe1e461",
      "metadata": {
        "id": "e76e2f6b-ce5c-4180-b06b-5c57dfe1e461"
      },
      "outputs": [],
      "source": [
        "X = data.drop(['Landslide_possibility','Location','hasRainfall','Quarter','Date','Day','Rainfall (in mm)'] , axis = 1)\n",
        "y = data['hasRainfall']\n",
        "X_train , X_test , y_train , y_test = train_test_split(X , y , test_size = 0.4 , random_state = 1)"
      ]
    },
    {
      "cell_type": "code",
      "execution_count": null,
      "id": "d020faa0-6adb-43a9-aa4e-b5df665c2521",
      "metadata": {
        "id": "d020faa0-6adb-43a9-aa4e-b5df665c2521"
      },
      "outputs": [],
      "source": [
        "print(X.columns)"
      ]
    },
    {
      "cell_type": "code",
      "execution_count": null,
      "id": "283989bb-6899-4937-99d8-1c42cd629607",
      "metadata": {
        "id": "283989bb-6899-4937-99d8-1c42cd629607"
      },
      "outputs": [],
      "source": [
        "# LOGISTIC REGRESSION"
      ]
    },
    {
      "cell_type": "code",
      "execution_count": null,
      "id": "0c94ecbe-9b6f-466c-a59f-aac938b755cc",
      "metadata": {
        "id": "0c94ecbe-9b6f-466c-a59f-aac938b755cc"
      },
      "outputs": [],
      "source": [
        "from sklearn.linear_model import LogisticRegression\n",
        "model = LogisticRegression()\n",
        "model.fit(X_train , y_train)"
      ]
    },
    {
      "cell_type": "code",
      "execution_count": null,
      "id": "0705fda6-4bf1-467d-9805-24c7e13f9266",
      "metadata": {
        "id": "0705fda6-4bf1-467d-9805-24c7e13f9266"
      },
      "outputs": [],
      "source": [
        "y_pred = model.predict(X_test)"
      ]
    },
    {
      "cell_type": "code",
      "execution_count": null,
      "id": "45205eb4-8a89-4166-8535-0924f2083121",
      "metadata": {
        "id": "45205eb4-8a89-4166-8535-0924f2083121"
      },
      "outputs": [],
      "source": [
        "print(\"Accuracy:\", accuracy_score(y_test, y_pred))\n",
        "print(\"Classification Report:\\n\", classification_report(y_test, y_pred))"
      ]
    },
    {
      "cell_type": "code",
      "execution_count": null,
      "id": "5c747392-74d8-45d2-b34c-fa468ab9f48b",
      "metadata": {
        "id": "5c747392-74d8-45d2-b34c-fa468ab9f48b"
      },
      "outputs": [],
      "source": [
        "# SUPPORT VECTOR CLASSIFIER"
      ]
    },
    {
      "cell_type": "code",
      "execution_count": null,
      "id": "234bcfeb-1fbd-4337-91a6-e4c73e8e701c",
      "metadata": {
        "id": "234bcfeb-1fbd-4337-91a6-e4c73e8e701c"
      },
      "outputs": [],
      "source": [
        "from sklearn.linear_model import SGDClassifier\n",
        "# changed from SVC() then LinearSVC()\n",
        "model = SGDClassifier(loss=\"hinge\")  # Hinge loss is used for SVM\n",
        "model.fit(X_train, y_train)\n",
        "y_pred = model.predict(X_test)\n",
        "print(\"Accuracy:\", accuracy_score(y_test, y_pred))\n",
        "print(\"Classification Report:\\n\", classification_report(y_test, y_pred))"
      ]
    },
    {
      "cell_type": "code",
      "execution_count": null,
      "id": "750e589e-fc55-4d86-b051-805fbd98468c",
      "metadata": {
        "id": "750e589e-fc55-4d86-b051-805fbd98468c"
      },
      "outputs": [],
      "source": [
        "# RANDOM FOREST CLASSIFIER"
      ]
    },
    {
      "cell_type": "code",
      "execution_count": null,
      "id": "47ea4022-61f2-4203-be64-7fd384599ed6",
      "metadata": {
        "id": "47ea4022-61f2-4203-be64-7fd384599ed6"
      },
      "outputs": [],
      "source": [
        "from sklearn.ensemble import RandomForestClassifier\n",
        "\n",
        "model = RandomForestClassifier()\n",
        "model.fit(X_train, y_train)\n",
        "y_pred = model.predict(X_test)\n",
        "print(\"Accuracy:\", accuracy_score(y_test, y_pred))\n",
        "print(\"Classification Report:\\n\", classification_report(y_test, y_pred))"
      ]
    },
    {
      "cell_type": "code",
      "execution_count": null,
      "id": "dc1e5c15-7ea4-48c5-be85-6944b106eb32",
      "metadata": {
        "id": "dc1e5c15-7ea4-48c5-be85-6944b106eb32"
      },
      "outputs": [],
      "source": [
        "new = data[data['Location'] == 0]\n",
        "new.head()"
      ]
    },
    {
      "cell_type": "code",
      "execution_count": null,
      "id": "78ffb52c-ebc2-4915-a8e9-10209d8959ef",
      "metadata": {
        "id": "78ffb52c-ebc2-4915-a8e9-10209d8959ef"
      },
      "outputs": [],
      "source": [
        "new.shape"
      ]
    },
    {
      "cell_type": "code",
      "execution_count": null,
      "id": "fe367800-c70b-4748-ac1a-01bac5d13855",
      "metadata": {
        "id": "fe367800-c70b-4748-ac1a-01bac5d13855"
      },
      "outputs": [],
      "source": [
        "monthly_location_rainfall = data.groupby(['Month','Location'])['Rainfall (in mm)'].sum().reset_index()\n",
        "monthly_location_rainfall"
      ]
    },
    {
      "cell_type": "code",
      "execution_count": null,
      "id": "dc4f7d53-1100-4153-832c-03acf29e3d50",
      "metadata": {
        "id": "dc4f7d53-1100-4153-832c-03acf29e3d50"
      },
      "outputs": [],
      "source": [
        "# g = sns.FacetGrid(data = monthly_location_rainfall , col=\"Location\", col_wrap=4, height=4)\n",
        "# g.map(sns.barplot , 'Month' , 'Rainfall (in mm)',order=range(1, 13))\n",
        "\n",
        "sns.catplot(\n",
        "    data=monthly_location_rainfall,\n",
        "    kind=\"bar\",\n",
        "    x=\"Month\",\n",
        "    y=\"Rainfall (in mm)\",\n",
        "    col=\"Location\",\n",
        "    col_wrap=4,\n",
        "    order=range(1, 13),\n",
        "    height=4\n",
        ")"
      ]
    },
    {
      "cell_type": "code",
      "source": [],
      "metadata": {
        "id": "bHKZb55S7OZO"
      },
      "id": "bHKZb55S7OZO",
      "execution_count": null,
      "outputs": []
    }
  ],
  "metadata": {
    "kernelspec": {
      "display_name": "Python 3 (ipykernel)",
      "language": "python",
      "name": "python3"
    },
    "language_info": {
      "codemirror_mode": {
        "name": "ipython",
        "version": 3
      },
      "file_extension": ".py",
      "mimetype": "text/x-python",
      "name": "python",
      "nbconvert_exporter": "python",
      "pygments_lexer": "ipython3",
      "version": "3.12.7"
    },
    "colab": {
      "provenance": []
    }
  },
  "nbformat": 4,
  "nbformat_minor": 5
}