{
 "cells": [
  {
   "cell_type": "code",
   "execution_count": 1,
   "id": "6a2dff56-1216-443e-9504-dd87b1dce49d",
   "metadata": {},
   "outputs": [],
   "source": [
    "# Predicting rainfall - yes / no (boolean values)"
   ]
  },
  {
   "cell_type": "code",
   "execution_count": 2,
   "id": "294cf10d-1ef4-4fe2-9ca6-7308dd725710",
   "metadata": {},
   "outputs": [],
   "source": [
    "import numpy as np\n",
    "import pandas as pd\n",
    "import matplotlib.pyplot as plt\n",
    "import seaborn as sns\n",
    "# Ensure inline plotting if using Jupyter Notebook\n",
    "%matplotlib inline\n",
    "from sklearn.model_selection import train_test_split\n",
    "from sklearn.metrics import classification_report,accuracy_score"
   ]
  },
  {
   "cell_type": "code",
   "execution_count": 6,
   "id": "f1859df7-4736-4795-b651-ed30f1926b8d",
   "metadata": {},
   "outputs": [
    {
     "name": "stdout",
     "output_type": "stream",
     "text": [
      "        Date    Day  Year  Month Location  Rainfall (in mm)  Latitude  \\\n",
      "0 1901-01-01  Day_1  1901      1    Loc_0               3.0     27.25   \n",
      "1 1901-01-02  Day_2  1901      1    Loc_0               8.0     27.25   \n",
      "2 1901-01-03  Day_3  1901      1    Loc_0               0.0     27.25   \n",
      "3 1901-01-04  Day_4  1901      1    Loc_0               0.0     27.25   \n",
      "4 1901-01-05  Day_5  1901      1    Loc_0               0.0     27.25   \n",
      "\n",
      "   Longitude  Quarter  Cumulative_Rainfall  Previous_Day_Rainfall  Weekly Sum  \\\n",
      "0      88.25        1                  3.0                    0.0         3.0   \n",
      "1      88.25        1                 11.0                    3.0        11.0   \n",
      "2      88.25        1                 11.0                    8.0        11.0   \n",
      "3      88.25        1                  8.0                    0.0        11.0   \n",
      "4      88.25        1                  0.0                    0.0        11.0   \n",
      "\n",
      "   Weekly_Average hasRainfall Landslide_possibility  Season  \\\n",
      "0        3.000000         yes                    no  Winter   \n",
      "1        5.500000         yes                    no  Winter   \n",
      "2        3.666667          no                    no  Winter   \n",
      "3        2.750000          no                    no  Winter   \n",
      "4        2.200000          no                    no  Winter   \n",
      "\n",
      "              Location_File  \n",
      "0  modified_location_0.xlsx  \n",
      "1  modified_location_0.xlsx  \n",
      "2  modified_location_0.xlsx  \n",
      "3  modified_location_0.xlsx  \n",
      "4  modified_location_0.xlsx  \n"
     ]
    }
   ],
   "source": [
    "import pandas as pd\n",
    "\n",
    "# 1978 to 2022\n",
    "file_path =r\"C:\\Users\\apoor\\OneDrive\\Desktop\\sikkim.data\\all_combined_rainfall_data.xlsx\"\n",
    "\n",
    "# Read the Excel file\n",
    "data = pd.read_excel(file_path)\n",
    "\n",
    "# Display the first few rows of the data\n",
    "print(data.head())"
   ]
  },
  {
   "cell_type": "code",
   "execution_count": 32,
   "id": "93dbc3e4-d613-43eb-87d3-ccc0d31c030a",
   "metadata": {},
   "outputs": [
    {
     "data": {
      "text/plain": [
       "(677600, 20)"
      ]
     },
     "execution_count": 32,
     "metadata": {},
     "output_type": "execute_result"
    }
   ],
   "source": [
    "data.shape"
   ]
  },
  {
   "cell_type": "code",
   "execution_count": 33,
   "id": "d3ae34a7",
   "metadata": {},
   "outputs": [
    {
     "name": "stdout",
     "output_type": "stream",
     "text": [
      "Index(['Date', 'Day', 'Year', 'Month', 'Location', 'Rainfall (in mm)',\n",
      "       'Latitude', 'Longitude', 'Quarter', 'Cumulative_Rainfall',\n",
      "       'Previous_Day_Rainfall', 'Weekly Sum', 'Weekly_Average', 'hasRainfall',\n",
      "       'Landslide_possibility', 'Season', 'Location_File', 'class',\n",
      "       'Day_of_Week', 'Day_of_Year'],\n",
      "      dtype='object')\n"
     ]
    }
   ],
   "source": [
    "print(data.columns)"
   ]
  },
  {
   "cell_type": "code",
   "execution_count": 34,
   "id": "ad4dbc22-6d46-47b2-8d9e-9a007a57a0d9",
   "metadata": {},
   "outputs": [
    {
     "data": {
      "text/html": [
       "<div>\n",
       "<style scoped>\n",
       "    .dataframe tbody tr th:only-of-type {\n",
       "        vertical-align: middle;\n",
       "    }\n",
       "\n",
       "    .dataframe tbody tr th {\n",
       "        vertical-align: top;\n",
       "    }\n",
       "\n",
       "    .dataframe thead th {\n",
       "        text-align: right;\n",
       "    }\n",
       "</style>\n",
       "<table border=\"1\" class=\"dataframe\">\n",
       "  <thead>\n",
       "    <tr style=\"text-align: right;\">\n",
       "      <th></th>\n",
       "      <th>Date</th>\n",
       "      <th>Day</th>\n",
       "      <th>Year</th>\n",
       "      <th>Month</th>\n",
       "      <th>Location</th>\n",
       "      <th>Rainfall (in mm)</th>\n",
       "      <th>Latitude</th>\n",
       "      <th>Longitude</th>\n",
       "      <th>Quarter</th>\n",
       "      <th>Cumulative_Rainfall</th>\n",
       "      <th>Previous_Day_Rainfall</th>\n",
       "      <th>Weekly Sum</th>\n",
       "      <th>Weekly_Average</th>\n",
       "      <th>hasRainfall</th>\n",
       "      <th>Landslide_possibility</th>\n",
       "      <th>Season</th>\n",
       "      <th>Location_File</th>\n",
       "      <th>class</th>\n",
       "      <th>Day_of_Week</th>\n",
       "      <th>Day_of_Year</th>\n",
       "    </tr>\n",
       "  </thead>\n",
       "  <tbody>\n",
       "    <tr>\n",
       "      <th>0</th>\n",
       "      <td>1901-01-01</td>\n",
       "      <td>Day_1</td>\n",
       "      <td>1901</td>\n",
       "      <td>1</td>\n",
       "      <td>0</td>\n",
       "      <td>3.0</td>\n",
       "      <td>27.25</td>\n",
       "      <td>88.25</td>\n",
       "      <td>1</td>\n",
       "      <td>3.0</td>\n",
       "      <td>0.0</td>\n",
       "      <td>3.0</td>\n",
       "      <td>3.000000</td>\n",
       "      <td>yes</td>\n",
       "      <td>no</td>\n",
       "      <td>Winter</td>\n",
       "      <td>modified_location_0.xlsx</td>\n",
       "      <td>1</td>\n",
       "      <td>1</td>\n",
       "      <td>1</td>\n",
       "    </tr>\n",
       "    <tr>\n",
       "      <th>1</th>\n",
       "      <td>1901-01-02</td>\n",
       "      <td>Day_2</td>\n",
       "      <td>1901</td>\n",
       "      <td>1</td>\n",
       "      <td>0</td>\n",
       "      <td>8.0</td>\n",
       "      <td>27.25</td>\n",
       "      <td>88.25</td>\n",
       "      <td>1</td>\n",
       "      <td>11.0</td>\n",
       "      <td>3.0</td>\n",
       "      <td>11.0</td>\n",
       "      <td>5.500000</td>\n",
       "      <td>yes</td>\n",
       "      <td>no</td>\n",
       "      <td>Winter</td>\n",
       "      <td>modified_location_0.xlsx</td>\n",
       "      <td>1</td>\n",
       "      <td>2</td>\n",
       "      <td>2</td>\n",
       "    </tr>\n",
       "    <tr>\n",
       "      <th>2</th>\n",
       "      <td>1901-01-03</td>\n",
       "      <td>Day_3</td>\n",
       "      <td>1901</td>\n",
       "      <td>1</td>\n",
       "      <td>0</td>\n",
       "      <td>0.0</td>\n",
       "      <td>27.25</td>\n",
       "      <td>88.25</td>\n",
       "      <td>1</td>\n",
       "      <td>11.0</td>\n",
       "      <td>8.0</td>\n",
       "      <td>11.0</td>\n",
       "      <td>3.666667</td>\n",
       "      <td>no</td>\n",
       "      <td>no</td>\n",
       "      <td>Winter</td>\n",
       "      <td>modified_location_0.xlsx</td>\n",
       "      <td>0</td>\n",
       "      <td>3</td>\n",
       "      <td>3</td>\n",
       "    </tr>\n",
       "    <tr>\n",
       "      <th>3</th>\n",
       "      <td>1901-01-04</td>\n",
       "      <td>Day_4</td>\n",
       "      <td>1901</td>\n",
       "      <td>1</td>\n",
       "      <td>0</td>\n",
       "      <td>0.0</td>\n",
       "      <td>27.25</td>\n",
       "      <td>88.25</td>\n",
       "      <td>1</td>\n",
       "      <td>8.0</td>\n",
       "      <td>0.0</td>\n",
       "      <td>11.0</td>\n",
       "      <td>2.750000</td>\n",
       "      <td>no</td>\n",
       "      <td>no</td>\n",
       "      <td>Winter</td>\n",
       "      <td>modified_location_0.xlsx</td>\n",
       "      <td>0</td>\n",
       "      <td>4</td>\n",
       "      <td>4</td>\n",
       "    </tr>\n",
       "    <tr>\n",
       "      <th>4</th>\n",
       "      <td>1901-01-05</td>\n",
       "      <td>Day_5</td>\n",
       "      <td>1901</td>\n",
       "      <td>1</td>\n",
       "      <td>0</td>\n",
       "      <td>0.0</td>\n",
       "      <td>27.25</td>\n",
       "      <td>88.25</td>\n",
       "      <td>1</td>\n",
       "      <td>0.0</td>\n",
       "      <td>0.0</td>\n",
       "      <td>11.0</td>\n",
       "      <td>2.200000</td>\n",
       "      <td>no</td>\n",
       "      <td>no</td>\n",
       "      <td>Winter</td>\n",
       "      <td>modified_location_0.xlsx</td>\n",
       "      <td>0</td>\n",
       "      <td>5</td>\n",
       "      <td>5</td>\n",
       "    </tr>\n",
       "  </tbody>\n",
       "</table>\n",
       "</div>"
      ],
      "text/plain": [
       "        Date    Day  Year  Month  Location  Rainfall (in mm)  Latitude  \\\n",
       "0 1901-01-01  Day_1  1901      1         0               3.0     27.25   \n",
       "1 1901-01-02  Day_2  1901      1         0               8.0     27.25   \n",
       "2 1901-01-03  Day_3  1901      1         0               0.0     27.25   \n",
       "3 1901-01-04  Day_4  1901      1         0               0.0     27.25   \n",
       "4 1901-01-05  Day_5  1901      1         0               0.0     27.25   \n",
       "\n",
       "   Longitude  Quarter  Cumulative_Rainfall  Previous_Day_Rainfall  Weekly Sum  \\\n",
       "0      88.25        1                  3.0                    0.0         3.0   \n",
       "1      88.25        1                 11.0                    3.0        11.0   \n",
       "2      88.25        1                 11.0                    8.0        11.0   \n",
       "3      88.25        1                  8.0                    0.0        11.0   \n",
       "4      88.25        1                  0.0                    0.0        11.0   \n",
       "\n",
       "   Weekly_Average hasRainfall Landslide_possibility  Season  \\\n",
       "0        3.000000         yes                    no  Winter   \n",
       "1        5.500000         yes                    no  Winter   \n",
       "2        3.666667          no                    no  Winter   \n",
       "3        2.750000          no                    no  Winter   \n",
       "4        2.200000          no                    no  Winter   \n",
       "\n",
       "              Location_File  class  Day_of_Week  Day_of_Year  \n",
       "0  modified_location_0.xlsx      1            1            1  \n",
       "1  modified_location_0.xlsx      1            2            2  \n",
       "2  modified_location_0.xlsx      0            3            3  \n",
       "3  modified_location_0.xlsx      0            4            4  \n",
       "4  modified_location_0.xlsx      0            5            5  "
      ]
     },
     "execution_count": 34,
     "metadata": {},
     "output_type": "execute_result"
    }
   ],
   "source": [
    "data['class'] = data['Rainfall (in mm)'].apply(lambda x : 1 if x > 0 else 0)\n",
    "data.head()\n",
    "\n",
    "# divided in classes - 1 for rainfall, 0 for no rainfall"
   ]
  },
  {
   "cell_type": "code",
   "execution_count": 35,
   "id": "e6e2c070-bd91-4be0-a81c-a47ea15faaf3",
   "metadata": {},
   "outputs": [
    {
     "data": {
      "text/plain": [
       "class\n",
       "1    365613\n",
       "0    311987\n",
       "Name: count, dtype: int64"
      ]
     },
     "execution_count": 35,
     "metadata": {},
     "output_type": "execute_result"
    }
   ],
   "source": [
    "data['class'].value_counts()"
   ]
  },
  {
   "cell_type": "code",
   "execution_count": 36,
   "id": "1e93bd93-3545-490a-9502-90f1633a1f22",
   "metadata": {},
   "outputs": [
    {
     "name": "stdout",
     "output_type": "stream",
     "text": [
      "<class 'pandas.core.frame.DataFrame'>\n",
      "RangeIndex: 677600 entries, 0 to 677599\n",
      "Data columns (total 20 columns):\n",
      " #   Column                 Non-Null Count   Dtype         \n",
      "---  ------                 --------------   -----         \n",
      " 0   Date                   677600 non-null  datetime64[ns]\n",
      " 1   Day                    677600 non-null  object        \n",
      " 2   Year                   677600 non-null  int64         \n",
      " 3   Month                  677600 non-null  int64         \n",
      " 4   Location               677600 non-null  int64         \n",
      " 5   Rainfall (in mm)       677600 non-null  float64       \n",
      " 6   Latitude               677600 non-null  float64       \n",
      " 7   Longitude              677600 non-null  float64       \n",
      " 8   Quarter                677600 non-null  int64         \n",
      " 9   Cumulative_Rainfall    677600 non-null  float64       \n",
      " 10  Previous_Day_Rainfall  677600 non-null  float64       \n",
      " 11  Weekly Sum             677600 non-null  float64       \n",
      " 12  Weekly_Average         677600 non-null  float64       \n",
      " 13  hasRainfall            677600 non-null  object        \n",
      " 14  Landslide_possibility  677600 non-null  object        \n",
      " 15  Season                 677600 non-null  object        \n",
      " 16  Location_File          677600 non-null  object        \n",
      " 17  class                  677600 non-null  int64         \n",
      " 18  Day_of_Week            677600 non-null  int32         \n",
      " 19  Day_of_Year            677600 non-null  int32         \n",
      "dtypes: datetime64[ns](1), float64(7), int32(2), int64(5), object(5)\n",
      "memory usage: 98.2+ MB\n"
     ]
    }
   ],
   "source": [
    "data.info()"
   ]
  },
  {
   "cell_type": "code",
   "execution_count": 37,
   "id": "2196244e-1256-4a22-bc53-457cff7e9b40",
   "metadata": {},
   "outputs": [],
   "source": [
    "data['Day_of_Week'] = data['Date'].dt.dayofweek  # Day of the week (0=Monday, 6=Sunday)\n",
    "data['Day_of_Year'] = data['Date'].dt.dayofyear  # Day of the year (1-365/366) "
   ]
  },
  {
   "cell_type": "code",
   "execution_count": 38,
   "id": "4cf41261",
   "metadata": {},
   "outputs": [
    {
     "name": "stdout",
     "output_type": "stream",
     "text": [
      "Index(['Date', 'Day', 'Year', 'Month', 'Location', 'Rainfall (in mm)',\n",
      "       'Latitude', 'Longitude', 'Quarter', 'Cumulative_Rainfall',\n",
      "       'Previous_Day_Rainfall', 'Weekly Sum', 'Weekly_Average', 'hasRainfall',\n",
      "       'Landslide_possibility', 'Season', 'Location_File', 'class',\n",
      "       'Day_of_Week', 'Day_of_Year'],\n",
      "      dtype='object')\n"
     ]
    }
   ],
   "source": [
    "print(data.columns)"
   ]
  },
  {
   "cell_type": "code",
   "execution_count": 39,
   "id": "c5d8367e-b136-4f64-a1bd-5ab0fdc14ab4",
   "metadata": {},
   "outputs": [],
   "source": [
    "from sklearn.preprocessing import LabelEncoder\n",
    "label_encoder = LabelEncoder()\n",
    "data['Location'] = label_encoder.fit_transform(data['Location'])"
   ]
  },
  {
   "cell_type": "code",
   "execution_count": 40,
   "id": "e76e2f6b-ce5c-4180-b06b-5c57dfe1e461",
   "metadata": {},
   "outputs": [],
   "source": [
    "X = data.drop(['class','Quarter','Date','Day','Rainfall (in mm)'] , axis = 1)\n",
    "y = data['class']"
   ]
  },
  {
   "cell_type": "code",
   "execution_count": 41,
   "id": "11b829b4-a682-4a3e-aad5-34df57abd29c",
   "metadata": {},
   "outputs": [
    {
     "name": "stdout",
     "output_type": "stream",
     "text": [
      "Accuracy: 1.0\n",
      "\n",
      "Confusion Matrix:\n",
      " [[124795      0]\n",
      " [     0 146245]]\n",
      "\n",
      "Classification Report:\n",
      "               precision    recall  f1-score   support\n",
      "\n",
      "           0       1.00      1.00      1.00    124795\n",
      "           1       1.00      1.00      1.00    146245\n",
      "\n",
      "    accuracy                           1.00    271040\n",
      "   macro avg       1.00      1.00      1.00    271040\n",
      "weighted avg       1.00      1.00      1.00    271040\n",
      "\n"
     ]
    }
   ],
   "source": [
    "import pandas as pd\n",
    "from sklearn.model_selection import train_test_split\n",
    "from sklearn.linear_model import LogisticRegression\n",
    "from sklearn.metrics import accuracy_score, confusion_matrix, classification_report\n",
    "\n",
    "# Assuming X and y are already defined and cleaned\n",
    "# If y contains strings like \"yes\"/\"no\", convert them:\n",
    "# y = y.map({'yes': 1, 'no': 0})  # or use LabelEncoder if multiclass\n",
    "\n",
    "# Train-test split (60% train, 40% test) with stratification\n",
    "X_train, X_test, y_train, y_test = train_test_split(\n",
    "    X, y, test_size=0.4, stratify=y, random_state=42\n",
    ")\n",
    "\n",
    "# One-hot encode categorical features if needed\n",
    "X_train = pd.get_dummies(X_train)\n",
    "X_test = pd.get_dummies(X_test)\n",
    "\n",
    "# Ensure train and test have the same columns\n",
    "X_test = X_test.reindex(columns=X_train.columns, fill_value=0)\n",
    "\n",
    "# Create and train logistic regression model\n",
    "model = LogisticRegression(max_iter=1000)\n",
    "model.fit(X_train, y_train)\n",
    "\n",
    "# Predict on test set\n",
    "y_pred = model.predict(X_test)\n",
    "\n",
    "# Evaluate the model\n",
    "print(\"Accuracy:\", accuracy_score(y_test, y_pred))\n",
    "print(\"\\nConfusion Matrix:\\n\", confusion_matrix(y_test, y_pred))\n",
    "print(\"\\nClassification Report:\\n\", classification_report(y_test, y_pred))\n"
   ]
  },
  {
   "cell_type": "code",
   "execution_count": 42,
   "id": "c683e452",
   "metadata": {},
   "outputs": [
    {
     "name": "stdout",
     "output_type": "stream",
     "text": [
      "Index(['Year', 'Month', 'Location', 'Latitude', 'Longitude',\n",
      "       'Cumulative_Rainfall', 'Previous_Day_Rainfall', 'Weekly Sum',\n",
      "       'Weekly_Average', 'hasRainfall', 'Landslide_possibility', 'Season',\n",
      "       'Location_File', 'Day_of_Week', 'Day_of_Year'],\n",
      "      dtype='object')\n"
     ]
    }
   ],
   "source": [
    "print(X.columns)"
   ]
  },
  {
   "cell_type": "code",
   "execution_count": null,
   "id": "0705fda6-4bf1-467d-9805-24c7e13f9266",
   "metadata": {},
   "outputs": [],
   "source": [
    "y_pred = model.predict(X_test)"
   ]
  },
  {
   "cell_type": "code",
   "execution_count": 43,
   "id": "45205eb4-8a89-4166-8535-0924f2083121",
   "metadata": {},
   "outputs": [
    {
     "name": "stdout",
     "output_type": "stream",
     "text": [
      "Accuracy: 1.0\n",
      "Classification Report:\n",
      "               precision    recall  f1-score   support\n",
      "\n",
      "           0       1.00      1.00      1.00    124795\n",
      "           1       1.00      1.00      1.00    146245\n",
      "\n",
      "    accuracy                           1.00    271040\n",
      "   macro avg       1.00      1.00      1.00    271040\n",
      "weighted avg       1.00      1.00      1.00    271040\n",
      "\n"
     ]
    }
   ],
   "source": [
    "print(\"Accuracy:\", accuracy_score(y_test, y_pred))\n",
    "print(\"Classification Report:\\n\", classification_report(y_test, y_pred))"
   ]
  },
  {
   "cell_type": "code",
   "execution_count": 44,
   "id": "234bcfeb-1fbd-4337-91a6-e4c73e8e701c",
   "metadata": {},
   "outputs": [
    {
     "name": "stdout",
     "output_type": "stream",
     "text": [
      "Accuracy: 1.0\n",
      "Classification Report:\n",
      "               precision    recall  f1-score   support\n",
      "\n",
      "           0       1.00      1.00      1.00    124795\n",
      "           1       1.00      1.00      1.00    146245\n",
      "\n",
      "    accuracy                           1.00    271040\n",
      "   macro avg       1.00      1.00      1.00    271040\n",
      "weighted avg       1.00      1.00      1.00    271040\n",
      "\n"
     ]
    }
   ],
   "source": [
    "from sklearn.linear_model import SGDClassifier\n",
    "# changed from SVC() then LinearSVC()\n",
    "model = SGDClassifier(loss=\"hinge\")  # Hinge loss is used for SVM\n",
    "model.fit(X_train, y_train)\n",
    "y_pred = model.predict(X_test)\n",
    "print(\"Accuracy:\", accuracy_score(y_test, y_pred))\n",
    "print(\"Classification Report:\\n\", classification_report(y_test, y_pred))"
   ]
  },
  {
   "cell_type": "code",
   "execution_count": 45,
   "id": "47ea4022-61f2-4203-be64-7fd384599ed6",
   "metadata": {},
   "outputs": [
    {
     "name": "stdout",
     "output_type": "stream",
     "text": [
      "Accuracy: 1.0\n",
      "Classification Report:\n",
      "               precision    recall  f1-score   support\n",
      "\n",
      "           0       1.00      1.00      1.00    124795\n",
      "           1       1.00      1.00      1.00    146245\n",
      "\n",
      "    accuracy                           1.00    271040\n",
      "   macro avg       1.00      1.00      1.00    271040\n",
      "weighted avg       1.00      1.00      1.00    271040\n",
      "\n"
     ]
    }
   ],
   "source": [
    "from sklearn.ensemble import RandomForestClassifier\n",
    "\n",
    "model = RandomForestClassifier()\n",
    "model.fit(X_train, y_train)\n",
    "y_pred = model.predict(X_test)\n",
    "print(\"Accuracy:\", accuracy_score(y_test, y_pred))\n",
    "print(\"Classification Report:\\n\", classification_report(y_test, y_pred))"
   ]
  },
  {
   "cell_type": "code",
   "execution_count": 46,
   "id": "dc1e5c15-7ea4-48c5-be85-6944b106eb32",
   "metadata": {},
   "outputs": [
    {
     "data": {
      "text/html": [
       "<div>\n",
       "<style scoped>\n",
       "    .dataframe tbody tr th:only-of-type {\n",
       "        vertical-align: middle;\n",
       "    }\n",
       "\n",
       "    .dataframe tbody tr th {\n",
       "        vertical-align: top;\n",
       "    }\n",
       "\n",
       "    .dataframe thead th {\n",
       "        text-align: right;\n",
       "    }\n",
       "</style>\n",
       "<table border=\"1\" class=\"dataframe\">\n",
       "  <thead>\n",
       "    <tr style=\"text-align: right;\">\n",
       "      <th></th>\n",
       "      <th>Date</th>\n",
       "      <th>Day</th>\n",
       "      <th>Year</th>\n",
       "      <th>Month</th>\n",
       "      <th>Location</th>\n",
       "      <th>Rainfall (in mm)</th>\n",
       "      <th>Latitude</th>\n",
       "      <th>Longitude</th>\n",
       "      <th>Quarter</th>\n",
       "      <th>Cumulative_Rainfall</th>\n",
       "      <th>Previous_Day_Rainfall</th>\n",
       "      <th>Weekly Sum</th>\n",
       "      <th>Weekly_Average</th>\n",
       "      <th>hasRainfall</th>\n",
       "      <th>Landslide_possibility</th>\n",
       "      <th>Season</th>\n",
       "      <th>Location_File</th>\n",
       "      <th>class</th>\n",
       "      <th>Day_of_Week</th>\n",
       "      <th>Day_of_Year</th>\n",
       "    </tr>\n",
       "  </thead>\n",
       "  <tbody>\n",
       "    <tr>\n",
       "      <th>0</th>\n",
       "      <td>1901-01-01</td>\n",
       "      <td>Day_1</td>\n",
       "      <td>1901</td>\n",
       "      <td>1</td>\n",
       "      <td>0</td>\n",
       "      <td>3.0</td>\n",
       "      <td>27.25</td>\n",
       "      <td>88.25</td>\n",
       "      <td>1</td>\n",
       "      <td>3.0</td>\n",
       "      <td>0.0</td>\n",
       "      <td>3.0</td>\n",
       "      <td>3.000000</td>\n",
       "      <td>yes</td>\n",
       "      <td>no</td>\n",
       "      <td>Winter</td>\n",
       "      <td>modified_location_0.xlsx</td>\n",
       "      <td>1</td>\n",
       "      <td>1</td>\n",
       "      <td>1</td>\n",
       "    </tr>\n",
       "    <tr>\n",
       "      <th>1</th>\n",
       "      <td>1901-01-02</td>\n",
       "      <td>Day_2</td>\n",
       "      <td>1901</td>\n",
       "      <td>1</td>\n",
       "      <td>0</td>\n",
       "      <td>8.0</td>\n",
       "      <td>27.25</td>\n",
       "      <td>88.25</td>\n",
       "      <td>1</td>\n",
       "      <td>11.0</td>\n",
       "      <td>3.0</td>\n",
       "      <td>11.0</td>\n",
       "      <td>5.500000</td>\n",
       "      <td>yes</td>\n",
       "      <td>no</td>\n",
       "      <td>Winter</td>\n",
       "      <td>modified_location_0.xlsx</td>\n",
       "      <td>1</td>\n",
       "      <td>2</td>\n",
       "      <td>2</td>\n",
       "    </tr>\n",
       "    <tr>\n",
       "      <th>2</th>\n",
       "      <td>1901-01-03</td>\n",
       "      <td>Day_3</td>\n",
       "      <td>1901</td>\n",
       "      <td>1</td>\n",
       "      <td>0</td>\n",
       "      <td>0.0</td>\n",
       "      <td>27.25</td>\n",
       "      <td>88.25</td>\n",
       "      <td>1</td>\n",
       "      <td>11.0</td>\n",
       "      <td>8.0</td>\n",
       "      <td>11.0</td>\n",
       "      <td>3.666667</td>\n",
       "      <td>no</td>\n",
       "      <td>no</td>\n",
       "      <td>Winter</td>\n",
       "      <td>modified_location_0.xlsx</td>\n",
       "      <td>0</td>\n",
       "      <td>3</td>\n",
       "      <td>3</td>\n",
       "    </tr>\n",
       "    <tr>\n",
       "      <th>3</th>\n",
       "      <td>1901-01-04</td>\n",
       "      <td>Day_4</td>\n",
       "      <td>1901</td>\n",
       "      <td>1</td>\n",
       "      <td>0</td>\n",
       "      <td>0.0</td>\n",
       "      <td>27.25</td>\n",
       "      <td>88.25</td>\n",
       "      <td>1</td>\n",
       "      <td>8.0</td>\n",
       "      <td>0.0</td>\n",
       "      <td>11.0</td>\n",
       "      <td>2.750000</td>\n",
       "      <td>no</td>\n",
       "      <td>no</td>\n",
       "      <td>Winter</td>\n",
       "      <td>modified_location_0.xlsx</td>\n",
       "      <td>0</td>\n",
       "      <td>4</td>\n",
       "      <td>4</td>\n",
       "    </tr>\n",
       "    <tr>\n",
       "      <th>4</th>\n",
       "      <td>1901-01-05</td>\n",
       "      <td>Day_5</td>\n",
       "      <td>1901</td>\n",
       "      <td>1</td>\n",
       "      <td>0</td>\n",
       "      <td>0.0</td>\n",
       "      <td>27.25</td>\n",
       "      <td>88.25</td>\n",
       "      <td>1</td>\n",
       "      <td>0.0</td>\n",
       "      <td>0.0</td>\n",
       "      <td>11.0</td>\n",
       "      <td>2.200000</td>\n",
       "      <td>no</td>\n",
       "      <td>no</td>\n",
       "      <td>Winter</td>\n",
       "      <td>modified_location_0.xlsx</td>\n",
       "      <td>0</td>\n",
       "      <td>5</td>\n",
       "      <td>5</td>\n",
       "    </tr>\n",
       "  </tbody>\n",
       "</table>\n",
       "</div>"
      ],
      "text/plain": [
       "        Date    Day  Year  Month  Location  Rainfall (in mm)  Latitude  \\\n",
       "0 1901-01-01  Day_1  1901      1         0               3.0     27.25   \n",
       "1 1901-01-02  Day_2  1901      1         0               8.0     27.25   \n",
       "2 1901-01-03  Day_3  1901      1         0               0.0     27.25   \n",
       "3 1901-01-04  Day_4  1901      1         0               0.0     27.25   \n",
       "4 1901-01-05  Day_5  1901      1         0               0.0     27.25   \n",
       "\n",
       "   Longitude  Quarter  Cumulative_Rainfall  Previous_Day_Rainfall  Weekly Sum  \\\n",
       "0      88.25        1                  3.0                    0.0         3.0   \n",
       "1      88.25        1                 11.0                    3.0        11.0   \n",
       "2      88.25        1                 11.0                    8.0        11.0   \n",
       "3      88.25        1                  8.0                    0.0        11.0   \n",
       "4      88.25        1                  0.0                    0.0        11.0   \n",
       "\n",
       "   Weekly_Average hasRainfall Landslide_possibility  Season  \\\n",
       "0        3.000000         yes                    no  Winter   \n",
       "1        5.500000         yes                    no  Winter   \n",
       "2        3.666667          no                    no  Winter   \n",
       "3        2.750000          no                    no  Winter   \n",
       "4        2.200000          no                    no  Winter   \n",
       "\n",
       "              Location_File  class  Day_of_Week  Day_of_Year  \n",
       "0  modified_location_0.xlsx      1            1            1  \n",
       "1  modified_location_0.xlsx      1            2            2  \n",
       "2  modified_location_0.xlsx      0            3            3  \n",
       "3  modified_location_0.xlsx      0            4            4  \n",
       "4  modified_location_0.xlsx      0            5            5  "
      ]
     },
     "execution_count": 46,
     "metadata": {},
     "output_type": "execute_result"
    }
   ],
   "source": [
    "new = data[data['Location'] == 0]\n",
    "new.head()"
   ]
  },
  {
   "cell_type": "code",
   "execution_count": 47,
   "id": "78ffb52c-ebc2-4915-a8e9-10209d8959ef",
   "metadata": {},
   "outputs": [
    {
     "data": {
      "text/plain": [
       "(61600, 20)"
      ]
     },
     "execution_count": 47,
     "metadata": {},
     "output_type": "execute_result"
    }
   ],
   "source": [
    "new.shape"
   ]
  },
  {
   "cell_type": "code",
   "execution_count": 48,
   "id": "254310c9-f2fb-4592-99c4-97b0c8938fe6",
   "metadata": {},
   "outputs": [
    {
     "data": {
      "text/plain": [
       "<Axes: xlabel='Month', ylabel='Rainfall (in mm)'>"
      ]
     },
     "execution_count": 48,
     "metadata": {},
     "output_type": "execute_result"
    },
    {
     "data": {
      "image/png": "[encoded data removed]",
      "text/plain": [
       "<Figure size 640x480 with 1 Axes>"
      ]
     },
     "metadata": {},
     "output_type": "display_data"
    }
   ],
   "source": [
    "# checking which month has the highest rainfall for location 0\n",
    "monthly_rainfall = new.groupby('Month')['Rainfall (in mm)'].sum().reset_index()\n",
    "\n",
    "# Plotting the total rainfall for each month\n",
    "sns.barplot(x='Month', y='Rainfall (in mm)', data=monthly_rainfall)"
   ]
  },
  {
   "cell_type": "markdown",
   "id": "3df5f3a2-5fb5-41e6-be0a-6a9631bd4525",
   "metadata": {},
   "source": [
    "**We can see that location 0 experience most rainfall in 8th month i.e august**"
   ]
  },
  {
   "cell_type": "code",
   "execution_count": 49,
   "id": "671af2a8-f411-4465-8b3f-553bda14c01e",
   "metadata": {},
   "outputs": [
    {
     "data": {
      "text/html": [
       "<div>\n",
       "<style scoped>\n",
       "    .dataframe tbody tr th:only-of-type {\n",
       "        vertical-align: middle;\n",
       "    }\n",
       "\n",
       "    .dataframe tbody tr th {\n",
       "        vertical-align: top;\n",
       "    }\n",
       "\n",
       "    .dataframe thead th {\n",
       "        text-align: right;\n",
       "    }\n",
       "</style>\n",
       "<table border=\"1\" class=\"dataframe\">\n",
       "  <thead>\n",
       "    <tr style=\"text-align: right;\">\n",
       "      <th></th>\n",
       "      <th>Month</th>\n",
       "      <th>Rainfall (in mm)</th>\n",
       "    </tr>\n",
       "  </thead>\n",
       "  <tbody>\n",
       "    <tr>\n",
       "      <th>0</th>\n",
       "      <td>1</td>\n",
       "      <td>2643.0</td>\n",
       "    </tr>\n",
       "    <tr>\n",
       "      <th>1</th>\n",
       "      <td>2</td>\n",
       "      <td>4857.2</td>\n",
       "    </tr>\n",
       "    <tr>\n",
       "      <th>2</th>\n",
       "      <td>3</td>\n",
       "      <td>11063.2</td>\n",
       "    </tr>\n",
       "    <tr>\n",
       "      <th>3</th>\n",
       "      <td>4</td>\n",
       "      <td>25295.4</td>\n",
       "    </tr>\n",
       "    <tr>\n",
       "      <th>4</th>\n",
       "      <td>5</td>\n",
       "      <td>40444.6</td>\n",
       "    </tr>\n",
       "    <tr>\n",
       "      <th>5</th>\n",
       "      <td>6</td>\n",
       "      <td>79342.0</td>\n",
       "    </tr>\n",
       "    <tr>\n",
       "      <th>6</th>\n",
       "      <td>7</td>\n",
       "      <td>103968.6</td>\n",
       "    </tr>\n",
       "    <tr>\n",
       "      <th>7</th>\n",
       "      <td>8</td>\n",
       "      <td>81654.0</td>\n",
       "    </tr>\n",
       "    <tr>\n",
       "      <th>8</th>\n",
       "      <td>9</td>\n",
       "      <td>60395.8</td>\n",
       "    </tr>\n",
       "    <tr>\n",
       "      <th>9</th>\n",
       "      <td>10</td>\n",
       "      <td>19349.0</td>\n",
       "    </tr>\n",
       "    <tr>\n",
       "      <th>10</th>\n",
       "      <td>11</td>\n",
       "      <td>2966.4</td>\n",
       "    </tr>\n",
       "    <tr>\n",
       "      <th>11</th>\n",
       "      <td>12</td>\n",
       "      <td>1400.0</td>\n",
       "    </tr>\n",
       "  </tbody>\n",
       "</table>\n",
       "</div>"
      ],
      "text/plain": [
       "    Month  Rainfall (in mm)\n",
       "0       1            2643.0\n",
       "1       2            4857.2\n",
       "2       3           11063.2\n",
       "3       4           25295.4\n",
       "4       5           40444.6\n",
       "5       6           79342.0\n",
       "6       7          103968.6\n",
       "7       8           81654.0\n",
       "8       9           60395.8\n",
       "9      10           19349.0\n",
       "10     11            2966.4\n",
       "11     12            1400.0"
      ]
     },
     "execution_count": 49,
     "metadata": {},
     "output_type": "execute_result"
    }
   ],
   "source": [
    "monthly_rainfall"
   ]
  },
  {
   "cell_type": "code",
   "execution_count": 50,
   "id": "571a0c82-bfd8-43b2-bba7-820025501e4b",
   "metadata": {},
   "outputs": [
    {
     "data": {
      "text/plain": [
       "np.float64(103968.6)"
      ]
     },
     "execution_count": 50,
     "metadata": {},
     "output_type": "execute_result"
    }
   ],
   "source": [
    "most_rainfall = new.groupby('Month')['Rainfall (in mm)'].sum().max()\n",
    "most_rainfall"
   ]
  },
  {
   "cell_type": "code",
   "execution_count": 51,
   "id": "fe367800-c70b-4748-ac1a-01bac5d13855",
   "metadata": {},
   "outputs": [
    {
     "data": {
      "text/html": [
       "<div>\n",
       "<style scoped>\n",
       "    .dataframe tbody tr th:only-of-type {\n",
       "        vertical-align: middle;\n",
       "    }\n",
       "\n",
       "    .dataframe tbody tr th {\n",
       "        vertical-align: top;\n",
       "    }\n",
       "\n",
       "    .dataframe thead th {\n",
       "        text-align: right;\n",
       "    }\n",
       "</style>\n",
       "<table border=\"1\" class=\"dataframe\">\n",
       "  <thead>\n",
       "    <tr style=\"text-align: right;\">\n",
       "      <th></th>\n",
       "      <th>Month</th>\n",
       "      <th>Location</th>\n",
       "      <th>Rainfall (in mm)</th>\n",
       "    </tr>\n",
       "  </thead>\n",
       "  <tbody>\n",
       "    <tr>\n",
       "      <th>0</th>\n",
       "      <td>1</td>\n",
       "      <td>0</td>\n",
       "      <td>2643.0</td>\n",
       "    </tr>\n",
       "    <tr>\n",
       "      <th>1</th>\n",
       "      <td>1</td>\n",
       "      <td>1</td>\n",
       "      <td>2616.0</td>\n",
       "    </tr>\n",
       "    <tr>\n",
       "      <th>2</th>\n",
       "      <td>1</td>\n",
       "      <td>2</td>\n",
       "      <td>3836.4</td>\n",
       "    </tr>\n",
       "    <tr>\n",
       "      <th>3</th>\n",
       "      <td>1</td>\n",
       "      <td>3</td>\n",
       "      <td>2182.2</td>\n",
       "    </tr>\n",
       "    <tr>\n",
       "      <th>4</th>\n",
       "      <td>1</td>\n",
       "      <td>4</td>\n",
       "      <td>4388.4</td>\n",
       "    </tr>\n",
       "    <tr>\n",
       "      <th>...</th>\n",
       "      <td>...</td>\n",
       "      <td>...</td>\n",
       "      <td>...</td>\n",
       "    </tr>\n",
       "    <tr>\n",
       "      <th>127</th>\n",
       "      <td>12</td>\n",
       "      <td>6</td>\n",
       "      <td>1883.0</td>\n",
       "    </tr>\n",
       "    <tr>\n",
       "      <th>128</th>\n",
       "      <td>12</td>\n",
       "      <td>7</td>\n",
       "      <td>2075.2</td>\n",
       "    </tr>\n",
       "    <tr>\n",
       "      <th>129</th>\n",
       "      <td>12</td>\n",
       "      <td>8</td>\n",
       "      <td>1993.0</td>\n",
       "    </tr>\n",
       "    <tr>\n",
       "      <th>130</th>\n",
       "      <td>12</td>\n",
       "      <td>9</td>\n",
       "      <td>2023.0</td>\n",
       "    </tr>\n",
       "    <tr>\n",
       "      <th>131</th>\n",
       "      <td>12</td>\n",
       "      <td>10</td>\n",
       "      <td>2010.4</td>\n",
       "    </tr>\n",
       "  </tbody>\n",
       "</table>\n",
       "<p>132 rows × 3 columns</p>\n",
       "</div>"
      ],
      "text/plain": [
       "     Month  Location  Rainfall (in mm)\n",
       "0        1         0            2643.0\n",
       "1        1         1            2616.0\n",
       "2        1         2            3836.4\n",
       "3        1         3            2182.2\n",
       "4        1         4            4388.4\n",
       "..     ...       ...               ...\n",
       "127     12         6            1883.0\n",
       "128     12         7            2075.2\n",
       "129     12         8            1993.0\n",
       "130     12         9            2023.0\n",
       "131     12        10            2010.4\n",
       "\n",
       "[132 rows x 3 columns]"
      ]
     },
     "execution_count": 51,
     "metadata": {},
     "output_type": "execute_result"
    }
   ],
   "source": [
    "monthly_location_rainfall = data.groupby(['Month','Location'])['Rainfall (in mm)'].sum().reset_index()\n",
    "monthly_location_rainfall"
   ]
  },
  {
   "cell_type": "code",
   "execution_count": 52,
   "id": "dc4f7d53-1100-4153-832c-03acf29e3d50",
   "metadata": {},
   "outputs": [
    {
     "data": {
      "text/plain": [
       "<seaborn.axisgrid.FacetGrid at 0x125e49f7170>"
      ]
     },
     "execution_count": 52,
     "metadata": {},
     "output_type": "execute_result"
    },
    {
     "data": {
      "image/png": "[encoded data removed]",
      "text/plain": [
       "<Figure size 1611.11x1200 with 11 Axes>"
      ]
     },
     "metadata": {},
     "output_type": "display_data"
    }
   ],
   "source": [
    "# g = sns.FacetGrid(data = monthly_location_rainfall , col=\"Location\", col_wrap=4, height=4)\n",
    "# g.map(sns.barplot , 'Month' , 'Rainfall (in mm)',order=range(1, 13))\n",
    "\n",
    "sns.catplot(\n",
    "    data=monthly_location_rainfall,\n",
    "    kind=\"bar\",\n",
    "    x=\"Month\",\n",
    "    y=\"Rainfall (in mm)\",\n",
    "    col=\"Location\",\n",
    "    col_wrap=4,\n",
    "    order=range(1, 13),\n",
    "    height=4\n",
    ")\n"
   ]
  },
  {
   "cell_type": "markdown",
   "id": "fa566d0a-c8c6-4612-842e-d586d7985998",
   "metadata": {},
   "source": [
    "**We can see that all 11 locations experience highest rainfalls in the months of june, july, august**"
   ]
  }
 ],
 "metadata": {
  "kernelspec": {
   "display_name": "Python 3 (ipykernel)",
   "language": "python",
   "name": "python3"
  },
  "language_info": {
   "codemirror_mode": {
    "name": "ipython",
    "version": 3
   },
   "file_extension": ".py",
   "mimetype": "text/x-python",
   "name": "python",
   "nbconvert_exporter": "python",
   "pygments_lexer": "ipython3",
   "version": "3.12.4"
  }
 },
 "nbformat": 4,
 "nbformat_minor": 5
}
