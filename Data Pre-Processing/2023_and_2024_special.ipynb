{
 "cells": [
  {
   "cell_type": "code",
   "execution_count": 2,
   "id": "c1ba01b1-1aac-4da3-b48f-5e676b1db217",
   "metadata": {},
   "outputs": [
    {
     "name": "stdout",
     "output_type": "stream",
     "text": [
      "Updated CSV file saved as 'updated_data.csv'\n"
     ]
    }
   ],
   "source": [
    "# ADDING DATES COLUMN\n",
    "\n",
    "import pandas as pd\n",
    "\n",
    "# Load the dataset (replace 'data.csv' with your actual file)\n",
    "df = pd.read_excel('C:\\\\Users\\\\rahla\\\\Desktop\\\\SI_2023.xlsx')\n",
    "\n",
    "# Generate dates for 2023\n",
    "start_date = pd.to_datetime('2023-01-01')\n",
    "dates = [start_date + pd.Timedelta(days=i) for i in range(len(df))]\n",
    "\n",
    "# Insert the date column in the zeroth position\n",
    "df.insert(0, 'Date', dates)\n",
    "\n",
    "# Save the modified dataset\n",
    "df.to_excel('C:\\\\Users\\\\rahla\\\\Desktop\\\\updated_data.xlsx', index=False)\n",
    "\n",
    "print(\"Updated CSV file saved as 'updated_data.csv'\")"
   ]
  },
  {
   "cell_type": "code",
   "execution_count": null,
   "id": "3dde9fda-843e-449e-9483-3cbd619939e7",
   "metadata": {},
   "outputs": [],
   "source": []
  }
 ],
 "metadata": {
  "kernelspec": {
   "display_name": "Python 3 (ipykernel)",
   "language": "python",
   "name": "python3"
  },
  "language_info": {
   "codemirror_mode": {
    "name": "ipython",
    "version": 3
   },
   "file_extension": ".py",
   "mimetype": "text/x-python",
   "name": "python",
   "nbconvert_exporter": "python",
   "pygments_lexer": "ipython3",
   "version": "3.12.7"
  }
 },
 "nbformat": 4,
 "nbformat_minor": 5
}
