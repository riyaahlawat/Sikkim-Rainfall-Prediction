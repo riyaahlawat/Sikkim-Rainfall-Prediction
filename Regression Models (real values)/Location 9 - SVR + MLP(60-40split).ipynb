{
 "cells": [
  {
   "cell_type": "code",
   "execution_count": 17,
   "id": "5b9496af-2aa2-4db7-804c-57df3ec2dde4",
   "metadata": {},
   "outputs": [],
   "source": [
    "import pandas as pd\n",
    "from sklearn.model_selection import train_test_split\n",
    "from sklearn.ensemble import RandomForestClassifier\n",
    "from sklearn.metrics import accuracy_score\n",
    "\n",
    "# Load the dataset\n",
    "df0 = pd.read_excel(\"modified_location_9.xlsx\")"
   ]
  },
  {
   "cell_type": "code",
   "execution_count": null,
   "id": "9c6b4a12-19f5-4509-9612-ed9ef457e717",
   "metadata": {},
   "outputs": [],
   "source": [
    "from sklearn.svm import SVR\n",
    "from sklearn.model_selection import train_test_split\n",
    "from sklearn.metrics import mean_absolute_error, mean_squared_error, r2_score\n",
    "import matplotlib.pyplot as plt\n",
    "from sklearn.preprocessing import StandardScaler\n",
    "\n",
    "# Assuming df0 is your dataframe\n",
    "# Set the feature columns (exclude the target variable 'Rainfall (in mm)' and any non-numeric columns)\n",
    "X = df0[['Year', 'Month', 'Latitude', 'Longitude', 'Quarter', 'Cumulative_Rainfall', \n",
    "         'Previous_Day_Rainfall', 'Weekly_Average']]  # Use your actual feature columns\n",
    "y = df0['Rainfall (in mm)']  # Target variable\n",
    "\n",
    "# Scaling the features\n",
    "scaler = StandardScaler()\n",
    "X_scaled = scaler.fit_transform(X)\n",
    "\n",
    "# Split the data into training and testing sets (60% train, 40% test)\n",
    "X_train, X_test, y_train, y_test = train_test_split(X_scaled, y, test_size=0.4, random_state=42)\n",
    "\n",
    "# Initialize and fit the SVR model\n",
    "svr = SVR(kernel='linear', C=10, gamma='scale')  # Decrease C and use 'scale' gamma\n",
    "svr.fit(X_train, y_train)\n",
    "\n",
    "# Predict on the test set\n",
    "y_pred_svr = svr.predict(X_test)"
   ]
  },
  {
   "cell_type": "code",
   "execution_count": null,
   "id": "39218d31-98db-42bf-9326-00f7ed07a562",
   "metadata": {},
   "outputs": [],
   "source": [
    "# Calculate R², MAE, and MSE\n",
    "r2 = r2_score(y_test, y_pred_svr)\n",
    "mae = mean_absolute_error(y_test, y_pred_svr)\n",
    "mse = mean_squared_error(y_test, y_pred_svr)\n",
    "\n",
    "# Print the evaluation results\n",
    "print(f'R² Score: {r2}')\n",
    "print(f'Mean Absolute Error: {mae}')\n",
    "print(f'Mean Squared Error: {mse}')"
   ]
  },
  {
   "cell_type": "code",
   "execution_count": null,
   "id": "9d645346-aeb4-40bc-aeed-9442af9408c7",
   "metadata": {},
   "outputs": [],
   "source": [
    "plt.figure(figsize=(10, 5))\n",
    "plt.plot(y_test.values[:50], label=\"Actual Rainfall\", marker=\"o\")\n",
    "plt.plot(y_pred_svr[:50], label=\"Predicted Rainfall\", marker=\"s\")\n",
    "plt.xlabel(\"Sample Index\")\n",
    "plt.ylabel(\"Rainfall (in mm)\")\n",
    "plt.title(\"Rainfall Prediction Comparison\")\n",
    "plt.legend()\n",
    "plt.show()"
   ]
  },
  {
   "cell_type": "code",
   "execution_count": null,
   "id": "1a9491df-1c3e-43ef-8ac8-285fc7ac2845",
   "metadata": {},
   "outputs": [],
   "source": [
    "# MLP Regressor"
   ]
  },
  {
   "cell_type": "code",
   "execution_count": null,
   "id": "e7b039cd-b62e-45ca-9c9f-faf005cf6299",
   "metadata": {},
   "outputs": [],
   "source": [
    "\n",
    "from sklearn.neural_network import MLPRegressor\n",
    "from sklearn.metrics import r2_score, mean_absolute_error, mean_squared_error\n",
    "\n",
    "# Define the model with optimized hyperparameters\n",
    "mlp = MLPRegressor(hidden_layer_sizes=(64, 32), activation='relu', solver='adam',\n",
    "                   learning_rate='adaptive', max_iter=500, random_state=42)\n",
    "\n",
    "# Train the model\n",
    "mlp.fit(X_train, y_train)\n",
    "\n",
    "# Predict on the test set\n",
    "y_pred_mlp = mlp.predict(X_test)\n",
    "\n",
    "# Evaluate the model\n",
    "r2 = r2_score(y_test, y_pred_mlp)\n",
    "mae = mean_absolute_error(y_test, y_pred_mlp)\n",
    "mse = mean_squared_error(y_test, y_pred_mlp)\n",
    "\n",
    "print(f'R² Score: {r2:.4f}')\n",
    "print(f'MAE: {mae:.4f}')\n",
    "print(f'MSE: {mse:.4f}')"
   ]
  },
  {
   "cell_type": "code",
   "execution_count": null,
   "id": "ce16c0e4-b08b-4b19-a42f-de8afd5a2d12",
   "metadata": {},
   "outputs": [],
   "source": [
    "plt.figure(figsize=(10, 5))\n",
    "plt.plot(y_test.values[:50], label=\"Actual Rainfall\", marker=\"o\")\n",
    "plt.plot(y_pred_mlp[:50], label=\"Predicted Rainfall\", marker=\"s\")\n",
    "plt.xlabel(\"Sample Index\")\n",
    "plt.ylabel(\"Rainfall (in mm)\")\n",
    "plt.title(\"Rainfall Prediction Comparison\")\n",
    "plt.legend()\n",
    "plt.show()"
   ]
  },
  {
   "cell_type": "code",
   "execution_count": null,
   "id": "8c130c43-c6b1-41d8-9e49-d83f76abaa93",
   "metadata": {},
   "outputs": [],
   "source": []
  }
 ],
 "metadata": {
  "kernelspec": {
   "display_name": "Python 3 (ipykernel)",
   "language": "python",
   "name": "python3"
  },
  "language_info": {
   "codemirror_mode": {
    "name": "ipython",
    "version": 3
   },
   "file_extension": ".py",
   "mimetype": "text/x-python",
   "name": "python",
   "nbconvert_exporter": "python",
   "pygments_lexer": "ipython3",
   "version": "3.13.2"
  }
 },
 "nbformat": 4,
 "nbformat_minor": 5
}
