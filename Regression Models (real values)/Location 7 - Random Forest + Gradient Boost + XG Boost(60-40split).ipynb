{
 "cells": [
  {
   "cell_type": "code",
   "execution_count": 98,
   "id": "648d7ca0-c317-4b1d-a6a7-4d44ea64e39c",
   "metadata": {},
   "outputs": [
    {
     "name": "stdout",
     "output_type": "stream",
     "text": [
      "Date                     datetime64[ns]\n",
      "Day                              object\n",
      "Year                              int64\n",
      "Month                             int64\n",
      "Location                         object\n",
      "Rainfall (in mm)                float64\n",
      "Latitude                        float64\n",
      "Longitude                       float64\n",
      "Quarter                           int64\n",
      "Cumulative_Rainfall             float64\n",
      "Previous_Day_Rainfall           float64\n",
      "Weekly Sum                      float64\n",
      "Weekly_Average                  float64\n",
      "hasRainfall                      object\n",
      "Landslide_possibility            object\n",
      "Season                           object\n",
      "dtype: object\n"
     ]
    }
   ],
   "source": [
    "import pandas as pd\n",
    "\n",
    "# Load the dataset\n",
    "df = pd.read_excel(\"modified_location_7.xlsx\")\n",
    "\n",
    "# Print data types of all columns\n",
    "print(df.dtypes)"
   ]
  },
  {
   "cell_type": "code",
   "execution_count": 99,
   "id": "8638dbd9-e5a1-4ae4-a422-641408a918f7",
   "metadata": {},
   "outputs": [
    {
     "name": "stdout",
     "output_type": "stream",
     "text": [
      "Model Accuracy: 0.9078\n"
     ]
    }
   ],
   "source": [
    "import pandas as pd\n",
    "from sklearn.model_selection import train_test_split\n",
    "from sklearn.ensemble import RandomForestClassifier\n",
    "from sklearn.metrics import accuracy_score\n",
    "\n",
    "# Load the dataset\n",
    "df = pd.read_excel(\"modified_location_7.xlsx\")\n",
    "\n",
    "# Convert categorical target variable ('hasRainfall') into numerical format\n",
    "df['hasRainfall'] = df['hasRainfall'].map({'yes': 1, 'no': 0})\n",
    "\n",
    "# Define features (X) and target (y)\n",
    "X = df[['Year', 'Month', 'Latitude', 'Longitude', 'Quarter', \n",
    "        'Cumulative_Rainfall', 'Previous_Day_Rainfall', 'Weekly_Average']]\n",
    "y = df['hasRainfall']\n",
    "\n",
    "# Train-test split (60-40)\n",
    "X_train, X_test, y_train, y_test = train_test_split(X, y, test_size=0.4, random_state=42)\n",
    "\n",
    "# Train Random Forest model\n",
    "rf = RandomForestClassifier(n_estimators=100, random_state=42)\n",
    "rf.fit(X_train, y_train)\n",
    "\n",
    "# Predictions\n",
    "y_pred = rf.predict(X_test)\n",
    "\n",
    "# Accuracy score\n",
    "accuracy = accuracy_score(y_test, y_pred)\n",
    "print(f\"Model Accuracy: {accuracy:.4f}\")"
   ]
  },
  {
   "cell_type": "code",
   "execution_count": 100,
   "id": "cc718c30-de03-43ce-981c-641af3b555d2",
   "metadata": {},
   "outputs": [
    {
     "name": "stdout",
     "output_type": "stream",
     "text": [
      "Classification Report:\n",
      "               precision    recall  f1-score   support\n",
      "\n",
      "           0       0.92      0.87      0.90     11232\n",
      "           1       0.90      0.94      0.92     13408\n",
      "\n",
      "    accuracy                           0.91     24640\n",
      "   macro avg       0.91      0.90      0.91     24640\n",
      "weighted avg       0.91      0.91      0.91     24640\n",
      "\n"
     ]
    }
   ],
   "source": [
    "from sklearn.metrics import classification_report\n",
    "\n",
    "# Generate classification report\n",
    "report = classification_report(y_test, y_pred)\n",
    "\n",
    "# Print the full classification report\n",
    "print(\"Classification Report:\\n\", report)"
   ]
  },
  {
   "cell_type": "code",
   "execution_count": 101,
   "id": "7321763d-864d-48a0-8e24-7a9bdfdfae8f",
   "metadata": {},
   "outputs": [],
   "source": [
    "# Random Forest Regressor"
   ]
  },
  {
   "cell_type": "code",
   "execution_count": 102,
   "id": "d78de606-c237-492c-87a6-96ca12d3dddf",
   "metadata": {},
   "outputs": [],
   "source": [
    "df0 = pd.read_excel(\"modified_location_7.xlsx\")"
   ]
  },
  {
   "cell_type": "code",
   "execution_count": 103,
   "id": "ff57b9c4-35a7-4383-a926-982428e6ccea",
   "metadata": {},
   "outputs": [],
   "source": [
    "from sklearn.ensemble import RandomForestRegressor\n",
    "from sklearn.model_selection import train_test_split\n",
    "from sklearn.metrics import mean_absolute_error, mean_squared_error, r2_score\n",
    "\n",
    "# Select features (excluding non-numeric and target columns)\n",
    "X = df0.drop(columns=['Rainfall (in mm)', 'hasRainfall', 'Landslide_possibility', 'Season', 'Date', 'Day', 'Location'])\n",
    "y = df0['Rainfall (in mm)']\n",
    "\n",
    "# Train-test split (60-40)\n",
    "X_train, X_test, y_train, y_test = train_test_split(X, y, test_size=0.4, random_state=42)"
   ]
  },
  {
   "cell_type": "code",
   "execution_count": null,
   "id": "e561bc40-8102-4661-8b77-80210a4f8ba6",
   "metadata": {},
   "outputs": [],
   "source": [
    "# Initialize the model\n",
    "rf_regressor = RandomForestRegressor(n_estimators=100, random_state=42)\n",
    "\n",
    "# Train the model\n",
    "rf_regressor.fit(X_train, y_train)"
   ]
  },
  {
   "cell_type": "code",
   "execution_count": null,
   "id": "cf6c5223-534b-407e-ab18-fac78c7b56e7",
   "metadata": {},
   "outputs": [],
   "source": [
    "# Predict on test data\n",
    "y_pred = rf_regressor.predict(X_test)\n",
    "\n",
    "# Print evaluation metrics\n",
    "print(\"Mean Absolute Error:\", mean_absolute_error(y_test, y_pred))\n",
    "print(\"Mean Squared Error:\", mean_squared_error(y_test, y_pred))\n",
    "print(\"R² Score:\", r2_score(y_test, y_pred))"
   ]
  },
  {
   "cell_type": "code",
   "execution_count": null,
   "id": "6de796e3-dfd8-45b3-960d-c982a8585ad7",
   "metadata": {},
   "outputs": [],
   "source": [
    "import matplotlib.pyplot as plt\n",
    "import seaborn as sns\n",
    "\n",
    "# Scatter plot\n",
    "plt.figure(figsize=(8, 6))\n",
    "sns.scatterplot(x=y_test, y=y_pred, alpha=0.7)\n",
    "plt.plot([y_test.min(), y_test.max()], [y_test.min(), y_test.max()], 'r', linestyle=\"--\")  # 45-degree line\n",
    "plt.xlabel(\"Actual Rainfall (in mm)\")\n",
    "plt.ylabel(\"Predicted Rainfall (in mm)\")\n",
    "plt.title(\"Actual vs Predicted Rainfall\")\n",
    "plt.show()"
   ]
  },
  {
   "cell_type": "code",
   "execution_count": null,
   "id": "5008762a-bfbc-4bda-81fe-48e3e02a1c35",
   "metadata": {},
   "outputs": [],
   "source": [
    "plt.figure(figsize=(10, 5))\n",
    "plt.plot(y_test.values[:50], label=\"Actual Rainfall\", marker=\"o\")\n",
    "plt.plot(y_pred[:50], label=\"Predicted Rainfall\", marker=\"s\")\n",
    "plt.xlabel(\"Sample Index\")\n",
    "plt.ylabel(\"Rainfall (in mm)\")\n",
    "plt.title(\"Rainfall Prediction Comparison\")\n",
    "plt.legend()\n",
    "plt.show()"
   ]
  },
  {
   "cell_type": "code",
   "execution_count": null,
   "id": "4541192c-8211-4c15-8b74-2a90583955d5",
   "metadata": {},
   "outputs": [],
   "source": [
    "# Gradient Boost Regressor"
   ]
  },
  {
   "cell_type": "code",
   "execution_count": null,
   "id": "4c1ae0ad-f646-4baa-9554-70997929c9de",
   "metadata": {},
   "outputs": [],
   "source": [
    "from sklearn.ensemble import GradientBoostingRegressor\n",
    "\n",
    "gbr = GradientBoostingRegressor(n_estimators=100, learning_rate=0.1, max_depth=5, random_state=42)\n",
    "gbr.fit(X_train, y_train)\n",
    "y_pred_gbr = gbr.predict(X_test)\n",
    "\n",
    "# Evaluate\n",
    "from sklearn.metrics import mean_absolute_error, mean_squared_error, r2_score\n",
    "print(\"GBR R² Score:\", r2_score(y_test, y_pred_gbr))\n",
    "print(\"GBR MAE:\", mean_absolute_error(y_test, y_pred_gbr))\n",
    "print(\"Mean Squared Error:\", mean_squared_error(y_test, y_pred_gbr))"
   ]
  },
  {
   "cell_type": "code",
   "execution_count": null,
   "id": "1e997b4d-3083-4753-9bf4-eea5322ff7b2",
   "metadata": {},
   "outputs": [],
   "source": [
    "plt.figure(figsize=(10, 5))\n",
    "plt.plot(y_test.values[:50], label=\"Actual Rainfall\", marker=\"o\")\n",
    "plt.plot(y_pred_gbr[:50], label=\"Predicted Rainfall\", marker=\"s\")\n",
    "plt.xlabel(\"Sample Index\")\n",
    "plt.ylabel(\"Rainfall (in mm)\")\n",
    "plt.title(\"Rainfall Prediction Comparison\")\n",
    "plt.legend()\n",
    "plt.show()"
   ]
  },
  {
   "cell_type": "code",
   "execution_count": null,
   "id": "e81a4a26-da94-4a22-bacd-c68d3960aca1",
   "metadata": {},
   "outputs": [],
   "source": [
    "# XG Boost Regressor"
   ]
  },
  {
   "cell_type": "code",
   "execution_count": null,
   "id": "3b5f5da9-d650-4456-ab05-731f36aec48c",
   "metadata": {
    "scrolled": true
   },
   "outputs": [],
   "source": [
    "# !pip install xgboost"
   ]
  },
  {
   "cell_type": "code",
   "execution_count": null,
   "id": "5e9fc995-b921-4a70-bcef-c7fe0084aa31",
   "metadata": {},
   "outputs": [],
   "source": [
    "from xgboost import XGBRegressor\n",
    "\n",
    "xgb = XGBRegressor(n_estimators=100, learning_rate=0.1, max_depth=5, random_state=42)\n",
    "xgb.fit(X_train, y_train)\n",
    "y_pred_xgb = xgb.predict(X_test)\n",
    "\n",
    "print(\"XGBoost R² Score:\", r2_score(y_test, y_pred_xgb))\n",
    "print(\"GBR MAE:\", mean_absolute_error(y_test, y_pred_xgb))\n",
    "print(\"Mean Squared Error:\", mean_squared_error(y_test, y_pred_xgb))"
   ]
  },
  {
   "cell_type": "code",
   "execution_count": null,
   "id": "5d5611c1-967f-4129-ae52-d90740ecfb5f",
   "metadata": {},
   "outputs": [],
   "source": [
    "plt.figure(figsize=(10, 5))\n",
    "plt.plot(y_test.values[:50], label=\"Actual Rainfall\", marker=\"o\")\n",
    "plt.plot(y_pred_xgb[:50], label=\"Predicted Rainfall\", marker=\"s\")\n",
    "plt.xlabel(\"Sample Index\")\n",
    "plt.ylabel(\"Rainfall (in mm)\")\n",
    "plt.title(\"Rainfall Prediction Comparison\")\n",
    "plt.legend()\n",
    "plt.show()"
   ]
  },
  {
   "cell_type": "code",
   "execution_count": null,
   "id": "6477dfbf-ca74-43c2-8cd2-20ef9f4ec74a",
   "metadata": {},
   "outputs": [],
   "source": []
  }
 ],
 "metadata": {
  "kernelspec": {
   "display_name": "Python 3 (ipykernel)",
   "language": "python",
   "name": "python3"
  },
  "language_info": {
   "codemirror_mode": {
    "name": "ipython",
    "version": 3
   },
   "file_extension": ".py",
   "mimetype": "text/x-python",
   "name": "python",
   "nbconvert_exporter": "python",
   "pygments_lexer": "ipython3",
   "version": "3.13.2"
  }
 },
 "nbformat": 4,
 "nbformat_minor": 5
}
