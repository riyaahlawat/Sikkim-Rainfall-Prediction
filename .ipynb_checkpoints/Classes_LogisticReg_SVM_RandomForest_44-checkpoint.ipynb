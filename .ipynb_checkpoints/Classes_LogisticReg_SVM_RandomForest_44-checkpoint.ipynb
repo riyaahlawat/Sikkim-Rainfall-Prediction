{
 "cells": [
  {
   "cell_type": "code",
   "execution_count": 1,
   "id": "294cf10d-1ef4-4fe2-9ca6-7308dd725710",
   "metadata": {},
   "outputs": [],
   "source": [
    "import numpy as np\n",
    "import pandas as pd\n",
    "import matplotlib.pyplot as plt\n",
    "import seaborn as sns\n",
    "%matplotlib inline\n",
    "from sklearn.model_selection import train_test_split\n",
    "from sklearn.metrics import classification_report,accuracy_score"
   ]
  },
  {
   "cell_type": "code",
   "execution_count": 2,
   "id": "f1859df7-4736-4795-b651-ed30f1926b8d",
   "metadata": {},
   "outputs": [
    {
     "name": "stdout",
     "output_type": "stream",
     "text": [
      "        Date    Day  Year  Month Location  Rainfall (in mm)  Latitude  \\\n",
      "0 1978-01-01  Day_1  1978      1    Loc_0                 1     27.25   \n",
      "1 1978-01-02  Day_2  1978      1    Loc_0                 0     27.25   \n",
      "2 1978-01-03  Day_3  1978      1    Loc_0                 0     27.25   \n",
      "3 1978-01-04  Day_4  1978      1    Loc_0                 0     27.25   \n",
      "4 1978-01-05  Day_5  1978      1    Loc_0                 0     27.25   \n",
      "\n",
      "   Longitude  Quarter  \n",
      "0      88.25        1  \n",
      "1      88.25        1  \n",
      "2      88.25        1  \n",
      "3      88.25        1  \n",
      "4      88.25        1  \n"
     ]
    }
   ],
   "source": [
    "import pandas as pd\n",
    "\n",
    "# 1978 to 1999\n",
    "file_path = r\"C:\\Users\\rahla\\Desktop\\Sikkim-Rainfall-Prediction\\combined_data.xlsx\"\n",
    "\n",
    "# Read the Excel file\n",
    "data = pd.read_excel(file_path)\n",
    "\n",
    "# Display the first few rows of the data\n",
    "print(data.head())"
   ]
  },
  {
   "cell_type": "code",
   "execution_count": 3,
   "id": "93dbc3e4-d613-43eb-87d3-ccc0d31c030a",
   "metadata": {},
   "outputs": [
    {
     "data": {
      "text/plain": [
       "(85679, 9)"
      ]
     },
     "execution_count": 3,
     "metadata": {},
     "output_type": "execute_result"
    }
   ],
   "source": [
    "data.shape"
   ]
  },
  {
   "cell_type": "code",
   "execution_count": 4,
   "id": "d3ae34a7",
   "metadata": {},
   "outputs": [
    {
     "name": "stdout",
     "output_type": "stream",
     "text": [
      "Index(['Date', 'Day', 'Year', 'Month', 'Location', 'Rainfall (in mm)',\n",
      "       'Latitude', 'Longitude', 'Quarter'],\n",
      "      dtype='object')\n"
     ]
    }
   ],
   "source": [
    "print(data.columns)"
   ]
  },
  {
   "cell_type": "code",
   "execution_count": 5,
   "id": "ad4dbc22-6d46-47b2-8d9e-9a007a57a0d9",
   "metadata": {},
   "outputs": [
    {
     "data": {
      "text/html": [
       "<div>\n",
       "<style scoped>\n",
       "    .dataframe tbody tr th:only-of-type {\n",
       "        vertical-align: middle;\n",
       "    }\n",
       "\n",
       "    .dataframe tbody tr th {\n",
       "        vertical-align: top;\n",
       "    }\n",
       "\n",
       "    .dataframe thead th {\n",
       "        text-align: right;\n",
       "    }\n",
       "</style>\n",
       "<table border=\"1\" class=\"dataframe\">\n",
       "  <thead>\n",
       "    <tr style=\"text-align: right;\">\n",
       "      <th></th>\n",
       "      <th>Date</th>\n",
       "      <th>Day</th>\n",
       "      <th>Year</th>\n",
       "      <th>Month</th>\n",
       "      <th>Location</th>\n",
       "      <th>Rainfall (in mm)</th>\n",
       "      <th>Latitude</th>\n",
       "      <th>Longitude</th>\n",
       "      <th>Quarter</th>\n",
       "      <th>class</th>\n",
       "    </tr>\n",
       "  </thead>\n",
       "  <tbody>\n",
       "    <tr>\n",
       "      <th>0</th>\n",
       "      <td>1978-01-01</td>\n",
       "      <td>Day_1</td>\n",
       "      <td>1978</td>\n",
       "      <td>1</td>\n",
       "      <td>Loc_0</td>\n",
       "      <td>1</td>\n",
       "      <td>27.25</td>\n",
       "      <td>88.25</td>\n",
       "      <td>1</td>\n",
       "      <td>1</td>\n",
       "    </tr>\n",
       "    <tr>\n",
       "      <th>1</th>\n",
       "      <td>1978-01-02</td>\n",
       "      <td>Day_2</td>\n",
       "      <td>1978</td>\n",
       "      <td>1</td>\n",
       "      <td>Loc_0</td>\n",
       "      <td>0</td>\n",
       "      <td>27.25</td>\n",
       "      <td>88.25</td>\n",
       "      <td>1</td>\n",
       "      <td>0</td>\n",
       "    </tr>\n",
       "    <tr>\n",
       "      <th>2</th>\n",
       "      <td>1978-01-03</td>\n",
       "      <td>Day_3</td>\n",
       "      <td>1978</td>\n",
       "      <td>1</td>\n",
       "      <td>Loc_0</td>\n",
       "      <td>0</td>\n",
       "      <td>27.25</td>\n",
       "      <td>88.25</td>\n",
       "      <td>1</td>\n",
       "      <td>0</td>\n",
       "    </tr>\n",
       "    <tr>\n",
       "      <th>3</th>\n",
       "      <td>1978-01-04</td>\n",
       "      <td>Day_4</td>\n",
       "      <td>1978</td>\n",
       "      <td>1</td>\n",
       "      <td>Loc_0</td>\n",
       "      <td>0</td>\n",
       "      <td>27.25</td>\n",
       "      <td>88.25</td>\n",
       "      <td>1</td>\n",
       "      <td>0</td>\n",
       "    </tr>\n",
       "    <tr>\n",
       "      <th>4</th>\n",
       "      <td>1978-01-05</td>\n",
       "      <td>Day_5</td>\n",
       "      <td>1978</td>\n",
       "      <td>1</td>\n",
       "      <td>Loc_0</td>\n",
       "      <td>0</td>\n",
       "      <td>27.25</td>\n",
       "      <td>88.25</td>\n",
       "      <td>1</td>\n",
       "      <td>0</td>\n",
       "    </tr>\n",
       "  </tbody>\n",
       "</table>\n",
       "</div>"
      ],
      "text/plain": [
       "        Date    Day  Year  Month Location  Rainfall (in mm)  Latitude  \\\n",
       "0 1978-01-01  Day_1  1978      1    Loc_0                 1     27.25   \n",
       "1 1978-01-02  Day_2  1978      1    Loc_0                 0     27.25   \n",
       "2 1978-01-03  Day_3  1978      1    Loc_0                 0     27.25   \n",
       "3 1978-01-04  Day_4  1978      1    Loc_0                 0     27.25   \n",
       "4 1978-01-05  Day_5  1978      1    Loc_0                 0     27.25   \n",
       "\n",
       "   Longitude  Quarter  class  \n",
       "0      88.25        1      1  \n",
       "1      88.25        1      0  \n",
       "2      88.25        1      0  \n",
       "3      88.25        1      0  \n",
       "4      88.25        1      0  "
      ]
     },
     "execution_count": 5,
     "metadata": {},
     "output_type": "execute_result"
    }
   ],
   "source": [
    "data['class'] = data['Rainfall (in mm)'].apply(lambda x : 1 if x > 0 else 0)\n",
    "data.head()\n",
    "\n",
    "# divided in classes - 1 for rainfall, 0 for no rainfall"
   ]
  },
  {
   "cell_type": "code",
   "execution_count": 6,
   "id": "e6e2c070-bd91-4be0-a81c-a47ea15faaf3",
   "metadata": {},
   "outputs": [
    {
     "data": {
      "text/plain": [
       "class\n",
       "1    47548\n",
       "0    38131\n",
       "Name: count, dtype: int64"
      ]
     },
     "execution_count": 6,
     "metadata": {},
     "output_type": "execute_result"
    }
   ],
   "source": [
    "data['class'].value_counts()"
   ]
  },
  {
   "cell_type": "code",
   "execution_count": 7,
   "id": "1e93bd93-3545-490a-9502-90f1633a1f22",
   "metadata": {},
   "outputs": [
    {
     "name": "stdout",
     "output_type": "stream",
     "text": [
      "<class 'pandas.core.frame.DataFrame'>\n",
      "RangeIndex: 85679 entries, 0 to 85678\n",
      "Data columns (total 10 columns):\n",
      " #   Column            Non-Null Count  Dtype         \n",
      "---  ------            --------------  -----         \n",
      " 0   Date              85679 non-null  datetime64[ns]\n",
      " 1   Day               85679 non-null  object        \n",
      " 2   Year              85679 non-null  int64         \n",
      " 3   Month             85679 non-null  int64         \n",
      " 4   Location          85679 non-null  object        \n",
      " 5   Rainfall (in mm)  85679 non-null  int64         \n",
      " 6   Latitude          85679 non-null  float64       \n",
      " 7   Longitude         85679 non-null  float64       \n",
      " 8   Quarter           85679 non-null  int64         \n",
      " 9   class             85679 non-null  int64         \n",
      "dtypes: datetime64[ns](1), float64(2), int64(5), object(2)\n",
      "memory usage: 6.5+ MB\n"
     ]
    }
   ],
   "source": [
    "data.info()"
   ]
  },
  {
   "cell_type": "code",
   "execution_count": 8,
   "id": "2196244e-1256-4a22-bc53-457cff7e9b40",
   "metadata": {},
   "outputs": [],
   "source": [
    "data['Day_of_Week'] = data['Date'].dt.dayofweek  # Day of the week (0=Monday, 6=Sunday)\n",
    "data['Day_of_Year'] = data['Date'].dt.dayofyear  # Day of the year (1-365/366) "
   ]
  },
  {
   "cell_type": "code",
   "execution_count": 9,
   "id": "4cf41261",
   "metadata": {},
   "outputs": [
    {
     "name": "stdout",
     "output_type": "stream",
     "text": [
      "Index(['Date', 'Day', 'Year', 'Month', 'Location', 'Rainfall (in mm)',\n",
      "       'Latitude', 'Longitude', 'Quarter', 'class', 'Day_of_Week',\n",
      "       'Day_of_Year'],\n",
      "      dtype='object')\n"
     ]
    }
   ],
   "source": [
    "print(data.columns)"
   ]
  },
  {
   "cell_type": "code",
   "execution_count": 10,
   "id": "c5d8367e-b136-4f64-a1bd-5ab0fdc14ab4",
   "metadata": {},
   "outputs": [],
   "source": [
    "from sklearn.preprocessing import LabelEncoder\n",
    "label_encoder = LabelEncoder()\n",
    "data['Location'] = label_encoder.fit_transform(data['Location'])"
   ]
  },
  {
   "cell_type": "code",
   "execution_count": 11,
   "id": "e76e2f6b-ce5c-4180-b06b-5c57dfe1e461",
   "metadata": {},
   "outputs": [],
   "source": [
    "X = data.drop(['class','Quarter','Date','Day','Rainfall (in mm)'] , axis = 1)\n",
    "y = data['class']\n",
    "X_train , X_test , y_train , y_test = train_test_split(X , y , test_size = 0.3 , random_state = 1)\n"
   ]
  },
  {
   "cell_type": "code",
   "execution_count": 12,
   "id": "c683e452",
   "metadata": {},
   "outputs": [
    {
     "name": "stdout",
     "output_type": "stream",
     "text": [
      "Index(['Year', 'Month', 'Location', 'Latitude', 'Longitude', 'Day_of_Week',\n",
      "       'Day_of_Year'],\n",
      "      dtype='object')\n"
     ]
    }
   ],
   "source": [
    "print(X.columns)"
   ]
  },
  {
   "cell_type": "code",
   "execution_count": 13,
   "id": "0c94ecbe-9b6f-466c-a59f-aac938b755cc",
   "metadata": {},
   "outputs": [
    {
     "data": {
      "text/plain": [
       "LogisticRegression()"
      ]
     },
     "execution_count": 13,
     "metadata": {},
     "output_type": "execute_result"
    }
   ],
   "source": [
    "from sklearn.linear_model import LogisticRegression\n",
    "model = LogisticRegression()\n",
    "model.fit(X_train , y_train)\n"
   ]
  },
  {
   "cell_type": "code",
   "execution_count": 14,
   "id": "0705fda6-4bf1-467d-9805-24c7e13f9266",
   "metadata": {},
   "outputs": [],
   "source": [
    "y_pred = model.predict(X_test)"
   ]
  },
  {
   "cell_type": "code",
   "execution_count": 15,
   "id": "45205eb4-8a89-4166-8535-0924f2083121",
   "metadata": {},
   "outputs": [
    {
     "name": "stdout",
     "output_type": "stream",
     "text": [
      "Accuracy: 0.5669934640522876\n",
      "Classification Report:\n",
      "               precision    recall  f1-score   support\n",
      "\n",
      "           0       0.54      0.20      0.29     11474\n",
      "           1       0.57      0.87      0.69     14230\n",
      "\n",
      "    accuracy                           0.57     25704\n",
      "   macro avg       0.56      0.53      0.49     25704\n",
      "weighted avg       0.56      0.57      0.51     25704\n",
      "\n"
     ]
    }
   ],
   "source": [
    "print(\"Accuracy:\", accuracy_score(y_test, y_pred))\n",
    "print(\"Classification Report:\\n\", classification_report(y_test, y_pred))"
   ]
  },
  {
   "cell_type": "code",
   "execution_count": 16,
   "id": "234bcfeb-1fbd-4337-91a6-e4c73e8e701c",
   "metadata": {},
   "outputs": [
    {
     "name": "stdout",
     "output_type": "stream",
     "text": [
      "Accuracy: 0.7616713352007469\n",
      "Classification Report:\n",
      "               precision    recall  f1-score   support\n",
      "\n",
      "           0       0.84      0.58      0.68     11474\n",
      "           1       0.73      0.91      0.81     14230\n",
      "\n",
      "    accuracy                           0.76     25704\n",
      "   macro avg       0.78      0.74      0.75     25704\n",
      "weighted avg       0.78      0.76      0.75     25704\n",
      "\n"
     ]
    }
   ],
   "source": [
    "from sklearn.svm import SVC\n",
    "\n",
    "model = SVC()\n",
    "model.fit(X_train, y_train)\n",
    "y_pred = model.predict(X_test)\n",
    "print(\"Accuracy:\", accuracy_score(y_test, y_pred))\n",
    "print(\"Classification Report:\\n\", classification_report(y_test, y_pred))"
   ]
  },
  {
   "cell_type": "code",
   "execution_count": 17,
   "id": "47ea4022-61f2-4203-be64-7fd384599ed6",
   "metadata": {},
   "outputs": [
    {
     "name": "stdout",
     "output_type": "stream",
     "text": [
      "Accuracy: 0.8693977591036415\n",
      "Classification Report:\n",
      "               precision    recall  f1-score   support\n",
      "\n",
      "           0       0.86      0.85      0.85     11474\n",
      "           1       0.88      0.88      0.88     14230\n",
      "\n",
      "    accuracy                           0.87     25704\n",
      "   macro avg       0.87      0.87      0.87     25704\n",
      "weighted avg       0.87      0.87      0.87     25704\n",
      "\n"
     ]
    }
   ],
   "source": [
    "from sklearn.ensemble import RandomForestClassifier\n",
    "\n",
    "model = RandomForestClassifier()\n",
    "model.fit(X_train, y_train)\n",
    "y_pred = model.predict(X_test)\n",
    "print(\"Accuracy:\", accuracy_score(y_test, y_pred))\n",
    "print(\"Classification Report:\\n\", classification_report(y_test, y_pred))"
   ]
  },
  {
   "cell_type": "code",
   "execution_count": 18,
   "id": "dc1e5c15-7ea4-48c5-be85-6944b106eb32",
   "metadata": {},
   "outputs": [
    {
     "data": {
      "text/html": [
       "<div>\n",
       "<style scoped>\n",
       "    .dataframe tbody tr th:only-of-type {\n",
       "        vertical-align: middle;\n",
       "    }\n",
       "\n",
       "    .dataframe tbody tr th {\n",
       "        vertical-align: top;\n",
       "    }\n",
       "\n",
       "    .dataframe thead th {\n",
       "        text-align: right;\n",
       "    }\n",
       "</style>\n",
       "<table border=\"1\" class=\"dataframe\">\n",
       "  <thead>\n",
       "    <tr style=\"text-align: right;\">\n",
       "      <th></th>\n",
       "      <th>Date</th>\n",
       "      <th>Day</th>\n",
       "      <th>Year</th>\n",
       "      <th>Month</th>\n",
       "      <th>Location</th>\n",
       "      <th>Rainfall (in mm)</th>\n",
       "      <th>Latitude</th>\n",
       "      <th>Longitude</th>\n",
       "      <th>Quarter</th>\n",
       "      <th>class</th>\n",
       "      <th>Day_of_Week</th>\n",
       "      <th>Day_of_Year</th>\n",
       "    </tr>\n",
       "  </thead>\n",
       "  <tbody>\n",
       "    <tr>\n",
       "      <th>0</th>\n",
       "      <td>1978-01-01</td>\n",
       "      <td>Day_1</td>\n",
       "      <td>1978</td>\n",
       "      <td>1</td>\n",
       "      <td>0</td>\n",
       "      <td>1</td>\n",
       "      <td>27.25</td>\n",
       "      <td>88.25</td>\n",
       "      <td>1</td>\n",
       "      <td>1</td>\n",
       "      <td>6</td>\n",
       "      <td>1</td>\n",
       "    </tr>\n",
       "    <tr>\n",
       "      <th>1</th>\n",
       "      <td>1978-01-02</td>\n",
       "      <td>Day_2</td>\n",
       "      <td>1978</td>\n",
       "      <td>1</td>\n",
       "      <td>0</td>\n",
       "      <td>0</td>\n",
       "      <td>27.25</td>\n",
       "      <td>88.25</td>\n",
       "      <td>1</td>\n",
       "      <td>0</td>\n",
       "      <td>0</td>\n",
       "      <td>2</td>\n",
       "    </tr>\n",
       "    <tr>\n",
       "      <th>2</th>\n",
       "      <td>1978-01-03</td>\n",
       "      <td>Day_3</td>\n",
       "      <td>1978</td>\n",
       "      <td>1</td>\n",
       "      <td>0</td>\n",
       "      <td>0</td>\n",
       "      <td>27.25</td>\n",
       "      <td>88.25</td>\n",
       "      <td>1</td>\n",
       "      <td>0</td>\n",
       "      <td>1</td>\n",
       "      <td>3</td>\n",
       "    </tr>\n",
       "    <tr>\n",
       "      <th>3</th>\n",
       "      <td>1978-01-04</td>\n",
       "      <td>Day_4</td>\n",
       "      <td>1978</td>\n",
       "      <td>1</td>\n",
       "      <td>0</td>\n",
       "      <td>0</td>\n",
       "      <td>27.25</td>\n",
       "      <td>88.25</td>\n",
       "      <td>1</td>\n",
       "      <td>0</td>\n",
       "      <td>2</td>\n",
       "      <td>4</td>\n",
       "    </tr>\n",
       "    <tr>\n",
       "      <th>4</th>\n",
       "      <td>1978-01-05</td>\n",
       "      <td>Day_5</td>\n",
       "      <td>1978</td>\n",
       "      <td>1</td>\n",
       "      <td>0</td>\n",
       "      <td>0</td>\n",
       "      <td>27.25</td>\n",
       "      <td>88.25</td>\n",
       "      <td>1</td>\n",
       "      <td>0</td>\n",
       "      <td>3</td>\n",
       "      <td>5</td>\n",
       "    </tr>\n",
       "  </tbody>\n",
       "</table>\n",
       "</div>"
      ],
      "text/plain": [
       "        Date    Day  Year  Month  Location  Rainfall (in mm)  Latitude  \\\n",
       "0 1978-01-01  Day_1  1978      1         0                 1     27.25   \n",
       "1 1978-01-02  Day_2  1978      1         0                 0     27.25   \n",
       "2 1978-01-03  Day_3  1978      1         0                 0     27.25   \n",
       "3 1978-01-04  Day_4  1978      1         0                 0     27.25   \n",
       "4 1978-01-05  Day_5  1978      1         0                 0     27.25   \n",
       "\n",
       "   Longitude  Quarter  class  Day_of_Week  Day_of_Year  \n",
       "0      88.25        1      1            6            1  \n",
       "1      88.25        1      0            0            2  \n",
       "2      88.25        1      0            1            3  \n",
       "3      88.25        1      0            2            4  \n",
       "4      88.25        1      0            3            5  "
      ]
     },
     "execution_count": 18,
     "metadata": {},
     "output_type": "execute_result"
    }
   ],
   "source": [
    "new = data[data['Location'] == 0]\n",
    "new.head()"
   ]
  },
  {
   "cell_type": "code",
   "execution_count": 19,
   "id": "78ffb52c-ebc2-4915-a8e9-10209d8959ef",
   "metadata": {},
   "outputs": [
    {
     "data": {
      "text/plain": [
       "(7789, 12)"
      ]
     },
     "execution_count": 19,
     "metadata": {},
     "output_type": "execute_result"
    }
   ],
   "source": [
    "new.shape"
   ]
  },
  {
   "cell_type": "code",
   "execution_count": 20,
   "id": "254310c9-f2fb-4592-99c4-97b0c8938fe6",
   "metadata": {},
   "outputs": [
    {
     "data": {
      "text/plain": [
       "<AxesSubplot:xlabel='Month', ylabel='Rainfall (in mm)'>"
      ]
     },
     "execution_count": 20,
     "metadata": {},
     "output_type": "execute_result"
    },
    {
     "data": {
      "image/png": "[encoded data removed]",
      "text/plain": [
       "<Figure size 640x480 with 1 Axes>"
      ]
     },
     "metadata": {},
     "output_type": "display_data"
    }
   ],
   "source": [
    "# checking which month has the highest rainfall for location 0\n",
    "monthly_rainfall = new.groupby('Month')['Rainfall (in mm)'].sum().reset_index()\n",
    "\n",
    "# Plotting the total rainfall for each month\n",
    "sns.barplot(x='Month', y='Rainfall (in mm)', data=monthly_rainfall)"
   ]
  },
  {
   "cell_type": "markdown",
   "id": "3df5f3a2-5fb5-41e6-be0a-6a9631bd4525",
   "metadata": {},
   "source": [
    "**We can see that location 0 experience most rainfall in 8th month i.e august**"
   ]
  },
  {
   "cell_type": "code",
   "execution_count": 21,
   "id": "671af2a8-f411-4465-8b3f-553bda14c01e",
   "metadata": {},
   "outputs": [
    {
     "data": {
      "text/html": [
       "<div>\n",
       "<style scoped>\n",
       "    .dataframe tbody tr th:only-of-type {\n",
       "        vertical-align: middle;\n",
       "    }\n",
       "\n",
       "    .dataframe tbody tr th {\n",
       "        vertical-align: top;\n",
       "    }\n",
       "\n",
       "    .dataframe thead th {\n",
       "        text-align: right;\n",
       "    }\n",
       "</style>\n",
       "<table border=\"1\" class=\"dataframe\">\n",
       "  <thead>\n",
       "    <tr style=\"text-align: right;\">\n",
       "      <th></th>\n",
       "      <th>Month</th>\n",
       "      <th>Rainfall (in mm)</th>\n",
       "    </tr>\n",
       "  </thead>\n",
       "  <tbody>\n",
       "    <tr>\n",
       "      <th>0</th>\n",
       "      <td>1</td>\n",
       "      <td>385</td>\n",
       "    </tr>\n",
       "    <tr>\n",
       "      <th>1</th>\n",
       "      <td>2</td>\n",
       "      <td>604</td>\n",
       "    </tr>\n",
       "    <tr>\n",
       "      <th>2</th>\n",
       "      <td>3</td>\n",
       "      <td>1214</td>\n",
       "    </tr>\n",
       "    <tr>\n",
       "      <th>3</th>\n",
       "      <td>4</td>\n",
       "      <td>2890</td>\n",
       "    </tr>\n",
       "    <tr>\n",
       "      <th>4</th>\n",
       "      <td>5</td>\n",
       "      <td>4429</td>\n",
       "    </tr>\n",
       "    <tr>\n",
       "      <th>5</th>\n",
       "      <td>6</td>\n",
       "      <td>8367</td>\n",
       "    </tr>\n",
       "    <tr>\n",
       "      <th>6</th>\n",
       "      <td>7</td>\n",
       "      <td>11920</td>\n",
       "    </tr>\n",
       "    <tr>\n",
       "      <th>7</th>\n",
       "      <td>8</td>\n",
       "      <td>8188</td>\n",
       "    </tr>\n",
       "    <tr>\n",
       "      <th>8</th>\n",
       "      <td>9</td>\n",
       "      <td>7145</td>\n",
       "    </tr>\n",
       "    <tr>\n",
       "      <th>9</th>\n",
       "      <td>10</td>\n",
       "      <td>2278</td>\n",
       "    </tr>\n",
       "    <tr>\n",
       "      <th>10</th>\n",
       "      <td>11</td>\n",
       "      <td>399</td>\n",
       "    </tr>\n",
       "    <tr>\n",
       "      <th>11</th>\n",
       "      <td>12</td>\n",
       "      <td>269</td>\n",
       "    </tr>\n",
       "  </tbody>\n",
       "</table>\n",
       "</div>"
      ],
      "text/plain": [
       "    Month  Rainfall (in mm)\n",
       "0       1               385\n",
       "1       2               604\n",
       "2       3              1214\n",
       "3       4              2890\n",
       "4       5              4429\n",
       "5       6              8367\n",
       "6       7             11920\n",
       "7       8              8188\n",
       "8       9              7145\n",
       "9      10              2278\n",
       "10     11               399\n",
       "11     12               269"
      ]
     },
     "execution_count": 21,
     "metadata": {},
     "output_type": "execute_result"
    }
   ],
   "source": [
    "monthly_rainfall"
   ]
  },
  {
   "cell_type": "code",
   "execution_count": 22,
   "id": "571a0c82-bfd8-43b2-bba7-820025501e4b",
   "metadata": {},
   "outputs": [
    {
     "data": {
      "text/plain": [
       "11920"
      ]
     },
     "execution_count": 22,
     "metadata": {},
     "output_type": "execute_result"
    }
   ],
   "source": [
    "most_rainfall = new.groupby('Month')['Rainfall (in mm)'].sum().max()\n",
    "most_rainfall"
   ]
  },
  {
   "cell_type": "code",
   "execution_count": 26,
   "id": "fe367800-c70b-4748-ac1a-01bac5d13855",
   "metadata": {},
   "outputs": [
    {
     "data": {
      "text/html": [
       "<div>\n",
       "<style scoped>\n",
       "    .dataframe tbody tr th:only-of-type {\n",
       "        vertical-align: middle;\n",
       "    }\n",
       "\n",
       "    .dataframe tbody tr th {\n",
       "        vertical-align: top;\n",
       "    }\n",
       "\n",
       "    .dataframe thead th {\n",
       "        text-align: right;\n",
       "    }\n",
       "</style>\n",
       "<table border=\"1\" class=\"dataframe\">\n",
       "  <thead>\n",
       "    <tr style=\"text-align: right;\">\n",
       "      <th></th>\n",
       "      <th>Month</th>\n",
       "      <th>Location</th>\n",
       "      <th>Rainfall (in mm)</th>\n",
       "    </tr>\n",
       "  </thead>\n",
       "  <tbody>\n",
       "    <tr>\n",
       "      <th>0</th>\n",
       "      <td>1</td>\n",
       "      <td>0</td>\n",
       "      <td>385</td>\n",
       "    </tr>\n",
       "    <tr>\n",
       "      <th>1</th>\n",
       "      <td>1</td>\n",
       "      <td>1</td>\n",
       "      <td>406</td>\n",
       "    </tr>\n",
       "    <tr>\n",
       "      <th>2</th>\n",
       "      <td>1</td>\n",
       "      <td>2</td>\n",
       "      <td>761</td>\n",
       "    </tr>\n",
       "    <tr>\n",
       "      <th>3</th>\n",
       "      <td>1</td>\n",
       "      <td>3</td>\n",
       "      <td>327</td>\n",
       "    </tr>\n",
       "    <tr>\n",
       "      <th>4</th>\n",
       "      <td>1</td>\n",
       "      <td>4</td>\n",
       "      <td>791</td>\n",
       "    </tr>\n",
       "    <tr>\n",
       "      <th>...</th>\n",
       "      <td>...</td>\n",
       "      <td>...</td>\n",
       "      <td>...</td>\n",
       "    </tr>\n",
       "    <tr>\n",
       "      <th>127</th>\n",
       "      <td>12</td>\n",
       "      <td>6</td>\n",
       "      <td>443</td>\n",
       "    </tr>\n",
       "    <tr>\n",
       "      <th>128</th>\n",
       "      <td>12</td>\n",
       "      <td>7</td>\n",
       "      <td>516</td>\n",
       "    </tr>\n",
       "    <tr>\n",
       "      <th>129</th>\n",
       "      <td>12</td>\n",
       "      <td>8</td>\n",
       "      <td>529</td>\n",
       "    </tr>\n",
       "    <tr>\n",
       "      <th>130</th>\n",
       "      <td>12</td>\n",
       "      <td>9</td>\n",
       "      <td>513</td>\n",
       "    </tr>\n",
       "    <tr>\n",
       "      <th>131</th>\n",
       "      <td>12</td>\n",
       "      <td>10</td>\n",
       "      <td>519</td>\n",
       "    </tr>\n",
       "  </tbody>\n",
       "</table>\n",
       "<p>132 rows × 3 columns</p>\n",
       "</div>"
      ],
      "text/plain": [
       "     Month  Location  Rainfall (in mm)\n",
       "0        1         0               385\n",
       "1        1         1               406\n",
       "2        1         2               761\n",
       "3        1         3               327\n",
       "4        1         4               791\n",
       "..     ...       ...               ...\n",
       "127     12         6               443\n",
       "128     12         7               516\n",
       "129     12         8               529\n",
       "130     12         9               513\n",
       "131     12        10               519\n",
       "\n",
       "[132 rows x 3 columns]"
      ]
     },
     "execution_count": 26,
     "metadata": {},
     "output_type": "execute_result"
    }
   ],
   "source": [
    "monthly_location_rainfall = data.groupby(['Month','Location'])['Rainfall (in mm)'].sum().reset_index()\n",
    "monthly_location_rainfall"
   ]
  },
  {
   "cell_type": "code",
   "execution_count": 27,
   "id": "dc4f7d53-1100-4153-832c-03acf29e3d50",
   "metadata": {},
   "outputs": [
    {
     "data": {
      "text/plain": [
       "<seaborn.axisgrid.FacetGrid at 0x1a3d9d752b0>"
      ]
     },
     "execution_count": 27,
     "metadata": {},
     "output_type": "execute_result"
    },
    {
     "data": {
      "image/png": "[encoded data removed]",
      "text/plain": [
       "<Figure size 1600x1200 with 11 Axes>"
      ]
     },
     "metadata": {},
     "output_type": "display_data"
    }
   ],
   "source": [
    "# g = sns.FacetGrid(data = monthly_location_rainfall , col=\"Location\", col_wrap=4, height=4)\n",
    "# g.map(sns.barplot , 'Month' , 'Rainfall (in mm)',order=range(1, 13))\n",
    "\n",
    "sns.catplot(\n",
    "    data=monthly_location_rainfall,\n",
    "    kind=\"bar\",\n",
    "    x=\"Month\",\n",
    "    y=\"Rainfall (in mm)\",\n",
    "    col=\"Location\",\n",
    "    col_wrap=4,\n",
    "    order=range(1, 13),\n",
    "    height=4\n",
    ")\n"
   ]
  },
  {
   "cell_type": "markdown",
   "id": "fa566d0a-c8c6-4612-842e-d586d7985998",
   "metadata": {},
   "source": [
    "**We can see that all 11 locations experience highest rainfalls in the months of june, july, august**"
   ]
  }
 ],
 "metadata": {
  "kernelspec": {
   "display_name": "Python 3 (ipykernel)",
   "language": "python",
   "name": "python3"
  },
  "language_info": {
   "codemirror_mode": {
    "name": "ipython",
    "version": 3
   },
   "file_extension": ".py",
   "mimetype": "text/x-python",
   "name": "python",
   "nbconvert_exporter": "python",
   "pygments_lexer": "ipython3",
   "version": "3.9.13"
  }
 },
 "nbformat": 4,
 "nbformat_minor": 5
}
