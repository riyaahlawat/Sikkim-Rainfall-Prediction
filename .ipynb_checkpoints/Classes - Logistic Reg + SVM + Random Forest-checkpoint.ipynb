{
 "cells": [
  {
   "cell_type": "code",
   "execution_count": 1,
   "id": "294cf10d-1ef4-4fe2-9ca6-7308dd725710",
   "metadata": {},
   "outputs": [],
   "source": [
    "import numpy as np\n",
    "import pandas as pd\n",
    "import matplotlib.pyplot as plt\n",
    "import seaborn as sns\n",
    "# Ensure inline plotting if using Jupyter Notebook\n",
    "%matplotlib inline\n",
    "from sklearn.model_selection import train_test_split\n",
    "from sklearn.metrics import classification_report,accuracy_score"
   ]
  },
  {
   "cell_type": "code",
   "execution_count": 2,
   "id": "f1859df7-4736-4795-b651-ed30f1926b8d",
   "metadata": {},
   "outputs": [
    {
     "name": "stdout",
     "output_type": "stream",
     "text": [
      "        Date    Day  Year  Month Location  Rainfall (in mm)  Latitude  \\\n",
      "0 1978-01-01  Day_1  1978      1    Loc_0               1.0     27.25   \n",
      "1 1978-01-02  Day_2  1978      1    Loc_0               0.0     27.25   \n",
      "2 1978-01-03  Day_3  1978      1    Loc_0               0.0     27.25   \n",
      "3 1978-01-04  Day_4  1978      1    Loc_0               0.0     27.25   \n",
      "4 1978-01-05  Day_5  1978      1    Loc_0               0.0     27.25   \n",
      "\n",
      "   Longitude  Quarter  \n",
      "0      88.25        1  \n",
      "1      88.25        1  \n",
      "2      88.25        1  \n",
      "3      88.25        1  \n",
      "4      88.25        1  \n"
     ]
    }
   ],
   "source": [
    "import pandas as pd\n",
    "\n",
    "# 1978 to 2022\n",
    "file_path = r\"C:\\Users\\rahla\\Desktop\\Sikkim-Rainfall-Prediction\\Combined Datasets\\combined_1978_to_2022.xlsx\"\n",
    "\n",
    "# Read the Excel file\n",
    "data = pd.read_excel(file_path)\n",
    "\n",
    "# Display the first few rows of the data\n",
    "print(data.head())"
   ]
  },
  {
   "cell_type": "code",
   "execution_count": 3,
   "id": "93dbc3e4-d613-43eb-87d3-ccc0d31c030a",
   "metadata": {},
   "outputs": [
    {
     "data": {
      "text/plain": [
       "(178090, 9)"
      ]
     },
     "execution_count": 3,
     "metadata": {},
     "output_type": "execute_result"
    }
   ],
   "source": [
    "data.shape"
   ]
  },
  {
   "cell_type": "code",
   "execution_count": 4,
   "id": "d3ae34a7",
   "metadata": {},
   "outputs": [
    {
     "name": "stdout",
     "output_type": "stream",
     "text": [
      "Index(['Date', 'Day', 'Year', 'Month', 'Location', 'Rainfall (in mm)',\n",
      "       'Latitude', 'Longitude', 'Quarter'],\n",
      "      dtype='object')\n"
     ]
    }
   ],
   "source": [
    "print(data.columns)"
   ]
  },
  {
   "cell_type": "code",
   "execution_count": 5,
   "id": "ad4dbc22-6d46-47b2-8d9e-9a007a57a0d9",
   "metadata": {},
   "outputs": [
    {
     "data": {
      "text/html": [
       "<div>\n",
       "<style scoped>\n",
       "    .dataframe tbody tr th:only-of-type {\n",
       "        vertical-align: middle;\n",
       "    }\n",
       "\n",
       "    .dataframe tbody tr th {\n",
       "        vertical-align: top;\n",
       "    }\n",
       "\n",
       "    .dataframe thead th {\n",
       "        text-align: right;\n",
       "    }\n",
       "</style>\n",
       "<table border=\"1\" class=\"dataframe\">\n",
       "  <thead>\n",
       "    <tr style=\"text-align: right;\">\n",
       "      <th></th>\n",
       "      <th>Date</th>\n",
       "      <th>Day</th>\n",
       "      <th>Year</th>\n",
       "      <th>Month</th>\n",
       "      <th>Location</th>\n",
       "      <th>Rainfall (in mm)</th>\n",
       "      <th>Latitude</th>\n",
       "      <th>Longitude</th>\n",
       "      <th>Quarter</th>\n",
       "      <th>class</th>\n",
       "    </tr>\n",
       "  </thead>\n",
       "  <tbody>\n",
       "    <tr>\n",
       "      <th>0</th>\n",
       "      <td>1978-01-01</td>\n",
       "      <td>Day_1</td>\n",
       "      <td>1978</td>\n",
       "      <td>1</td>\n",
       "      <td>Loc_0</td>\n",
       "      <td>1.0</td>\n",
       "      <td>27.25</td>\n",
       "      <td>88.25</td>\n",
       "      <td>1</td>\n",
       "      <td>1</td>\n",
       "    </tr>\n",
       "    <tr>\n",
       "      <th>1</th>\n",
       "      <td>1978-01-02</td>\n",
       "      <td>Day_2</td>\n",
       "      <td>1978</td>\n",
       "      <td>1</td>\n",
       "      <td>Loc_0</td>\n",
       "      <td>0.0</td>\n",
       "      <td>27.25</td>\n",
       "      <td>88.25</td>\n",
       "      <td>1</td>\n",
       "      <td>0</td>\n",
       "    </tr>\n",
       "    <tr>\n",
       "      <th>2</th>\n",
       "      <td>1978-01-03</td>\n",
       "      <td>Day_3</td>\n",
       "      <td>1978</td>\n",
       "      <td>1</td>\n",
       "      <td>Loc_0</td>\n",
       "      <td>0.0</td>\n",
       "      <td>27.25</td>\n",
       "      <td>88.25</td>\n",
       "      <td>1</td>\n",
       "      <td>0</td>\n",
       "    </tr>\n",
       "    <tr>\n",
       "      <th>3</th>\n",
       "      <td>1978-01-04</td>\n",
       "      <td>Day_4</td>\n",
       "      <td>1978</td>\n",
       "      <td>1</td>\n",
       "      <td>Loc_0</td>\n",
       "      <td>0.0</td>\n",
       "      <td>27.25</td>\n",
       "      <td>88.25</td>\n",
       "      <td>1</td>\n",
       "      <td>0</td>\n",
       "    </tr>\n",
       "    <tr>\n",
       "      <th>4</th>\n",
       "      <td>1978-01-05</td>\n",
       "      <td>Day_5</td>\n",
       "      <td>1978</td>\n",
       "      <td>1</td>\n",
       "      <td>Loc_0</td>\n",
       "      <td>0.0</td>\n",
       "      <td>27.25</td>\n",
       "      <td>88.25</td>\n",
       "      <td>1</td>\n",
       "      <td>0</td>\n",
       "    </tr>\n",
       "  </tbody>\n",
       "</table>\n",
       "</div>"
      ],
      "text/plain": [
       "        Date    Day  Year  Month Location  Rainfall (in mm)  Latitude  \\\n",
       "0 1978-01-01  Day_1  1978      1    Loc_0               1.0     27.25   \n",
       "1 1978-01-02  Day_2  1978      1    Loc_0               0.0     27.25   \n",
       "2 1978-01-03  Day_3  1978      1    Loc_0               0.0     27.25   \n",
       "3 1978-01-04  Day_4  1978      1    Loc_0               0.0     27.25   \n",
       "4 1978-01-05  Day_5  1978      1    Loc_0               0.0     27.25   \n",
       "\n",
       "   Longitude  Quarter  class  \n",
       "0      88.25        1      1  \n",
       "1      88.25        1      0  \n",
       "2      88.25        1      0  \n",
       "3      88.25        1      0  \n",
       "4      88.25        1      0  "
      ]
     },
     "execution_count": 5,
     "metadata": {},
     "output_type": "execute_result"
    }
   ],
   "source": [
    "data['class'] = data['Rainfall (in mm)'].apply(lambda x : 1 if x > 0 else 0)\n",
    "data.head()\n",
    "\n",
    "# divided in classes - 1 for rainfall, 0 for no rainfall"
   ]
  },
  {
   "cell_type": "code",
   "execution_count": 6,
   "id": "e6e2c070-bd91-4be0-a81c-a47ea15faaf3",
   "metadata": {},
   "outputs": [
    {
     "data": {
      "text/plain": [
       "class\n",
       "1    101472\n",
       "0     76618\n",
       "Name: count, dtype: int64"
      ]
     },
     "execution_count": 6,
     "metadata": {},
     "output_type": "execute_result"
    }
   ],
   "source": [
    "data['class'].value_counts()"
   ]
  },
  {
   "cell_type": "code",
   "execution_count": 7,
   "id": "1e93bd93-3545-490a-9502-90f1633a1f22",
   "metadata": {},
   "outputs": [
    {
     "name": "stdout",
     "output_type": "stream",
     "text": [
      "<class 'pandas.core.frame.DataFrame'>\n",
      "RangeIndex: 178090 entries, 0 to 178089\n",
      "Data columns (total 10 columns):\n",
      " #   Column            Non-Null Count   Dtype         \n",
      "---  ------            --------------   -----         \n",
      " 0   Date              178090 non-null  datetime64[ns]\n",
      " 1   Day               178090 non-null  object        \n",
      " 2   Year              178090 non-null  int64         \n",
      " 3   Month             178090 non-null  int64         \n",
      " 4   Location          178090 non-null  object        \n",
      " 5   Rainfall (in mm)  178090 non-null  float64       \n",
      " 6   Latitude          178090 non-null  float64       \n",
      " 7   Longitude         178090 non-null  float64       \n",
      " 8   Quarter           178090 non-null  int64         \n",
      " 9   class             178090 non-null  int64         \n",
      "dtypes: datetime64[ns](1), float64(3), int64(4), object(2)\n",
      "memory usage: 13.6+ MB\n"
     ]
    }
   ],
   "source": [
    "data.info()"
   ]
  },
  {
   "cell_type": "code",
   "execution_count": 8,
   "id": "2196244e-1256-4a22-bc53-457cff7e9b40",
   "metadata": {},
   "outputs": [],
   "source": [
    "data['Day_of_Week'] = data['Date'].dt.dayofweek  # Day of the week (0=Monday, 6=Sunday)\n",
    "data['Day_of_Year'] = data['Date'].dt.dayofyear  # Day of the year (1-365/366) "
   ]
  },
  {
   "cell_type": "code",
   "execution_count": 9,
   "id": "4cf41261",
   "metadata": {},
   "outputs": [
    {
     "name": "stdout",
     "output_type": "stream",
     "text": [
      "Index(['Date', 'Day', 'Year', 'Month', 'Location', 'Rainfall (in mm)',\n",
      "       'Latitude', 'Longitude', 'Quarter', 'class', 'Day_of_Week',\n",
      "       'Day_of_Year'],\n",
      "      dtype='object')\n"
     ]
    }
   ],
   "source": [
    "print(data.columns)"
   ]
  },
  {
   "cell_type": "code",
   "execution_count": 10,
   "id": "c5d8367e-b136-4f64-a1bd-5ab0fdc14ab4",
   "metadata": {},
   "outputs": [],
   "source": [
    "from sklearn.preprocessing import LabelEncoder\n",
    "label_encoder = LabelEncoder()\n",
    "data['Location'] = label_encoder.fit_transform(data['Location'])"
   ]
  },
  {
   "cell_type": "code",
   "execution_count": 11,
   "id": "e76e2f6b-ce5c-4180-b06b-5c57dfe1e461",
   "metadata": {},
   "outputs": [],
   "source": [
    "X = data.drop(['class','Quarter','Date','Day','Rainfall (in mm)'] , axis = 1)\n",
    "y = data['class']\n",
    "X_train , X_test , y_train , y_test = train_test_split(X , y , test_size = 0.3 , random_state = 1)\n"
   ]
  },
  {
   "cell_type": "code",
   "execution_count": 12,
   "id": "c683e452",
   "metadata": {},
   "outputs": [
    {
     "name": "stdout",
     "output_type": "stream",
     "text": [
      "Index(['Year', 'Month', 'Location', 'Latitude', 'Longitude', 'Day_of_Week',\n",
      "       'Day_of_Year'],\n",
      "      dtype='object')\n"
     ]
    }
   ],
   "source": [
    "print(X.columns)"
   ]
  },
  {
   "cell_type": "code",
   "execution_count": 13,
   "id": "0c94ecbe-9b6f-466c-a59f-aac938b755cc",
   "metadata": {},
   "outputs": [
    {
     "data": {
      "text/plain": [
       "LogisticRegression()"
      ]
     },
     "execution_count": 13,
     "metadata": {},
     "output_type": "execute_result"
    }
   ],
   "source": [
    "from sklearn.linear_model import LogisticRegression\n",
    "model = LogisticRegression()\n",
    "model.fit(X_train , y_train)\n"
   ]
  },
  {
   "cell_type": "code",
   "execution_count": 14,
   "id": "0705fda6-4bf1-467d-9805-24c7e13f9266",
   "metadata": {},
   "outputs": [],
   "source": [
    "y_pred = model.predict(X_test)"
   ]
  },
  {
   "cell_type": "code",
   "execution_count": 15,
   "id": "45205eb4-8a89-4166-8535-0924f2083121",
   "metadata": {},
   "outputs": [
    {
     "name": "stdout",
     "output_type": "stream",
     "text": [
      "Accuracy: 0.5702360229846333\n",
      "Classification Report:\n",
      "               precision    recall  f1-score   support\n",
      "\n",
      "           0       0.82      0.00      0.01     23031\n",
      "           1       0.57      1.00      0.73     30396\n",
      "\n",
      "    accuracy                           0.57     53427\n",
      "   macro avg       0.70      0.50      0.37     53427\n",
      "weighted avg       0.68      0.57      0.42     53427\n",
      "\n"
     ]
    }
   ],
   "source": [
    "print(\"Accuracy:\", accuracy_score(y_test, y_pred))\n",
    "print(\"Classification Report:\\n\", classification_report(y_test, y_pred))"
   ]
  },
  {
   "cell_type": "code",
   "execution_count": null,
   "id": "234bcfeb-1fbd-4337-91a6-e4c73e8e701c",
   "metadata": {},
   "outputs": [],
   "source": [
    "from sklearn.svm import SVC\n",
    "\n",
    "model = SVC()\n",
    "model.fit(X_train, y_train)\n",
    "y_pred = model.predict(X_test)\n",
    "print(\"Accuracy:\", accuracy_score(y_test, y_pred))\n",
    "print(\"Classification Report:\\n\", classification_report(y_test, y_pred))"
   ]
  },
  {
   "cell_type": "code",
   "execution_count": null,
   "id": "47ea4022-61f2-4203-be64-7fd384599ed6",
   "metadata": {},
   "outputs": [],
   "source": [
    "from sklearn.ensemble import RandomForestClassifier\n",
    "\n",
    "model = RandomForestClassifier()\n",
    "model.fit(X_train, y_train)\n",
    "y_pred = model.predict(X_test)\n",
    "print(\"Accuracy:\", accuracy_score(y_test, y_pred))\n",
    "print(\"Classification Report:\\n\", classification_report(y_test, y_pred))"
   ]
  },
  {
   "cell_type": "code",
   "execution_count": null,
   "id": "dc1e5c15-7ea4-48c5-be85-6944b106eb32",
   "metadata": {},
   "outputs": [],
   "source": [
    "new = data[data['Location'] == 0]\n",
    "new.head()"
   ]
  },
  {
   "cell_type": "code",
   "execution_count": null,
   "id": "78ffb52c-ebc2-4915-a8e9-10209d8959ef",
   "metadata": {},
   "outputs": [],
   "source": [
    "new.shape"
   ]
  },
  {
   "cell_type": "code",
   "execution_count": null,
   "id": "254310c9-f2fb-4592-99c4-97b0c8938fe6",
   "metadata": {},
   "outputs": [],
   "source": [
    "# checking which month has the highest rainfall for location 0\n",
    "monthly_rainfall = new.groupby('Month')['Rainfall (in mm)'].sum().reset_index()\n",
    "\n",
    "# Plotting the total rainfall for each month\n",
    "sns.barplot(x='Month', y='Rainfall (in mm)', data=monthly_rainfall)"
   ]
  },
  {
   "cell_type": "markdown",
   "id": "3df5f3a2-5fb5-41e6-be0a-6a9631bd4525",
   "metadata": {},
   "source": [
    "**We can see that location 0 experience most rainfall in 8th month i.e august**"
   ]
  },
  {
   "cell_type": "code",
   "execution_count": null,
   "id": "671af2a8-f411-4465-8b3f-553bda14c01e",
   "metadata": {},
   "outputs": [],
   "source": [
    "monthly_rainfall"
   ]
  },
  {
   "cell_type": "code",
   "execution_count": null,
   "id": "571a0c82-bfd8-43b2-bba7-820025501e4b",
   "metadata": {},
   "outputs": [],
   "source": [
    "most_rainfall = new.groupby('Month')['Rainfall (in mm)'].sum().max()\n",
    "most_rainfall"
   ]
  },
  {
   "cell_type": "code",
   "execution_count": null,
   "id": "fe367800-c70b-4748-ac1a-01bac5d13855",
   "metadata": {},
   "outputs": [],
   "source": [
    "monthly_location_rainfall = data.groupby(['Month','Location'])['Rainfall (in mm)'].sum().reset_index()\n",
    "monthly_location_rainfall"
   ]
  },
  {
   "cell_type": "code",
   "execution_count": null,
   "id": "dc4f7d53-1100-4153-832c-03acf29e3d50",
   "metadata": {},
   "outputs": [],
   "source": [
    "# g = sns.FacetGrid(data = monthly_location_rainfall , col=\"Location\", col_wrap=4, height=4)\n",
    "# g.map(sns.barplot , 'Month' , 'Rainfall (in mm)',order=range(1, 13))\n",
    "\n",
    "sns.catplot(\n",
    "    data=monthly_location_rainfall,\n",
    "    kind=\"bar\",\n",
    "    x=\"Month\",\n",
    "    y=\"Rainfall (in mm)\",\n",
    "    col=\"Location\",\n",
    "    col_wrap=4,\n",
    "    order=range(1, 13),\n",
    "    height=4\n",
    ")\n"
   ]
  },
  {
   "cell_type": "markdown",
   "id": "fa566d0a-c8c6-4612-842e-d586d7985998",
   "metadata": {},
   "source": [
    "**We can see that all 11 locations experience highest rainfalls in the months of june, july, august**"
   ]
  }
 ],
 "metadata": {
  "kernelspec": {
   "display_name": "Python 3 (ipykernel)",
   "language": "python",
   "name": "python3"
  },
  "language_info": {
   "codemirror_mode": {
    "name": "ipython",
    "version": 3
   },
   "file_extension": ".py",
   "mimetype": "text/x-python",
   "name": "python",
   "nbconvert_exporter": "python",
   "pygments_lexer": "ipython3",
   "version": "3.9.13"
  }
 },
 "nbformat": 4,
 "nbformat_minor": 5
}
