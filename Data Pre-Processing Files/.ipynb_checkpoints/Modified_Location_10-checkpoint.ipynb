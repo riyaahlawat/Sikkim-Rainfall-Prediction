{
 "cells": [
  {
   "cell_type": "code",
   "execution_count": 1,
   "id": "02ca0fbd-67a1-44b8-b200-63a154c26dbb",
   "metadata": {},
   "outputs": [],
   "source": [
    "import pandas as pd"
   ]
  },
  {
   "cell_type": "code",
   "execution_count": 2,
   "id": "233fe57b-7e8a-4182-9a9a-7ff21ef5fec9",
   "metadata": {},
   "outputs": [
    {
     "name": "stdout",
     "output_type": "stream",
     "text": [
      "Empty DataFrame\n",
      "Columns: [Date, Day, Year, Month, Location, Rainfall (in mm), Latitude, Longitude, Quarter]\n",
      "Index: []\n"
     ]
    }
   ],
   "source": [
    "# Filter and print rows with NaN values in any column\n",
    "df0 = pd.read_excel(\"..//datasets//Loc_10_data.xlsx\")\n",
    "nan_rows = df0[df0.isna().any(axis=1)]\n",
    "\n",
    "# Display the rows with NaN values\n",
    "print(nan_rows)"
   ]
  },
  {
   "cell_type": "code",
   "execution_count": 3,
   "id": "762ed828-cfe5-44f2-b9b3-d7056ffab32b",
   "metadata": {},
   "outputs": [
    {
     "name": "stdout",
     "output_type": "stream",
     "text": [
      "        Date    Day Location  Rainfall (in mm)  Cumulative_Rainfall\n",
      "0 1901-01-01  Day_1   Loc_10               4.0                  4.0\n",
      "1 1901-01-02  Day_2   Loc_10               7.0                 11.0\n",
      "2 1901-01-03  Day_3   Loc_10               0.0                 11.0\n",
      "3 1901-01-04  Day_4   Loc_10               0.0                  7.0\n",
      "4 1901-01-05  Day_5   Loc_10               0.0                  0.0\n"
     ]
    }
   ],
   "source": [
    "# Ensure the data is sorted by Date to maintain the correct order for summing past days\n",
    "df0['Date'] = pd.to_datetime(df0['Date'])\n",
    "df0 = df0.sort_values('Date')\n",
    "\n",
    "# Calculate the cumulative rainfall for the last 3 days (today and past 2 days)\n",
    "df0['Cumulative_Rainfall'] = df0['Rainfall (in mm)'].rolling(window=3, min_periods=1).sum()\n",
    "\n",
    "# Display the updated DataFrame\n",
    "print(df0[['Date', 'Day', 'Location', 'Rainfall (in mm)', 'Cumulative_Rainfall']].head())"
   ]
  },
  {
   "cell_type": "code",
   "execution_count": 4,
   "id": "3e2079ba-8ba4-4c2d-8a76-0c2548c8afe6",
   "metadata": {},
   "outputs": [
    {
     "name": "stdout",
     "output_type": "stream",
     "text": [
      "        Date    Day Location  Rainfall (in mm)  Cumulative_Rainfall  \\\n",
      "0 1901-01-01  Day_1   Loc_10               4.0                  4.0   \n",
      "1 1901-01-02  Day_2   Loc_10               7.0                 11.0   \n",
      "2 1901-01-03  Day_3   Loc_10               0.0                 11.0   \n",
      "3 1901-01-04  Day_4   Loc_10               0.0                  7.0   \n",
      "4 1901-01-05  Day_5   Loc_10               0.0                  0.0   \n",
      "\n",
      "   Previous_Day_Rainfall  \n",
      "0                    NaN  \n",
      "1                    4.0  \n",
      "2                    7.0  \n",
      "3                    0.0  \n",
      "4                    0.0  \n"
     ]
    }
   ],
   "source": [
    "df0['Previous_Day_Rainfall'] = df0['Rainfall (in mm)'].shift(1)\n",
    "\n",
    "# Display the updated DataFrame\n",
    "print(df0[['Date', 'Day', 'Location', 'Rainfall (in mm)', 'Cumulative_Rainfall', 'Previous_Day_Rainfall']].head())"
   ]
  },
  {
   "cell_type": "code",
   "execution_count": 5,
   "id": "6553862e-26f0-4467-a99f-80bfcede7b28",
   "metadata": {},
   "outputs": [
    {
     "name": "stdout",
     "output_type": "stream",
     "text": [
      "        Date    Day Location  Rainfall (in mm)  Cumulative_Rainfall  \\\n",
      "0 1901-01-01  Day_1   Loc_10               4.0                  4.0   \n",
      "1 1901-01-02  Day_2   Loc_10               7.0                 11.0   \n",
      "2 1901-01-03  Day_3   Loc_10               0.0                 11.0   \n",
      "3 1901-01-04  Day_4   Loc_10               0.0                  7.0   \n",
      "4 1901-01-05  Day_5   Loc_10               0.0                  0.0   \n",
      "\n",
      "   Previous_Day_Rainfall  Weekly Sum  \n",
      "0                    NaN         4.0  \n",
      "1                    4.0        11.0  \n",
      "2                    7.0        11.0  \n",
      "3                    0.0        11.0  \n",
      "4                    0.0        11.0  \n"
     ]
    }
   ],
   "source": [
    "# Calculate the cumulative rainfall for the last 7 days (today and past 6 days)\n",
    "df0['Weekly Sum'] = df0['Rainfall (in mm)'].rolling(window=7, min_periods=1).sum()\n",
    "\n",
    "# Display the updated DataFrame\n",
    "print(df0[['Date', 'Day', 'Location', 'Rainfall (in mm)', 'Cumulative_Rainfall', 'Previous_Day_Rainfall', 'Weekly Sum']].head())"
   ]
  },
  {
   "cell_type": "code",
   "execution_count": 6,
   "id": "50723bac-253c-4a71-8aa6-00b6ec7f35c7",
   "metadata": {},
   "outputs": [
    {
     "name": "stdout",
     "output_type": "stream",
     "text": [
      "        Date    Day  Year  Month Location  Rainfall (in mm)  Latitude  \\\n",
      "0 1901-01-01  Day_1  1901      1   Loc_10               4.0        28   \n",
      "1 1901-01-02  Day_2  1901      1   Loc_10               7.0        28   \n",
      "2 1901-01-03  Day_3  1901      1   Loc_10               0.0        28   \n",
      "3 1901-01-04  Day_4  1901      1   Loc_10               0.0        28   \n",
      "4 1901-01-05  Day_5  1901      1   Loc_10               0.0        28   \n",
      "\n",
      "   Longitude  Quarter  Cumulative_Rainfall  Previous_Day_Rainfall  Weekly Sum  \n",
      "0      88.75        1                  4.0                    NaN         4.0  \n",
      "1      88.75        1                 11.0                    4.0        11.0  \n",
      "2      88.75        1                 11.0                    7.0        11.0  \n",
      "3      88.75        1                  7.0                    0.0        11.0  \n",
      "4      88.75        1                  0.0                    0.0        11.0  \n"
     ]
    }
   ],
   "source": [
    "print(df0.head())"
   ]
  },
  {
   "cell_type": "code",
   "execution_count": 7,
   "id": "b83ac31a-7ae8-46db-ac5e-ce787c836725",
   "metadata": {},
   "outputs": [
    {
     "name": "stdout",
     "output_type": "stream",
     "text": [
      "Date                     0\n",
      "Day                      0\n",
      "Year                     0\n",
      "Month                    0\n",
      "Location                 0\n",
      "Rainfall (in mm)         0\n",
      "Latitude                 0\n",
      "Longitude                0\n",
      "Quarter                  0\n",
      "Cumulative_Rainfall      0\n",
      "Previous_Day_Rainfall    1\n",
      "Weekly Sum               0\n",
      "dtype: int64\n",
      "        Date    Day  Year  Month Location  Rainfall (in mm)  Latitude  \\\n",
      "0 1901-01-01  Day_1  1901      1   Loc_10               4.0        28   \n",
      "1 1901-01-02  Day_2  1901      1   Loc_10               7.0        28   \n",
      "2 1901-01-03  Day_3  1901      1   Loc_10               0.0        28   \n",
      "3 1901-01-04  Day_4  1901      1   Loc_10               0.0        28   \n",
      "4 1901-01-05  Day_5  1901      1   Loc_10               0.0        28   \n",
      "\n",
      "   Longitude  Quarter  Cumulative_Rainfall  Previous_Day_Rainfall  Weekly Sum  \n",
      "0      88.75        1                  4.0                    NaN         4.0  \n",
      "1      88.75        1                 11.0                    4.0        11.0  \n",
      "2      88.75        1                 11.0                    7.0        11.0  \n",
      "3      88.75        1                  7.0                    0.0        11.0  \n",
      "4      88.75        1                  0.0                    0.0        11.0  \n"
     ]
    }
   ],
   "source": [
    "# Check for NaN values in each column\n",
    "nan_count = df0.isna().sum()\n",
    "\n",
    "# Print the count of NaN values in each column\n",
    "print(nan_count)\n",
    "\n",
    "# Display the first few rows to verify\n",
    "print(df0.head())"
   ]
  },
  {
   "cell_type": "code",
   "execution_count": 8,
   "id": "aa0f7c1c-2d08-4340-ac40-2698c431d135",
   "metadata": {},
   "outputs": [
    {
     "name": "stdout",
     "output_type": "stream",
     "text": [
      "            Date      Day  Year  Month Location  Rainfall (in mm)  Latitude  \\\n",
      "0     1901-01-01    Day_1  1901      1   Loc_10               4.0        28   \n",
      "1     1901-01-02    Day_2  1901      1   Loc_10               7.0        28   \n",
      "2     1901-01-03    Day_3  1901      1   Loc_10               0.0        28   \n",
      "3     1901-01-04    Day_4  1901      1   Loc_10               0.0        28   \n",
      "4     1901-01-05    Day_5  1901      1   Loc_10               0.0        28   \n",
      "...          ...      ...   ...    ...      ...               ...       ...   \n",
      "61595 2024-12-27  Day_362  2024     12   Loc_10               0.0        28   \n",
      "61596 2024-12-28  Day_363  2024     12   Loc_10               0.0        28   \n",
      "61597 2024-12-29  Day_364  2024     12   Loc_10               0.0        28   \n",
      "61598 2024-12-30  Day_365  2024     12   Loc_10               0.0        28   \n",
      "61599 2024-12-31  Day_366  2024     12   Loc_10               0.0        28   \n",
      "\n",
      "       Longitude  Quarter  Cumulative_Rainfall  Previous_Day_Rainfall  \\\n",
      "0          88.75        1                  4.0                    0.0   \n",
      "1          88.75        1                 11.0                    4.0   \n",
      "2          88.75        1                 11.0                    7.0   \n",
      "3          88.75        1                  7.0                    0.0   \n",
      "4          88.75        1                  0.0                    0.0   \n",
      "...          ...      ...                  ...                    ...   \n",
      "61595      88.75        4                  0.0                    0.0   \n",
      "61596      88.75        4                  0.0                    0.0   \n",
      "61597      88.75        4                  0.0                    0.0   \n",
      "61598      88.75        4                  0.0                    0.0   \n",
      "61599      88.75        4                  0.0                    0.0   \n",
      "\n",
      "       Weekly Sum  \n",
      "0             4.0  \n",
      "1            11.0  \n",
      "2            11.0  \n",
      "3            11.0  \n",
      "4            11.0  \n",
      "...           ...  \n",
      "61595         3.0  \n",
      "61596         3.0  \n",
      "61597         0.0  \n",
      "61598         0.0  \n",
      "61599         0.0  \n",
      "\n",
      "[61600 rows x 12 columns]\n"
     ]
    }
   ],
   "source": [
    "# Fill empty values (NaN) with 0\n",
    "df0 = df0.fillna(0)\n",
    "\n",
    "# Display the updated DataFrame\n",
    "print(df0)"
   ]
  },
  {
   "cell_type": "code",
   "execution_count": 9,
   "id": "63c8b186-f956-4c48-8112-51a8edf799cf",
   "metadata": {},
   "outputs": [
    {
     "name": "stdout",
     "output_type": "stream",
     "text": [
      "        Date    Day  Year  Month Location  Rainfall (in mm)  Latitude  \\\n",
      "0 1901-01-01  Day_1  1901      1   Loc_10               4.0        28   \n",
      "1 1901-01-02  Day_2  1901      1   Loc_10               7.0        28   \n",
      "2 1901-01-03  Day_3  1901      1   Loc_10               0.0        28   \n",
      "3 1901-01-04  Day_4  1901      1   Loc_10               0.0        28   \n",
      "4 1901-01-05  Day_5  1901      1   Loc_10               0.0        28   \n",
      "\n",
      "   Longitude  Quarter  Cumulative_Rainfall  Previous_Day_Rainfall  Weekly Sum  \\\n",
      "0      88.75        1                  4.0                    0.0         4.0   \n",
      "1      88.75        1                 11.0                    4.0        11.0   \n",
      "2      88.75        1                 11.0                    7.0        11.0   \n",
      "3      88.75        1                  7.0                    0.0        11.0   \n",
      "4      88.75        1                  0.0                    0.0        11.0   \n",
      "\n",
      "   Weekly_Average  \n",
      "0        4.000000  \n",
      "1        5.500000  \n",
      "2        3.666667  \n",
      "3        2.750000  \n",
      "4        2.200000  \n"
     ]
    }
   ],
   "source": [
    "# Calculate the weekly average (7-day rolling mean) of rainfall\n",
    "df0['Weekly_Average'] = df0['Rainfall (in mm)'].rolling(window=7, min_periods=1).mean()\n",
    "\n",
    "# Display the updated DataFrame\n",
    "print(df0.head())"
   ]
  },
  {
   "cell_type": "code",
   "execution_count": 10,
   "id": "36121ec9-372f-45b5-a728-b441abdac8fe",
   "metadata": {},
   "outputs": [
    {
     "name": "stdout",
     "output_type": "stream",
     "text": [
      "        Date    Day Location  Rainfall (in mm) hasRainfall\n",
      "0 1901-01-01  Day_1   Loc_10               4.0         yes\n",
      "1 1901-01-02  Day_2   Loc_10               7.0         yes\n",
      "2 1901-01-03  Day_3   Loc_10               0.0          no\n",
      "3 1901-01-04  Day_4   Loc_10               0.0          no\n",
      "4 1901-01-05  Day_5   Loc_10               0.0          no\n"
     ]
    }
   ],
   "source": [
    "# Create the 'hasRainfall' column based on 'Rainfall (in mm)'\n",
    "df0['hasRainfall'] = df0['Rainfall (in mm)'].apply(lambda x: 'yes' if x > 0 else 'no')\n",
    "\n",
    "# Display the updated DataFrame\n",
    "print(df0[['Date', 'Day', 'Location', 'Rainfall (in mm)', 'hasRainfall']].head())"
   ]
  },
  {
   "cell_type": "code",
   "execution_count": 11,
   "id": "8f928fe7-ee69-47c1-870b-11d4b3a18f02",
   "metadata": {},
   "outputs": [
    {
     "data": {
      "text/html": [
       "<div>\n",
       "<style scoped>\n",
       "    .dataframe tbody tr th:only-of-type {\n",
       "        vertical-align: middle;\n",
       "    }\n",
       "\n",
       "    .dataframe tbody tr th {\n",
       "        vertical-align: top;\n",
       "    }\n",
       "\n",
       "    .dataframe thead th {\n",
       "        text-align: right;\n",
       "    }\n",
       "</style>\n",
       "<table border=\"1\" class=\"dataframe\">\n",
       "  <thead>\n",
       "    <tr style=\"text-align: right;\">\n",
       "      <th></th>\n",
       "      <th>Date</th>\n",
       "      <th>Day</th>\n",
       "      <th>Year</th>\n",
       "      <th>Month</th>\n",
       "      <th>Location</th>\n",
       "      <th>Rainfall (in mm)</th>\n",
       "      <th>Latitude</th>\n",
       "      <th>Longitude</th>\n",
       "      <th>Quarter</th>\n",
       "      <th>Cumulative_Rainfall</th>\n",
       "      <th>Previous_Day_Rainfall</th>\n",
       "      <th>Weekly Sum</th>\n",
       "      <th>Weekly_Average</th>\n",
       "      <th>hasRainfall</th>\n",
       "    </tr>\n",
       "  </thead>\n",
       "  <tbody>\n",
       "    <tr>\n",
       "      <th>0</th>\n",
       "      <td>1901-01-01</td>\n",
       "      <td>Day_1</td>\n",
       "      <td>1901</td>\n",
       "      <td>1</td>\n",
       "      <td>Loc_10</td>\n",
       "      <td>4.0</td>\n",
       "      <td>28</td>\n",
       "      <td>88.75</td>\n",
       "      <td>1</td>\n",
       "      <td>4.0</td>\n",
       "      <td>0.0</td>\n",
       "      <td>4.0</td>\n",
       "      <td>4.000000</td>\n",
       "      <td>yes</td>\n",
       "    </tr>\n",
       "    <tr>\n",
       "      <th>1</th>\n",
       "      <td>1901-01-02</td>\n",
       "      <td>Day_2</td>\n",
       "      <td>1901</td>\n",
       "      <td>1</td>\n",
       "      <td>Loc_10</td>\n",
       "      <td>7.0</td>\n",
       "      <td>28</td>\n",
       "      <td>88.75</td>\n",
       "      <td>1</td>\n",
       "      <td>11.0</td>\n",
       "      <td>4.0</td>\n",
       "      <td>11.0</td>\n",
       "      <td>5.500000</td>\n",
       "      <td>yes</td>\n",
       "    </tr>\n",
       "    <tr>\n",
       "      <th>2</th>\n",
       "      <td>1901-01-03</td>\n",
       "      <td>Day_3</td>\n",
       "      <td>1901</td>\n",
       "      <td>1</td>\n",
       "      <td>Loc_10</td>\n",
       "      <td>0.0</td>\n",
       "      <td>28</td>\n",
       "      <td>88.75</td>\n",
       "      <td>1</td>\n",
       "      <td>11.0</td>\n",
       "      <td>7.0</td>\n",
       "      <td>11.0</td>\n",
       "      <td>3.666667</td>\n",
       "      <td>no</td>\n",
       "    </tr>\n",
       "    <tr>\n",
       "      <th>3</th>\n",
       "      <td>1901-01-04</td>\n",
       "      <td>Day_4</td>\n",
       "      <td>1901</td>\n",
       "      <td>1</td>\n",
       "      <td>Loc_10</td>\n",
       "      <td>0.0</td>\n",
       "      <td>28</td>\n",
       "      <td>88.75</td>\n",
       "      <td>1</td>\n",
       "      <td>7.0</td>\n",
       "      <td>0.0</td>\n",
       "      <td>11.0</td>\n",
       "      <td>2.750000</td>\n",
       "      <td>no</td>\n",
       "    </tr>\n",
       "    <tr>\n",
       "      <th>4</th>\n",
       "      <td>1901-01-05</td>\n",
       "      <td>Day_5</td>\n",
       "      <td>1901</td>\n",
       "      <td>1</td>\n",
       "      <td>Loc_10</td>\n",
       "      <td>0.0</td>\n",
       "      <td>28</td>\n",
       "      <td>88.75</td>\n",
       "      <td>1</td>\n",
       "      <td>0.0</td>\n",
       "      <td>0.0</td>\n",
       "      <td>11.0</td>\n",
       "      <td>2.200000</td>\n",
       "      <td>no</td>\n",
       "    </tr>\n",
       "  </tbody>\n",
       "</table>\n",
       "</div>"
      ],
      "text/plain": [
       "        Date    Day  Year  Month Location  Rainfall (in mm)  Latitude  \\\n",
       "0 1901-01-01  Day_1  1901      1   Loc_10               4.0        28   \n",
       "1 1901-01-02  Day_2  1901      1   Loc_10               7.0        28   \n",
       "2 1901-01-03  Day_3  1901      1   Loc_10               0.0        28   \n",
       "3 1901-01-04  Day_4  1901      1   Loc_10               0.0        28   \n",
       "4 1901-01-05  Day_5  1901      1   Loc_10               0.0        28   \n",
       "\n",
       "   Longitude  Quarter  Cumulative_Rainfall  Previous_Day_Rainfall  Weekly Sum  \\\n",
       "0      88.75        1                  4.0                    0.0         4.0   \n",
       "1      88.75        1                 11.0                    4.0        11.0   \n",
       "2      88.75        1                 11.0                    7.0        11.0   \n",
       "3      88.75        1                  7.0                    0.0        11.0   \n",
       "4      88.75        1                  0.0                    0.0        11.0   \n",
       "\n",
       "   Weekly_Average hasRainfall  \n",
       "0        4.000000         yes  \n",
       "1        5.500000         yes  \n",
       "2        3.666667          no  \n",
       "3        2.750000          no  \n",
       "4        2.200000          no  "
      ]
     },
     "execution_count": 11,
     "metadata": {},
     "output_type": "execute_result"
    }
   ],
   "source": [
    "df0.head()"
   ]
  },
  {
   "cell_type": "code",
   "execution_count": 12,
   "id": "b1dafba6-cd50-4963-b880-6ccf02c7661d",
   "metadata": {},
   "outputs": [
    {
     "name": "stdout",
     "output_type": "stream",
     "text": [
      "          Date      Day Location  Rainfall (in mm)  Cumulative_Rainfall  \\\n",
      "187 1901-07-07  Day_188   Loc_10              77.0                112.0   \n",
      "557 1902-07-12  Day_193   Loc_10              76.0                 87.0   \n",
      "573 1902-07-28  Day_209   Loc_10              71.0                166.0   \n",
      "574 1902-07-29  Day_210   Loc_10              31.0                171.0   \n",
      "587 1902-08-11  Day_223   Loc_10              75.0                109.0   \n",
      "\n",
      "    Landslide_possibility  \n",
      "187                   yes  \n",
      "557                   yes  \n",
      "573                   yes  \n",
      "574                   yes  \n",
      "587                   yes  \n"
     ]
    }
   ],
   "source": [
    "# Create the 'Landslide_possibility' column to check if Today's rainfall or Cumulative rainfall >= 150 mm\n",
    "df0['Landslide_possibility'] = df0.apply(lambda row: 'yes' if row['Rainfall (in mm)'] >= 70 or row['Cumulative_Rainfall'] >= 150 else 'no', axis=1)\n",
    "\n",
    "# Print rows where 'Landslide_possibility' is 'yes'\n",
    "high_rainfall_rows = df0[df0['Landslide_possibility'] == 'yes']\n",
    "\n",
    "# Display the rows with 'yes' in the 'Landslide_possibility' column\n",
    "print(high_rainfall_rows[['Date', 'Day', 'Location', 'Rainfall (in mm)', 'Cumulative_Rainfall', 'Landslide_possibility']].head())"
   ]
  },
  {
   "cell_type": "code",
   "execution_count": 13,
   "id": "5814a9fc-70fb-4f06-baf0-989befb05a17",
   "metadata": {},
   "outputs": [
    {
     "name": "stdout",
     "output_type": "stream",
     "text": [
      "          Date      Day Location  Rainfall (in mm)\n",
      "187 1901-07-07  Day_188   Loc_10              77.0\n",
      "557 1902-07-12  Day_193   Loc_10              76.0\n",
      "573 1902-07-28  Day_209   Loc_10              71.0\n",
      "587 1902-08-11  Day_223   Loc_10              75.0\n",
      "616 1902-09-09  Day_252   Loc_10              88.0\n"
     ]
    }
   ],
   "source": [
    "# Filter the rows where 'Rainfall (in mm)' >= 70 mm\n",
    "high_rainfall_rows = df0[df0['Rainfall (in mm)'] >= 70]\n",
    "\n",
    "# Display the filtered rows\n",
    "print(high_rainfall_rows[['Date', 'Day', 'Location', 'Rainfall (in mm)']].head())"
   ]
  },
  {
   "cell_type": "code",
   "execution_count": 14,
   "id": "fd910724-53dc-4ced-951a-0a344fe21bf9",
   "metadata": {},
   "outputs": [
    {
     "name": "stdout",
     "output_type": "stream",
     "text": [
      "File saved as 'modified_location_10.xlsx'\n"
     ]
    }
   ],
   "source": [
    "# Save the DataFrame to an Excel file\n",
    "df0.to_excel('..//datasets//modified_location_10.xlsx', index=False)\n",
    "\n",
    "# Confirm the file has been saved\n",
    "print(\"File saved as 'modified_location_10.xlsx'\")"
   ]
  },
  {
   "cell_type": "code",
   "execution_count": 15,
   "id": "4d5e2679-5b93-4b2e-9783-78bbb517c327",
   "metadata": {},
   "outputs": [
    {
     "name": "stdout",
     "output_type": "stream",
     "text": [
      "File saved as 'modified_location_10.xlsx'\n"
     ]
    }
   ],
   "source": [
    "import pandas as pd\n",
    "\n",
    "# Define a function to determine the season based on the month\n",
    "def get_season(month):\n",
    "    if month in [12, 1, 2]:\n",
    "        return 'Winter'\n",
    "    elif month in [3, 4, 5]:\n",
    "        return 'Spring'\n",
    "    elif month in [6, 7, 8, 9]:\n",
    "        return 'Monsoon'\n",
    "    elif month in [10, 11]:\n",
    "        return 'Autumn'\n",
    "    else:\n",
    "        return 'Unknown'  # In case there's an unexpected month value\n",
    "\n",
    "# Apply the function to the 'Month' column to create a new 'Season' column\n",
    "df0['Season'] = df0['Month'].apply(get_season)\n",
    "\n",
    "# Save the DataFrame with the new 'Season' column to the same Excel file\n",
    "df0.to_excel('..//datasets//modified_location_10.xlsx', index=False)\n",
    "\n",
    "# Confirm the file has been saved\n",
    "print(\"File saved as 'modified_location_10.xlsx'\")"
   ]
  },
  {
   "cell_type": "code",
   "execution_count": 16,
   "id": "fc03ba99-b30f-4115-9208-0bb0b9c63be8",
   "metadata": {},
   "outputs": [
    {
     "data": {
      "text/plain": [
       "Index(['Date', 'Day', 'Year', 'Month', 'Location', 'Rainfall (in mm)',\n",
       "       'Latitude', 'Longitude', 'Quarter', 'Cumulative_Rainfall',\n",
       "       'Previous_Day_Rainfall', 'Weekly Sum', 'Weekly_Average', 'hasRainfall',\n",
       "       'Landslide_possibility', 'Season'],\n",
       "      dtype='object')"
      ]
     },
     "execution_count": 16,
     "metadata": {},
     "output_type": "execute_result"
    }
   ],
   "source": [
    "df0.columns"
   ]
  },
  {
   "cell_type": "code",
   "execution_count": null,
   "id": "d7711e4f-f5a3-4922-8a2e-3aeff3ff6bed",
   "metadata": {},
   "outputs": [],
   "source": []
  }
 ],
 "metadata": {
  "kernelspec": {
   "display_name": "Python 3 (ipykernel)",
   "language": "python",
   "name": "python3"
  },
  "language_info": {
   "codemirror_mode": {
    "name": "ipython",
    "version": 3
   },
   "file_extension": ".py",
   "mimetype": "text/x-python",
   "name": "python",
   "nbconvert_exporter": "python",
   "pygments_lexer": "ipython3",
   "version": "3.12.7"
  }
 },
 "nbformat": 4,
 "nbformat_minor": 5
}
