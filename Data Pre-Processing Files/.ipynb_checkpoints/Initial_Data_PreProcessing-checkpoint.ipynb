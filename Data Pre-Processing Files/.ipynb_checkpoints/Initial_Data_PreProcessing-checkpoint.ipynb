{
 "cells": [
  {
   "cell_type": "code",
   "execution_count": 10,
   "id": "00cc4944",
   "metadata": {},
   "outputs": [
    {
     "name": "stdout",
     "output_type": "stream",
     "text": [
      "All changes applied and saved to: C:\\Users\\rahla\\Desktop\\Sikkim-Rainfall-Prediction\\Transformed_Dataset\\T_SI_1992.xlsx\n"
     ]
    }
   ],
   "source": [
    "import pandas as pd\n",
    "\n",
    "# Define the folder path and base file names\n",
    "folder_path = \"C:\\\\Users\\\\rahla\\\\Desktop\\\\Sikkim-Rainfall-Prediction\\\\Transformed_Dataset\\\\\"\n",
    "input_base_name = \"SI\"  # Input file base name\n",
    "output_base_name = \"T_SI_\"  # Output file base name\n",
    "\n",
    "# Loop through the years 2011 to 2020\n",
    "for year in range(1992, 1993):\n",
    "    input_file_path = f\"{folder_path}{input_base_name}{year}.xlsx\"  # Construct the input file path\n",
    "    output_file_path = f\"{folder_path}{output_base_name}{year}.xlsx\"  # Construct the output file path\n",
    "    \n",
    "    try:\n",
    "        # Load the dataset\n",
    "        df = pd.read_excel(input_file_path)\n",
    "        \n",
    "        # Extract year and month from the Date column\n",
    "        df['Year'] = pd.to_datetime(df['Date'], format='%Y-%m-%d', errors='coerce').dt.year\n",
    "        df['Month'] = pd.to_datetime(df['Date'], format='%Y-%m-%d', errors='coerce').dt.month\n",
    "        \n",
    "        # Melt the location columns into 'Location' and 'Value' columns\n",
    "        melted_df = pd.melt(\n",
    "            df,\n",
    "            id_vars=['Date', 'Day', 'Year', 'Month'],  # Columns to keep\n",
    "            value_vars=['Loc_0', 'Loc_1', 'Loc_2', 'Loc_3', 'Loc_4', 'Loc_5', 'Loc_6', 'Loc_7', 'Loc_8', 'Loc_9', 'Loc_10'],  # Columns to melt\n",
    "            var_name='Location',  # New column for location names\n",
    "            value_name='Rainfall (in mm)'  # New column for location values\n",
    "        )\n",
    "        \n",
    "        # Create a mapping for latitude and longitude\n",
    "        location_mapping = {\n",
    "            'Loc_0': {'Latitude': 27.25, 'Longitude': 88.25},\n",
    "            'Loc_1': {'Latitude': 27.25, 'Longitude': 88.5},\n",
    "            'Loc_2': {'Latitude': 27.25, 'Longitude': 88.75},\n",
    "            'Loc_3': {'Latitude': 27.5,  'Longitude': 88.25},\n",
    "            'Loc_4': {'Latitude': 27.5,  'Longitude': 88.5},\n",
    "            'Loc_5': {'Latitude': 27.5,  'Longitude': 88.75},\n",
    "            'Loc_6': {'Latitude': 27.75, 'Longitude': 88.25},\n",
    "            'Loc_7': {'Latitude': 27.75, 'Longitude': 88.5},\n",
    "            'Loc_8': {'Latitude': 27.75, 'Longitude': 88.75},\n",
    "            'Loc_9': {'Latitude': 28.0,  'Longitude': 88.5},\n",
    "            'Loc_10': {'Latitude': 28.0,  'Longitude': 88.75},\n",
    "        }\n",
    "        \n",
    "        # Add Latitude and Longitude columns based on the mapping\n",
    "        melted_df['Latitude'] = melted_df['Location'].map(lambda loc: location_mapping[loc]['Latitude'])\n",
    "        melted_df['Longitude'] = melted_df['Location'].map(lambda loc: location_mapping[loc]['Longitude'])\n",
    "        \n",
    "        # Calculate the quarter of the year based on the Month column\n",
    "        melted_df['Quarter'] = (melted_df['Month'] - 1) // 3 + 1\n",
    "        \n",
    "        # Save the final DataFrame to the output file\n",
    "        melted_df.to_excel(output_file_path, index=False)\n",
    "        \n",
    "        print(f\"All changes applied and saved to: {output_file_path}\")\n",
    "    \n",
    "    except Exception as e:\n",
    "        print(f\"Error processing file {input_file_path}: {e}\")\n"
   ]
  },
  {
   "cell_type": "code",
   "execution_count": 11,
   "id": "40f6ff57",
   "metadata": {},
   "outputs": [
    {
     "name": "stdout",
     "output_type": "stream",
     "text": [
      "Processed and saved: C:\\Users\\rahla\\Desktop\\Sikkim-Rainfall-Prediction\\Transformed_Dataset\\T_SI_1992.xlsx\n"
     ]
    }
   ],
   "source": [
    "#remove empty rows from all the datasets\n",
    "\n",
    "import pandas as pd\n",
    "\n",
    "# Define the folder path and base file name\n",
    "folder_path = \"C:\\\\Users\\\\rahla\\\\Desktop\\\\Sikkim-Rainfall-Prediction\\\\Transformed_Dataset\\\\\"\n",
    "base_file_name = \"T_SI_\"\n",
    "\n",
    "# Loop through the years 2000 to 2021\n",
    "for year in range(1992, 1993):\n",
    "    file_path = f\"{folder_path}{base_file_name}{year}.xlsx\"  # Construct the file path\n",
    "    try:\n",
    "        # Load the dataset\n",
    "        df = pd.read_excel(file_path)\n",
    "        \n",
    "        # Remove rows where the Date column is empty\n",
    "        df = df[df['Date'].notna()]\n",
    "        \n",
    "        # Save the updated dataset back to the same file\n",
    "        df.to_excel(file_path, index=False)\n",
    "        print(f\"Processed and saved: {file_path}\")\n",
    "    except Exception as e:\n",
    "        print(f\"Error processing file {file_path}: {e}\")\n"
   ]
  },
  {
   "cell_type": "code",
   "execution_count": null,
   "id": "cc6e6b02",
   "metadata": {},
   "outputs": [],
   "source": []
  }
 ],
 "metadata": {
  "kernelspec": {
   "display_name": "Python 3",
   "language": "python",
   "name": "python3"
  },
  "language_info": {
   "codemirror_mode": {
    "name": "ipython",
    "version": 3
   },
   "file_extension": ".py",
   "mimetype": "text/x-python",
   "name": "python",
   "nbconvert_exporter": "python",
   "pygments_lexer": "ipython3",
   "version": "3.11.0"
  }
 },
 "nbformat": 4,
 "nbformat_minor": 5
}
