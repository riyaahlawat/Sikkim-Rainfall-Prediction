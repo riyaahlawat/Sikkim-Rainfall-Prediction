{
 "cells": [
  {
   "cell_type": "code",
   "execution_count": 7,
   "id": "4bad7aa4-826b-4139-8af3-b496c038f83b",
   "metadata": {},
   "outputs": [
    {
     "name": "stdout",
     "output_type": "stream",
     "text": [
      "Merging complete. File saved as 'merged_data_1901_to_2022.xlsx'.\n"
     ]
    }
   ],
   "source": [
    "# import pandas as pd\n",
    "\n",
    "# # Load the three datasets\n",
    "# df1 = pd.read_excel(\"..//combined datasets//combined_data_1901_to_1938.xlsx\")\n",
    "# df2 = pd.read_excel(\"..//combined datasets//combined_data_1939_to_1977.xlsx\")\n",
    "# df3 = pd.read_excel(\"..//combined datasets//combined_data_1978_to_2022.xlsx\")\n",
    "\n",
    "# # Concatenate the datasets vertically\n",
    "# combined_df = pd.concat([df1, df2, df3], ignore_index=True)\n",
    "\n",
    "# # Remove duplicate columns based on column names (assuming dates are in column names)\n",
    "# combined_df = combined_df.loc[:, ~combined_df.columns.duplicated()]\n",
    "\n",
    "# # Save the merged dataset\n",
    "# combined_df.to_excel(\"merged_data_1901_to_2022.xlsx\", index=False)\n",
    "\n",
    "# print(\"Merging complete. File saved as 'merged_data_1901_to_2022.xlsx'.\")\n"
   ]
  },
  {
   "cell_type": "code",
   "execution_count": 18,
   "id": "76bac09e-2d83-4508-9db3-911b3abc4f50",
   "metadata": {},
   "outputs": [
    {
     "name": "stdout",
     "output_type": "stream",
     "text": [
      "             Date      Day    Year  Month Location  Rainfall (in mm)  \\\n",
      "0      1901-01-01    Day_1  1901.0    1.0    Loc_0               3.0   \n",
      "1      1901-01-02    Day_2  1901.0    1.0    Loc_0               8.0   \n",
      "2      1901-01-03    Day_3  1901.0    1.0    Loc_0               0.0   \n",
      "3      1901-01-04    Day_4  1901.0    1.0    Loc_0               0.0   \n",
      "4      1901-01-05    Day_5  1901.0    1.0    Loc_0               0.0   \n",
      "...           ...      ...     ...    ...      ...               ...   \n",
      "669675 2022-12-27  Day_361  2022.0   12.0   Loc_10               0.6   \n",
      "669676 2022-12-28  Day_362  2022.0   12.0   Loc_10               0.7   \n",
      "669677 2022-12-29  Day_363  2022.0   12.0   Loc_10               0.1   \n",
      "669678 2022-12-30  Day_364  2022.0   12.0   Loc_10               0.0   \n",
      "669679 2022-12-31  Day_365  2022.0   12.0   Loc_10               0.0   \n",
      "\n",
      "        Latitude  Longitude  Quarter  \n",
      "0          27.25      88.25      1.0  \n",
      "1          27.25      88.25      1.0  \n",
      "2          27.25      88.25      1.0  \n",
      "3          27.25      88.25      1.0  \n",
      "4          27.25      88.25      1.0  \n",
      "...          ...        ...      ...  \n",
      "669675     28.00      88.75      4.0  \n",
      "669676     28.00      88.75      4.0  \n",
      "669677     28.00      88.75      4.0  \n",
      "669678     28.00      88.75      4.0  \n",
      "669679     28.00      88.75      4.0  \n",
      "\n",
      "[669680 rows x 9 columns]\n"
     ]
    }
   ],
   "source": [
    "import pandas as pd\n",
    "\n",
    "# Load the Excel file\n",
    "df = pd.read_excel(\"merged_data_1901_to_2022.xlsx\")\n",
    "\n",
    "# Display the DataFrame\n",
    "print(df)"
   ]
  },
  {
   "cell_type": "code",
   "execution_count": 21,
   "id": "486f7051-5af5-43ef-b88a-baaa3fb21def",
   "metadata": {},
   "outputs": [
    {
     "name": "stdout",
     "output_type": "stream",
     "text": [
      "Date                121\n",
      "Day                 121\n",
      "Year                121\n",
      "Month               121\n",
      "Location              0\n",
      "Rainfall (in mm)    121\n",
      "Latitude              0\n",
      "Longitude             0\n",
      "Quarter             121\n",
      "dtype: int64\n",
      "        Date    Day    Year  Month Location  Rainfall (in mm)  Latitude  \\\n",
      "0 1901-01-01  Day_1  1901.0    1.0    Loc_0               3.0     27.25   \n",
      "1 1901-01-02  Day_2  1901.0    1.0    Loc_0               8.0     27.25   \n",
      "2 1901-01-03  Day_3  1901.0    1.0    Loc_0               0.0     27.25   \n",
      "3 1901-01-04  Day_4  1901.0    1.0    Loc_0               0.0     27.25   \n",
      "4 1901-01-05  Day_5  1901.0    1.0    Loc_0               0.0     27.25   \n",
      "\n",
      "   Longitude  Quarter  \n",
      "0      88.25      1.0  \n",
      "1      88.25      1.0  \n",
      "2      88.25      1.0  \n",
      "3      88.25      1.0  \n",
      "4      88.25      1.0  \n"
     ]
    }
   ],
   "source": [
    "# Check for NaN values in each column\n",
    "nan_count = df.isna().sum()\n",
    "\n",
    "# Print the count of NaN values in each column\n",
    "print(nan_count)\n",
    "\n",
    "# Display the first few rows to verify\n",
    "print(df.head())"
   ]
  },
  {
   "cell_type": "code",
   "execution_count": 22,
   "id": "d78289f7-85e6-4052-85b8-28b20191b297",
   "metadata": {},
   "outputs": [
    {
     "name": "stdout",
     "output_type": "stream",
     "text": [
      "      Date  Day  Year  Month Location  Rainfall (in mm)  Latitude  Longitude  \\\n",
      "52259  NaT  NaN   NaN    NaN    Loc_0               NaN     27.25      88.25   \n",
      "52288  NaT  NaN   NaN    NaN    Loc_0               NaN     27.25      88.25   \n",
      "52320  NaT  NaN   NaN    NaN    Loc_0               NaN     27.25      88.25   \n",
      "52351  NaT  NaN   NaN    NaN    Loc_0               NaN     27.25      88.25   \n",
      "52383  NaT  NaN   NaN    NaN    Loc_0               NaN     27.25      88.25   \n",
      "...    ...  ...   ...    ...      ...               ...       ...        ...   \n",
      "56206  NaT  NaN   NaN    NaN   Loc_10               NaN     28.00      88.75   \n",
      "56238  NaT  NaN   NaN    NaN   Loc_10               NaN     28.00      88.75   \n",
      "56269  NaT  NaN   NaN    NaN   Loc_10               NaN     28.00      88.75   \n",
      "56301  NaT  NaN   NaN    NaN   Loc_10               NaN     28.00      88.75   \n",
      "56332  NaT  NaN   NaN    NaN   Loc_10               NaN     28.00      88.75   \n",
      "\n",
      "       Quarter  \n",
      "52259      NaN  \n",
      "52288      NaN  \n",
      "52320      NaN  \n",
      "52351      NaN  \n",
      "52383      NaN  \n",
      "...        ...  \n",
      "56206      NaN  \n",
      "56238      NaN  \n",
      "56269      NaN  \n",
      "56301      NaN  \n",
      "56332      NaN  \n",
      "\n",
      "[121 rows x 9 columns]\n"
     ]
    }
   ],
   "source": [
    "# Filter and print rows with NaN values in any column\n",
    "nan_rows = df[df.isna().any(axis=1)]\n",
    "\n",
    "# Display the rows with NaN values\n",
    "print(nan_rows)"
   ]
  },
  {
   "cell_type": "code",
   "execution_count": 23,
   "id": "01425967-c406-4bf6-9877-b8c45aea5b2c",
   "metadata": {},
   "outputs": [
    {
     "name": "stdout",
     "output_type": "stream",
     "text": [
      "        Date    Day    Year  Month Location  Rainfall (in mm)  Latitude  \\\n",
      "0 1901-01-01  Day_1  1901.0    1.0    Loc_0               3.0     27.25   \n",
      "1 1901-01-02  Day_2  1901.0    1.0    Loc_0               8.0     27.25   \n",
      "2 1901-01-03  Day_3  1901.0    1.0    Loc_0               0.0     27.25   \n",
      "3 1901-01-04  Day_4  1901.0    1.0    Loc_0               0.0     27.25   \n",
      "4 1901-01-05  Day_5  1901.0    1.0    Loc_0               0.0     27.25   \n",
      "\n",
      "   Longitude  Quarter  \n",
      "0      88.25      1.0  \n",
      "1      88.25      1.0  \n",
      "2      88.25      1.0  \n",
      "3      88.25      1.0  \n",
      "4      88.25      1.0  \n"
     ]
    }
   ],
   "source": [
    "# Remove rows where the 'Date' column is empty (NaN)\n",
    "df = df.dropna(subset=['Date'])\n",
    "\n",
    "# Reset the index after dropping rows\n",
    "df.reset_index(drop=True, inplace=True)\n",
    "\n",
    "# Display the updated DataFrame\n",
    "print(df.head())"
   ]
  },
  {
   "cell_type": "code",
   "execution_count": 24,
   "id": "a7139a4c-dd79-4ec3-be8f-8e3e6195f6c4",
   "metadata": {},
   "outputs": [
    {
     "name": "stdout",
     "output_type": "stream",
     "text": [
      "Empty DataFrame\n",
      "Columns: [Date, Day, Year, Month, Location, Rainfall (in mm), Latitude, Longitude, Quarter]\n",
      "Index: []\n"
     ]
    }
   ],
   "source": [
    "# Filter and print rows with NaN values in any column\n",
    "nan_rows = df[df.isna().any(axis=1)]\n",
    "\n",
    "# Display the rows with NaN values\n",
    "print(nan_rows)"
   ]
  },
  {
   "cell_type": "code",
   "execution_count": 25,
   "id": "9fee7b71-c61e-4ecb-b1e2-788073ed7b59",
   "metadata": {},
   "outputs": [
    {
     "name": "stdout",
     "output_type": "stream",
     "text": [
      "        Date    Day    Year  Month Location  Rainfall (in mm)  Latitude  \\\n",
      "0 1901-01-01  Day_1  1901.0    1.0    Loc_0               3.0     27.25   \n",
      "1 1901-01-02  Day_2  1901.0    1.0    Loc_0               8.0     27.25   \n",
      "2 1901-01-03  Day_3  1901.0    1.0    Loc_0               0.0     27.25   \n",
      "3 1901-01-04  Day_4  1901.0    1.0    Loc_0               0.0     27.25   \n",
      "4 1901-01-05  Day_5  1901.0    1.0    Loc_0               0.0     27.25   \n",
      "\n",
      "   Longitude  Quarter  \n",
      "0      88.25      1.0  \n",
      "1      88.25      1.0  \n",
      "2      88.25      1.0  \n",
      "3      88.25      1.0  \n",
      "4      88.25      1.0  \n"
     ]
    }
   ],
   "source": [
    "# Remove rows where the 'Date' column is empty (NaN)\n",
    "df_cleaned = df.dropna(subset=['Date'])\n",
    "\n",
    "# Reset the index after dropping rows\n",
    "df_cleaned.reset_index(drop=True, inplace=True)\n",
    "\n",
    "# Save the cleaned data back to a new Excel file\n",
    "df_cleaned.to_excel(\"cleaned_merged_data.xlsx\", index=False)\n",
    "\n",
    "# Display the first few rows of the cleaned DataFrame\n",
    "print(df_cleaned.head())"
   ]
  },
  {
   "cell_type": "code",
   "execution_count": 26,
   "id": "317def91-0468-4bf9-abaf-89f024c1ca2a",
   "metadata": {},
   "outputs": [
    {
     "name": "stdout",
     "output_type": "stream",
     "text": [
      "Empty DataFrame\n",
      "Columns: [Date, Day, Year, Month, Location, Rainfall (in mm), Latitude, Longitude, Quarter]\n",
      "Index: []\n"
     ]
    }
   ],
   "source": [
    "# Filter and print rows with NaN values in any column\n",
    "nan_rows = df_cleaned[df_cleaned.isna().any(axis=1)]\n",
    "\n",
    "# Display the rows with NaN values\n",
    "print(nan_rows)"
   ]
  },
  {
   "cell_type": "code",
   "execution_count": 27,
   "id": "e1010977-b9fd-47b1-bd26-57985447f869",
   "metadata": {},
   "outputs": [
    {
     "name": "stdout",
     "output_type": "stream",
     "text": [
      "Shape of merged dataset: (669559, 9)\n"
     ]
    }
   ],
   "source": [
    "print(\"Shape of merged dataset:\", df_cleaned.shape)"
   ]
  },
  {
   "cell_type": "code",
   "execution_count": 28,
   "id": "8c40b80e-6247-4098-aefa-3667065f8253",
   "metadata": {},
   "outputs": [
    {
     "name": "stdout",
     "output_type": "stream",
     "text": [
      "First 5 rows of combined dataset:\n",
      "         Date    Day    Year  Month Location  Rainfall (in mm)  Latitude  \\\n",
      "0 1901-01-01  Day_1  1901.0    1.0    Loc_0               3.0     27.25   \n",
      "1 1901-01-02  Day_2  1901.0    1.0    Loc_0               8.0     27.25   \n",
      "2 1901-01-03  Day_3  1901.0    1.0    Loc_0               0.0     27.25   \n",
      "3 1901-01-04  Day_4  1901.0    1.0    Loc_0               0.0     27.25   \n",
      "4 1901-01-05  Day_5  1901.0    1.0    Loc_0               0.0     27.25   \n",
      "\n",
      "   Longitude  Quarter  \n",
      "0      88.25      1.0  \n",
      "1      88.25      1.0  \n",
      "2      88.25      1.0  \n",
      "3      88.25      1.0  \n",
      "4      88.25      1.0  \n"
     ]
    }
   ],
   "source": [
    "print(\"First 5 rows of combined dataset:\\n\", df_cleaned.head())"
   ]
  },
  {
   "cell_type": "code",
   "execution_count": 29,
   "id": "3a0f4364-03f7-4fd6-abfa-2dae975610fc",
   "metadata": {},
   "outputs": [
    {
     "name": "stdout",
     "output_type": "stream",
     "text": [
      "Last 5 rows of combined dataset:\n",
      "              Date      Day    Year  Month Location  Rainfall (in mm)  \\\n",
      "669554 2022-12-27  Day_361  2022.0   12.0   Loc_10               0.6   \n",
      "669555 2022-12-28  Day_362  2022.0   12.0   Loc_10               0.7   \n",
      "669556 2022-12-29  Day_363  2022.0   12.0   Loc_10               0.1   \n",
      "669557 2022-12-30  Day_364  2022.0   12.0   Loc_10               0.0   \n",
      "669558 2022-12-31  Day_365  2022.0   12.0   Loc_10               0.0   \n",
      "\n",
      "        Latitude  Longitude  Quarter  \n",
      "669554      28.0      88.75      4.0  \n",
      "669555      28.0      88.75      4.0  \n",
      "669556      28.0      88.75      4.0  \n",
      "669557      28.0      88.75      4.0  \n",
      "669558      28.0      88.75      4.0  \n"
     ]
    }
   ],
   "source": [
    "print(\"Last 5 rows of combined dataset:\\n\", df_cleaned.tail())"
   ]
  },
  {
   "cell_type": "code",
   "execution_count": 6,
   "id": "c9261bc7-7d11-4833-b648-642e3d1feba7",
   "metadata": {},
   "outputs": [],
   "source": [
    "# # Get unique locations\n",
    "# locations = df['Location'].unique()\n",
    "\n",
    "# # Loop through each unique location and save as separate Excel file\n",
    "# for location in locations:\n",
    "#     # Filter data for the specific location\n",
    "#     location_df = df[df['Location'] == location]\n",
    "    \n",
    "#     # Save the filtered data to a new Excel file\n",
    "#     location_df.to_excel(f\"{location}_data.xlsx\", index=False)"
   ]
  },
  {
   "cell_type": "code",
   "execution_count": 30,
   "id": "89039e58-b786-42b6-b0fc-a7e0acf76f49",
   "metadata": {},
   "outputs": [
    {
     "name": "stdout",
     "output_type": "stream",
     "text": [
      "            Date      Day    Year  Month Location  Rainfall (in mm)  Latitude  \\\n",
      "0     1901-01-01    Day_1  1901.0    1.0    Loc_0               3.0     27.25   \n",
      "1     1901-01-02    Day_2  1901.0    1.0    Loc_0               8.0     27.25   \n",
      "2     1901-01-03    Day_3  1901.0    1.0    Loc_0               0.0     27.25   \n",
      "3     1901-01-04    Day_4  1901.0    1.0    Loc_0               0.0     27.25   \n",
      "4     1901-01-05    Day_5  1901.0    1.0    Loc_0               0.0     27.25   \n",
      "...          ...      ...     ...    ...      ...               ...       ...   \n",
      "60875 2022-12-27  Day_361  2022.0   12.0    Loc_0               0.0     27.25   \n",
      "60876 2022-12-28  Day_362  2022.0   12.0    Loc_0               0.0     27.25   \n",
      "60877 2022-12-29  Day_363  2022.0   12.0    Loc_0               0.3     27.25   \n",
      "60878 2022-12-30  Day_364  2022.0   12.0    Loc_0               0.0     27.25   \n",
      "60879 2022-12-31  Day_365  2022.0   12.0    Loc_0               0.0     27.25   \n",
      "\n",
      "       Longitude  Quarter  \n",
      "0          88.25      1.0  \n",
      "1          88.25      1.0  \n",
      "2          88.25      1.0  \n",
      "3          88.25      1.0  \n",
      "4          88.25      1.0  \n",
      "...          ...      ...  \n",
      "60875      88.25      4.0  \n",
      "60876      88.25      4.0  \n",
      "60877      88.25      4.0  \n",
      "60878      88.25      4.0  \n",
      "60879      88.25      4.0  \n",
      "\n",
      "[60880 rows x 9 columns]\n"
     ]
    }
   ],
   "source": [
    "df0 = pd.read_excel(\"Loc_0_data.xlsx\")\n",
    "\n",
    "# Display the DataFrame\n",
    "print(df0)"
   ]
  },
  {
   "cell_type": "code",
   "execution_count": 33,
   "id": "173edb7b-6cdc-4a1b-8beb-8457d2a0d480",
   "metadata": {},
   "outputs": [
    {
     "name": "stdout",
     "output_type": "stream",
     "text": [
      "Cleaned data for Loc_0_data.xlsx:\n",
      "        Date    Day    Year  Month Location  Rainfall (in mm)  Latitude  \\\n",
      "0 1901-01-01  Day_1  1901.0    1.0    Loc_0               3.0     27.25   \n",
      "1 1901-01-02  Day_2  1901.0    1.0    Loc_0               8.0     27.25   \n",
      "2 1901-01-03  Day_3  1901.0    1.0    Loc_0               0.0     27.25   \n",
      "3 1901-01-04  Day_4  1901.0    1.0    Loc_0               0.0     27.25   \n",
      "4 1901-01-05  Day_5  1901.0    1.0    Loc_0               0.0     27.25   \n",
      "\n",
      "   Longitude  Quarter  \n",
      "0      88.25      1.0  \n",
      "1      88.25      1.0  \n",
      "2      88.25      1.0  \n",
      "3      88.25      1.0  \n",
      "4      88.25      1.0  \n",
      "Cleaned data for Loc_1_data.xlsx:\n",
      "        Date    Day    Year  Month Location  Rainfall (in mm)  Latitude  \\\n",
      "0 1901-01-01  Day_1  1901.0    1.0    Loc_1               3.0     27.25   \n",
      "1 1901-01-02  Day_2  1901.0    1.0    Loc_1               8.0     27.25   \n",
      "2 1901-01-03  Day_3  1901.0    1.0    Loc_1               0.0     27.25   \n",
      "3 1901-01-04  Day_4  1901.0    1.0    Loc_1               0.0     27.25   \n",
      "4 1901-01-05  Day_5  1901.0    1.0    Loc_1               0.0     27.25   \n",
      "\n",
      "   Longitude  Quarter  \n",
      "0       88.5      1.0  \n",
      "1       88.5      1.0  \n",
      "2       88.5      1.0  \n",
      "3       88.5      1.0  \n",
      "4       88.5      1.0  \n",
      "Cleaned data for Loc_2_data.xlsx:\n",
      "        Date    Day    Year  Month Location  Rainfall (in mm)  Latitude  \\\n",
      "0 1901-01-01  Day_1  1901.0    1.0    Loc_2               4.0     27.25   \n",
      "1 1901-01-02  Day_2  1901.0    1.0    Loc_2               5.0     27.25   \n",
      "2 1901-01-03  Day_3  1901.0    1.0    Loc_2               0.0     27.25   \n",
      "3 1901-01-04  Day_4  1901.0    1.0    Loc_2               0.0     27.25   \n",
      "4 1901-01-05  Day_5  1901.0    1.0    Loc_2               0.0     27.25   \n",
      "\n",
      "   Longitude  Quarter  \n",
      "0      88.75      1.0  \n",
      "1      88.75      1.0  \n",
      "2      88.75      1.0  \n",
      "3      88.75      1.0  \n",
      "4      88.75      1.0  \n",
      "Cleaned data for Loc_3_data.xlsx:\n",
      "        Date    Day    Year  Month Location  Rainfall (in mm)  Latitude  \\\n",
      "0 1901-01-01  Day_1  1901.0    1.0    Loc_3               3.0      27.5   \n",
      "1 1901-01-02  Day_2  1901.0    1.0    Loc_3               8.0      27.5   \n",
      "2 1901-01-03  Day_3  1901.0    1.0    Loc_3               0.0      27.5   \n",
      "3 1901-01-04  Day_4  1901.0    1.0    Loc_3               0.0      27.5   \n",
      "4 1901-01-05  Day_5  1901.0    1.0    Loc_3               0.0      27.5   \n",
      "\n",
      "   Longitude  Quarter  \n",
      "0      88.25      1.0  \n",
      "1      88.25      1.0  \n",
      "2      88.25      1.0  \n",
      "3      88.25      1.0  \n",
      "4      88.25      1.0  \n",
      "Cleaned data for Loc_4_data.xlsx:\n",
      "        Date    Day    Year  Month Location  Rainfall (in mm)  Latitude  \\\n",
      "0 1901-01-01  Day_1  1901.0    1.0    Loc_4               3.0      27.5   \n",
      "1 1901-01-02  Day_2  1901.0    1.0    Loc_4               8.0      27.5   \n",
      "2 1901-01-03  Day_3  1901.0    1.0    Loc_4               0.0      27.5   \n",
      "3 1901-01-04  Day_4  1901.0    1.0    Loc_4               0.0      27.5   \n",
      "4 1901-01-05  Day_5  1901.0    1.0    Loc_4               0.0      27.5   \n",
      "\n",
      "   Longitude  Quarter  \n",
      "0       88.5      1.0  \n",
      "1       88.5      1.0  \n",
      "2       88.5      1.0  \n",
      "3       88.5      1.0  \n",
      "4       88.5      1.0  \n",
      "Cleaned data for Loc_5_data.xlsx:\n",
      "        Date    Day    Year  Month Location  Rainfall (in mm)  Latitude  \\\n",
      "0 1901-01-01  Day_1  1901.0    1.0    Loc_5               4.0      27.5   \n",
      "1 1901-01-02  Day_2  1901.0    1.0    Loc_5               6.0      27.5   \n",
      "2 1901-01-03  Day_3  1901.0    1.0    Loc_5               0.0      27.5   \n",
      "3 1901-01-04  Day_4  1901.0    1.0    Loc_5               0.0      27.5   \n",
      "4 1901-01-05  Day_5  1901.0    1.0    Loc_5               0.0      27.5   \n",
      "\n",
      "   Longitude  Quarter  \n",
      "0      88.75      1.0  \n",
      "1      88.75      1.0  \n",
      "2      88.75      1.0  \n",
      "3      88.75      1.0  \n",
      "4      88.75      1.0  \n",
      "Cleaned data for Loc_6_data.xlsx:\n",
      "        Date    Day    Year  Month Location  Rainfall (in mm)  Latitude  \\\n",
      "0 1901-01-01  Day_1  1901.0    1.0    Loc_6               3.0     27.75   \n",
      "1 1901-01-02  Day_2  1901.0    1.0    Loc_6               8.0     27.75   \n",
      "2 1901-01-03  Day_3  1901.0    1.0    Loc_6               0.0     27.75   \n",
      "3 1901-01-04  Day_4  1901.0    1.0    Loc_6               0.0     27.75   \n",
      "4 1901-01-05  Day_5  1901.0    1.0    Loc_6               0.0     27.75   \n",
      "\n",
      "   Longitude  Quarter  \n",
      "0      88.25      1.0  \n",
      "1      88.25      1.0  \n",
      "2      88.25      1.0  \n",
      "3      88.25      1.0  \n",
      "4      88.25      1.0  \n",
      "Cleaned data for Loc_7_data.xlsx:\n",
      "        Date    Day    Year  Month Location  Rainfall (in mm)  Latitude  \\\n",
      "0 1901-01-01  Day_1  1901.0    1.0    Loc_7               3.0     27.75   \n",
      "1 1901-01-02  Day_2  1901.0    1.0    Loc_7               8.0     27.75   \n",
      "2 1901-01-03  Day_3  1901.0    1.0    Loc_7               0.0     27.75   \n",
      "3 1901-01-04  Day_4  1901.0    1.0    Loc_7               0.0     27.75   \n",
      "4 1901-01-05  Day_5  1901.0    1.0    Loc_7               0.0     27.75   \n",
      "\n",
      "   Longitude  Quarter  \n",
      "0       88.5      1.0  \n",
      "1       88.5      1.0  \n",
      "2       88.5      1.0  \n",
      "3       88.5      1.0  \n",
      "4       88.5      1.0  \n",
      "Cleaned data for Loc_8_data.xlsx:\n",
      "        Date    Day    Year  Month Location  Rainfall (in mm)  Latitude  \\\n",
      "0 1901-01-01  Day_1  1901.0    1.0    Loc_8               4.0     27.75   \n",
      "1 1901-01-02  Day_2  1901.0    1.0    Loc_8               7.0     27.75   \n",
      "2 1901-01-03  Day_3  1901.0    1.0    Loc_8               0.0     27.75   \n",
      "3 1901-01-04  Day_4  1901.0    1.0    Loc_8               0.0     27.75   \n",
      "4 1901-01-05  Day_5  1901.0    1.0    Loc_8               0.0     27.75   \n",
      "\n",
      "   Longitude  Quarter  \n",
      "0      88.75      1.0  \n",
      "1      88.75      1.0  \n",
      "2      88.75      1.0  \n",
      "3      88.75      1.0  \n",
      "4      88.75      1.0  \n",
      "Cleaned data for Loc_9_data.xlsx:\n",
      "        Date    Day    Year  Month Location  Rainfall (in mm)  Latitude  \\\n",
      "0 1901-01-01  Day_1  1901.0    1.0    Loc_9               3.0        28   \n",
      "1 1901-01-02  Day_2  1901.0    1.0    Loc_9               8.0        28   \n",
      "2 1901-01-03  Day_3  1901.0    1.0    Loc_9               0.0        28   \n",
      "3 1901-01-04  Day_4  1901.0    1.0    Loc_9               0.0        28   \n",
      "4 1901-01-05  Day_5  1901.0    1.0    Loc_9               0.0        28   \n",
      "\n",
      "   Longitude  Quarter  \n",
      "0       88.5      1.0  \n",
      "1       88.5      1.0  \n",
      "2       88.5      1.0  \n",
      "3       88.5      1.0  \n",
      "4       88.5      1.0  \n",
      "Cleaned data for Loc_10_data.xlsx:\n",
      "        Date    Day    Year  Month Location  Rainfall (in mm)  Latitude  \\\n",
      "0 1901-01-01  Day_1  1901.0    1.0   Loc_10               4.0        28   \n",
      "1 1901-01-02  Day_2  1901.0    1.0   Loc_10               7.0        28   \n",
      "2 1901-01-03  Day_3  1901.0    1.0   Loc_10               0.0        28   \n",
      "3 1901-01-04  Day_4  1901.0    1.0   Loc_10               0.0        28   \n",
      "4 1901-01-05  Day_5  1901.0    1.0   Loc_10               0.0        28   \n",
      "\n",
      "   Longitude  Quarter  \n",
      "0      88.75      1.0  \n",
      "1      88.75      1.0  \n",
      "2      88.75      1.0  \n",
      "3      88.75      1.0  \n",
      "4      88.75      1.0  \n"
     ]
    }
   ],
   "source": [
    "import pandas as pd\n",
    "\n",
    "# Loop through the data for locations Loc_0_data to Loc_10_data\n",
    "for i in range(11):\n",
    "    # Construct the file name for each location\n",
    "    file_name = f\"Loc_{i}_data.xlsx\"\n",
    "    \n",
    "    # Read the Excel file\n",
    "    df = pd.read_excel(file_name)\n",
    "    \n",
    "    # Remove rows where the 'Date' column is empty (NaN)\n",
    "    df_cleaned = df.dropna(subset=['Date'])\n",
    "    \n",
    "    # Reset the index after dropping rows\n",
    "    df_cleaned.reset_index(drop=True, inplace=True)\n",
    "    \n",
    "    # Save the cleaned data back to the same file (overwriting it)\n",
    "    df_cleaned.to_excel(file_name, index=False)\n",
    "\n",
    "    # Display the first few rows of the cleaned DataFrame (optional)\n",
    "    print(f\"Cleaned data for {file_name}:\")\n",
    "    print(df_cleaned.head())\n"
   ]
  },
  {
   "cell_type": "code",
   "execution_count": 35,
   "id": "331f102b-2415-4098-b6aa-2c8718b298ad",
   "metadata": {},
   "outputs": [
    {
     "name": "stdout",
     "output_type": "stream",
     "text": [
      "Empty DataFrame\n",
      "Columns: [Date, Day, Year, Month, Location, Rainfall (in mm), Latitude, Longitude, Quarter]\n",
      "Index: []\n"
     ]
    }
   ],
   "source": [
    "# Filter and print rows with NaN values in any column\n",
    "df0 = pd.read_excel(\"Loc_0_data.xlsx\")\n",
    "nan_rows = df0[df0.isna().any(axis=1)]\n",
    "\n",
    "# Display the rows with NaN values\n",
    "print(nan_rows)"
   ]
  },
  {
   "cell_type": "code",
   "execution_count": 36,
   "id": "b14aeb5b-20b1-4c4f-9bbe-49def0dda675",
   "metadata": {},
   "outputs": [
    {
     "name": "stdout",
     "output_type": "stream",
     "text": [
      "        Date    Day Location  Rainfall (in mm)  Cumulative_Rainfall\n",
      "0 1901-01-01  Day_1    Loc_0               3.0                  3.0\n",
      "1 1901-01-02  Day_2    Loc_0               8.0                 11.0\n",
      "2 1901-01-03  Day_3    Loc_0               0.0                 11.0\n",
      "3 1901-01-04  Day_4    Loc_0               0.0                  8.0\n",
      "4 1901-01-05  Day_5    Loc_0               0.0                  0.0\n"
     ]
    }
   ],
   "source": [
    "# Ensure the data is sorted by Date to maintain the correct order for summing past days\n",
    "df0['Date'] = pd.to_datetime(df0['Date'])\n",
    "df0 = df0.sort_values('Date')\n",
    "\n",
    "# Calculate the cumulative rainfall for the last 3 days (today and past 2 days)\n",
    "df0['Cumulative_Rainfall'] = df0['Rainfall (in mm)'].rolling(window=3, min_periods=1).sum()\n",
    "\n",
    "# Display the updated DataFrame\n",
    "print(df0[['Date', 'Day', 'Location', 'Rainfall (in mm)', 'Cumulative_Rainfall']].head())"
   ]
  },
  {
   "cell_type": "code",
   "execution_count": 37,
   "id": "aaa08274-a928-4b38-b11e-9e5820b18536",
   "metadata": {},
   "outputs": [
    {
     "name": "stdout",
     "output_type": "stream",
     "text": [
      "        Date    Day Location  Rainfall (in mm)  Cumulative_Rainfall  \\\n",
      "0 1901-01-01  Day_1    Loc_0               3.0                  3.0   \n",
      "1 1901-01-02  Day_2    Loc_0               8.0                 11.0   \n",
      "2 1901-01-03  Day_3    Loc_0               0.0                 11.0   \n",
      "3 1901-01-04  Day_4    Loc_0               0.0                  8.0   \n",
      "4 1901-01-05  Day_5    Loc_0               0.0                  0.0   \n",
      "\n",
      "   Previous_Day_Rainfall  \n",
      "0                    NaN  \n",
      "1                    3.0  \n",
      "2                    8.0  \n",
      "3                    0.0  \n",
      "4                    0.0  \n"
     ]
    }
   ],
   "source": [
    "df0['Previous_Day_Rainfall'] = df0['Rainfall (in mm)'].shift(1)\n",
    "\n",
    "# Display the updated DataFrame\n",
    "print(df0[['Date', 'Day', 'Location', 'Rainfall (in mm)', 'Cumulative_Rainfall', 'Previous_Day_Rainfall']].head())"
   ]
  },
  {
   "cell_type": "code",
   "execution_count": 12,
   "id": "196b7f3f-822d-49bd-a370-3259c5f1d30a",
   "metadata": {},
   "outputs": [
    {
     "name": "stdout",
     "output_type": "stream",
     "text": [
      "        Date    Day Location  Rainfall (in mm)  Cumulative_Rainfall  \\\n",
      "0 1901-01-01  Day_1    Loc_0               3.0                  3.0   \n",
      "1 1901-01-02  Day_2    Loc_0               8.0                 11.0   \n",
      "2 1901-01-03  Day_3    Loc_0               0.0                 11.0   \n",
      "3 1901-01-04  Day_4    Loc_0               0.0                  8.0   \n",
      "4 1901-01-05  Day_5    Loc_0               0.0                  0.0   \n",
      "\n",
      "   Previous_Day_Rainfall  Weekly Sum  \n",
      "0                    NaN         3.0  \n",
      "1                    3.0        11.0  \n",
      "2                    8.0        11.0  \n",
      "3                    0.0        11.0  \n",
      "4                    0.0        11.0  \n"
     ]
    }
   ],
   "source": [
    "# Calculate the cumulative rainfall for the last 7 days (today and past 6 days)\n",
    "df0['Weekly Sum'] = df0['Rainfall (in mm)'].rolling(window=7, min_periods=1).sum()\n",
    "\n",
    "# Display the updated DataFrame\n",
    "print(df0[['Date', 'Day', 'Location', 'Rainfall (in mm)', 'Cumulative_Rainfall', 'Previous_Day_Rainfall', 'Weekly Sum']].head())"
   ]
  },
  {
   "cell_type": "code",
   "execution_count": 38,
   "id": "e737d32e-88ad-49f5-a6f7-6ef3a44074fc",
   "metadata": {},
   "outputs": [
    {
     "name": "stdout",
     "output_type": "stream",
     "text": [
      "        Date    Day  Year  Month Location  Rainfall (in mm)  Latitude  \\\n",
      "0 1901-01-01  Day_1  1901      1    Loc_0               3.0     27.25   \n",
      "1 1901-01-02  Day_2  1901      1    Loc_0               8.0     27.25   \n",
      "2 1901-01-03  Day_3  1901      1    Loc_0               0.0     27.25   \n",
      "3 1901-01-04  Day_4  1901      1    Loc_0               0.0     27.25   \n",
      "4 1901-01-05  Day_5  1901      1    Loc_0               0.0     27.25   \n",
      "\n",
      "   Longitude  Quarter  Cumulative_Rainfall  Previous_Day_Rainfall  \n",
      "0      88.25        1                  3.0                    NaN  \n",
      "1      88.25        1                 11.0                    3.0  \n",
      "2      88.25        1                 11.0                    8.0  \n",
      "3      88.25        1                  8.0                    0.0  \n",
      "4      88.25        1                  0.0                    0.0  \n"
     ]
    }
   ],
   "source": [
    "print(df0.head())"
   ]
  },
  {
   "cell_type": "code",
   "execution_count": 39,
   "id": "7055cc83-cf70-4d57-a7af-4b7849b33b19",
   "metadata": {},
   "outputs": [
    {
     "name": "stdout",
     "output_type": "stream",
     "text": [
      "Date                     0\n",
      "Day                      0\n",
      "Year                     0\n",
      "Month                    0\n",
      "Location                 0\n",
      "Rainfall (in mm)         0\n",
      "Latitude                 0\n",
      "Longitude                0\n",
      "Quarter                  0\n",
      "Cumulative_Rainfall      0\n",
      "Previous_Day_Rainfall    1\n",
      "dtype: int64\n",
      "        Date    Day  Year  Month Location  Rainfall (in mm)  Latitude  \\\n",
      "0 1901-01-01  Day_1  1901      1    Loc_0               3.0     27.25   \n",
      "1 1901-01-02  Day_2  1901      1    Loc_0               8.0     27.25   \n",
      "2 1901-01-03  Day_3  1901      1    Loc_0               0.0     27.25   \n",
      "3 1901-01-04  Day_4  1901      1    Loc_0               0.0     27.25   \n",
      "4 1901-01-05  Day_5  1901      1    Loc_0               0.0     27.25   \n",
      "\n",
      "   Longitude  Quarter  Cumulative_Rainfall  Previous_Day_Rainfall  \n",
      "0      88.25        1                  3.0                    NaN  \n",
      "1      88.25        1                 11.0                    3.0  \n",
      "2      88.25        1                 11.0                    8.0  \n",
      "3      88.25        1                  8.0                    0.0  \n",
      "4      88.25        1                  0.0                    0.0  \n"
     ]
    }
   ],
   "source": [
    "# Check for NaN values in each column\n",
    "nan_count = df0.isna().sum()\n",
    "\n",
    "# Print the count of NaN values in each column\n",
    "print(nan_count)\n",
    "\n",
    "# Display the first few rows to verify\n",
    "print(df0.head())"
   ]
  },
  {
   "cell_type": "code",
   "execution_count": 41,
   "id": "d8b3d8fa-8724-4b13-bf80-3b6d3357f757",
   "metadata": {},
   "outputs": [
    {
     "name": "stdout",
     "output_type": "stream",
     "text": [
      "            Date      Day  Year  Month Location  Rainfall (in mm)  Latitude  \\\n",
      "0     1901-01-01    Day_1  1901      1    Loc_0               3.0     27.25   \n",
      "1     1901-01-02    Day_2  1901      1    Loc_0               8.0     27.25   \n",
      "2     1901-01-03    Day_3  1901      1    Loc_0               0.0     27.25   \n",
      "3     1901-01-04    Day_4  1901      1    Loc_0               0.0     27.25   \n",
      "4     1901-01-05    Day_5  1901      1    Loc_0               0.0     27.25   \n",
      "...          ...      ...   ...    ...      ...               ...       ...   \n",
      "60866 2022-12-29  Day_363  2022     12    Loc_0               0.3     27.25   \n",
      "60867 2022-12-30  Day_364  2022     12    Loc_0               0.0     27.25   \n",
      "44677 2022-12-30  Day_364  2022     12    Loc_0               0.0     27.25   \n",
      "44678 2022-12-31  Day_365  2022     12    Loc_0               0.0     27.25   \n",
      "60868 2022-12-31  Day_365  2022     12    Loc_0               0.0     27.25   \n",
      "\n",
      "       Longitude  Quarter  Cumulative_Rainfall  Previous_Day_Rainfall  \n",
      "0          88.25        1                  3.0                    0.0  \n",
      "1          88.25        1                 11.0                    3.0  \n",
      "2          88.25        1                 11.0                    8.0  \n",
      "3          88.25        1                  8.0                    0.0  \n",
      "4          88.25        1                  0.0                    0.0  \n",
      "...          ...      ...                  ...                    ...  \n",
      "60866      88.25        4                  0.6                    0.3  \n",
      "60867      88.25        4                  0.6                    0.3  \n",
      "44677      88.25        4                  0.3                    0.0  \n",
      "44678      88.25        4                  0.0                    0.0  \n",
      "60868      88.25        4                  0.0                    0.0  \n",
      "\n",
      "[60869 rows x 11 columns]\n"
     ]
    }
   ],
   "source": [
    "# Fill empty values (NaN) with 0\n",
    "df0 = df0.fillna(0)\n",
    "\n",
    "# Display the updated DataFrame\n",
    "print(df0)"
   ]
  },
  {
   "cell_type": "code",
   "execution_count": 42,
   "id": "fb3003fa-6af9-4097-b4a7-3454eb60c71a",
   "metadata": {},
   "outputs": [
    {
     "name": "stdout",
     "output_type": "stream",
     "text": [
      "        Date    Day  Year  Month Location  Rainfall (in mm)  Latitude  \\\n",
      "0 1901-01-01  Day_1  1901      1    Loc_0               3.0     27.25   \n",
      "1 1901-01-02  Day_2  1901      1    Loc_0               8.0     27.25   \n",
      "2 1901-01-03  Day_3  1901      1    Loc_0               0.0     27.25   \n",
      "3 1901-01-04  Day_4  1901      1    Loc_0               0.0     27.25   \n",
      "4 1901-01-05  Day_5  1901      1    Loc_0               0.0     27.25   \n",
      "\n",
      "   Longitude  Quarter  Cumulative_Rainfall  Previous_Day_Rainfall  \\\n",
      "0      88.25        1                  3.0                    0.0   \n",
      "1      88.25        1                 11.0                    3.0   \n",
      "2      88.25        1                 11.0                    8.0   \n",
      "3      88.25        1                  8.0                    0.0   \n",
      "4      88.25        1                  0.0                    0.0   \n",
      "\n",
      "   Weekly_Average  \n",
      "0        3.000000  \n",
      "1        5.500000  \n",
      "2        3.666667  \n",
      "3        2.750000  \n",
      "4        2.200000  \n"
     ]
    }
   ],
   "source": [
    "# Calculate the weekly average (7-day rolling mean) of rainfall\n",
    "df0['Weekly_Average'] = df0['Rainfall (in mm)'].rolling(window=7, min_periods=1).mean()\n",
    "\n",
    "# Display the updated DataFrame\n",
    "print(df0.head())"
   ]
  },
  {
   "cell_type": "code",
   "execution_count": 43,
   "id": "d174f96b-1aca-4c5a-9b7c-8bb1957a50a7",
   "metadata": {},
   "outputs": [
    {
     "name": "stdout",
     "output_type": "stream",
     "text": [
      "        Date    Day Location  Rainfall (in mm) hasRainfall\n",
      "0 1901-01-01  Day_1    Loc_0               3.0         yes\n",
      "1 1901-01-02  Day_2    Loc_0               8.0         yes\n",
      "2 1901-01-03  Day_3    Loc_0               0.0          no\n",
      "3 1901-01-04  Day_4    Loc_0               0.0          no\n",
      "4 1901-01-05  Day_5    Loc_0               0.0          no\n"
     ]
    }
   ],
   "source": [
    "# Create the 'hasRainfall' column based on 'Rainfall (in mm)'\n",
    "df0['hasRainfall'] = df0['Rainfall (in mm)'].apply(lambda x: 'yes' if x > 0 else 'no')\n",
    "\n",
    "# Display the updated DataFrame\n",
    "print(df0[['Date', 'Day', 'Location', 'Rainfall (in mm)', 'hasRainfall']].head())"
   ]
  },
  {
   "cell_type": "code",
   "execution_count": 44,
   "id": "43b73fb5-944b-45b2-a54c-19d1c02540f1",
   "metadata": {},
   "outputs": [
    {
     "data": {
      "text/html": [
       "<div>\n",
       "<style scoped>\n",
       "    .dataframe tbody tr th:only-of-type {\n",
       "        vertical-align: middle;\n",
       "    }\n",
       "\n",
       "    .dataframe tbody tr th {\n",
       "        vertical-align: top;\n",
       "    }\n",
       "\n",
       "    .dataframe thead th {\n",
       "        text-align: right;\n",
       "    }\n",
       "</style>\n",
       "<table border=\"1\" class=\"dataframe\">\n",
       "  <thead>\n",
       "    <tr style=\"text-align: right;\">\n",
       "      <th></th>\n",
       "      <th>Date</th>\n",
       "      <th>Day</th>\n",
       "      <th>Year</th>\n",
       "      <th>Month</th>\n",
       "      <th>Location</th>\n",
       "      <th>Rainfall (in mm)</th>\n",
       "      <th>Latitude</th>\n",
       "      <th>Longitude</th>\n",
       "      <th>Quarter</th>\n",
       "      <th>Cumulative_Rainfall</th>\n",
       "      <th>Previous_Day_Rainfall</th>\n",
       "      <th>Weekly_Average</th>\n",
       "      <th>hasRainfall</th>\n",
       "    </tr>\n",
       "  </thead>\n",
       "  <tbody>\n",
       "    <tr>\n",
       "      <th>0</th>\n",
       "      <td>1901-01-01</td>\n",
       "      <td>Day_1</td>\n",
       "      <td>1901</td>\n",
       "      <td>1</td>\n",
       "      <td>Loc_0</td>\n",
       "      <td>3.0</td>\n",
       "      <td>27.25</td>\n",
       "      <td>88.25</td>\n",
       "      <td>1</td>\n",
       "      <td>3.0</td>\n",
       "      <td>0.0</td>\n",
       "      <td>3.000000</td>\n",
       "      <td>yes</td>\n",
       "    </tr>\n",
       "    <tr>\n",
       "      <th>1</th>\n",
       "      <td>1901-01-02</td>\n",
       "      <td>Day_2</td>\n",
       "      <td>1901</td>\n",
       "      <td>1</td>\n",
       "      <td>Loc_0</td>\n",
       "      <td>8.0</td>\n",
       "      <td>27.25</td>\n",
       "      <td>88.25</td>\n",
       "      <td>1</td>\n",
       "      <td>11.0</td>\n",
       "      <td>3.0</td>\n",
       "      <td>5.500000</td>\n",
       "      <td>yes</td>\n",
       "    </tr>\n",
       "    <tr>\n",
       "      <th>2</th>\n",
       "      <td>1901-01-03</td>\n",
       "      <td>Day_3</td>\n",
       "      <td>1901</td>\n",
       "      <td>1</td>\n",
       "      <td>Loc_0</td>\n",
       "      <td>0.0</td>\n",
       "      <td>27.25</td>\n",
       "      <td>88.25</td>\n",
       "      <td>1</td>\n",
       "      <td>11.0</td>\n",
       "      <td>8.0</td>\n",
       "      <td>3.666667</td>\n",
       "      <td>no</td>\n",
       "    </tr>\n",
       "    <tr>\n",
       "      <th>3</th>\n",
       "      <td>1901-01-04</td>\n",
       "      <td>Day_4</td>\n",
       "      <td>1901</td>\n",
       "      <td>1</td>\n",
       "      <td>Loc_0</td>\n",
       "      <td>0.0</td>\n",
       "      <td>27.25</td>\n",
       "      <td>88.25</td>\n",
       "      <td>1</td>\n",
       "      <td>8.0</td>\n",
       "      <td>0.0</td>\n",
       "      <td>2.750000</td>\n",
       "      <td>no</td>\n",
       "    </tr>\n",
       "    <tr>\n",
       "      <th>4</th>\n",
       "      <td>1901-01-05</td>\n",
       "      <td>Day_5</td>\n",
       "      <td>1901</td>\n",
       "      <td>1</td>\n",
       "      <td>Loc_0</td>\n",
       "      <td>0.0</td>\n",
       "      <td>27.25</td>\n",
       "      <td>88.25</td>\n",
       "      <td>1</td>\n",
       "      <td>0.0</td>\n",
       "      <td>0.0</td>\n",
       "      <td>2.200000</td>\n",
       "      <td>no</td>\n",
       "    </tr>\n",
       "  </tbody>\n",
       "</table>\n",
       "</div>"
      ],
      "text/plain": [
       "        Date    Day  Year  Month Location  Rainfall (in mm)  Latitude  \\\n",
       "0 1901-01-01  Day_1  1901      1    Loc_0               3.0     27.25   \n",
       "1 1901-01-02  Day_2  1901      1    Loc_0               8.0     27.25   \n",
       "2 1901-01-03  Day_3  1901      1    Loc_0               0.0     27.25   \n",
       "3 1901-01-04  Day_4  1901      1    Loc_0               0.0     27.25   \n",
       "4 1901-01-05  Day_5  1901      1    Loc_0               0.0     27.25   \n",
       "\n",
       "   Longitude  Quarter  Cumulative_Rainfall  Previous_Day_Rainfall  \\\n",
       "0      88.25        1                  3.0                    0.0   \n",
       "1      88.25        1                 11.0                    3.0   \n",
       "2      88.25        1                 11.0                    8.0   \n",
       "3      88.25        1                  8.0                    0.0   \n",
       "4      88.25        1                  0.0                    0.0   \n",
       "\n",
       "   Weekly_Average hasRainfall  \n",
       "0        3.000000         yes  \n",
       "1        5.500000         yes  \n",
       "2        3.666667          no  \n",
       "3        2.750000          no  \n",
       "4        2.200000          no  "
      ]
     },
     "execution_count": 44,
     "metadata": {},
     "output_type": "execute_result"
    }
   ],
   "source": [
    "df0.head()"
   ]
  },
  {
   "cell_type": "code",
   "execution_count": 45,
   "id": "a69a5a2f-f5d2-4a59-937c-379e3d9d4246",
   "metadata": {},
   "outputs": [
    {
     "name": "stdout",
     "output_type": "stream",
     "text": [
      "          Date      Day Location  Rainfall (in mm)  Cumulative_Rainfall  \\\n",
      "187 1901-07-07  Day_188    Loc_0              90.0                123.0   \n",
      "188 1901-07-08  Day_189    Loc_0              32.0                148.0   \n",
      "189 1901-07-09  Day_190    Loc_0              21.0                143.0   \n",
      "223 1901-08-12  Day_224    Loc_0              56.0                134.0   \n",
      "224 1901-08-13  Day_225    Loc_0              63.0                158.0   \n",
      "\n",
      "    HighRainfall  \n",
      "187          yes  \n",
      "188          yes  \n",
      "189          yes  \n",
      "223          yes  \n",
      "224          yes  \n"
     ]
    }
   ],
   "source": [
    "# Create the 'HighRainfall' column to check if Today's rainfall or Cumulative rainfall >= 120 mm\n",
    "df0['HighRainfall'] = df0.apply(lambda row: 'yes' if row['Rainfall (in mm)'] >= 120 or row['Cumulative_Rainfall'] >= 120 else 'no', axis=1)\n",
    "\n",
    "# Print rows where 'HighRainfall' is 'yes'\n",
    "high_rainfall_rows = df0[df0['HighRainfall'] == 'yes']\n",
    "\n",
    "# Display the rows with 'yes' in the 'HighRainfall' column\n",
    "print(high_rainfall_rows[['Date', 'Day', 'Location', 'Rainfall (in mm)', 'Cumulative_Rainfall', 'HighRainfall']].head())"
   ]
  },
  {
   "cell_type": "code",
   "execution_count": 46,
   "id": "824e3c83-c9eb-4688-8309-8ff07e743cf5",
   "metadata": {},
   "outputs": [
    {
     "name": "stdout",
     "output_type": "stream",
     "text": [
      "          Date      Day Location  Rainfall (in mm)\n",
      "187 1901-07-07  Day_188    Loc_0              90.0\n",
      "557 1902-07-12  Day_193    Loc_0              85.0\n",
      "572 1902-07-27  Day_208    Loc_0              78.0\n",
      "587 1902-08-11  Day_223    Loc_0             108.0\n",
      "616 1902-09-09  Day_252    Loc_0              85.0\n"
     ]
    }
   ],
   "source": [
    "# Filter the rows where 'Rainfall (in mm)' >= 70 mm\n",
    "high_rainfall_rows = df0[df0['Rainfall (in mm)'] >= 70]\n",
    "\n",
    "# Display the filtered rows\n",
    "print(high_rainfall_rows[['Date', 'Day', 'Location', 'Rainfall (in mm)']].head())"
   ]
  },
  {
   "cell_type": "code",
   "execution_count": 47,
   "id": "66098a33-54a1-4864-9f88-3428e3d3d320",
   "metadata": {},
   "outputs": [
    {
     "name": "stdout",
     "output_type": "stream",
     "text": [
      "File saved as 'modified_location_0.xlsx'\n"
     ]
    }
   ],
   "source": [
    "# Save the DataFrame to an Excel file\n",
    "df0.to_excel('modified_location_0.xlsx', index=False)\n",
    "\n",
    "# Confirm the file has been saved\n",
    "print(\"File saved as 'modified_location_0.xlsx'\")"
   ]
  },
  {
   "cell_type": "code",
   "execution_count": 48,
   "id": "8790caf4-a597-46fe-b43e-2ff9f5ecd70f",
   "metadata": {},
   "outputs": [
    {
     "name": "stdout",
     "output_type": "stream",
     "text": [
      "File saved as 'modified_location_0.xlsx'\n"
     ]
    }
   ],
   "source": [
    "import pandas as pd\n",
    "\n",
    "# Define a function to determine the season based on the month\n",
    "def get_season(month):\n",
    "    if month in [12, 1, 2]:\n",
    "        return 'Winter'\n",
    "    elif month in [3, 4, 5]:\n",
    "        return 'Spring'\n",
    "    elif month in [6, 7, 8, 9]:\n",
    "        return 'Monsoon'\n",
    "    elif month in [10, 11]:\n",
    "        return 'Autumn'\n",
    "    else:\n",
    "        return 'Unknown'  # In case there's an unexpected month value\n",
    "\n",
    "# Apply the function to the 'Month' column to create a new 'Season' column\n",
    "df0['Season'] = df0['Month'].apply(get_season)\n",
    "\n",
    "# Save the DataFrame with the new 'Season' column to the same Excel file\n",
    "df0.to_excel('modified_location_0.xlsx', index=False)\n",
    "\n",
    "# Confirm the file has been saved\n",
    "print(\"File saved as 'modified_location_0.xlsx'\")"
   ]
  },
  {
   "cell_type": "code",
   "execution_count": 50,
   "id": "43526970-2451-4f15-98ac-965128908d01",
   "metadata": {},
   "outputs": [
    {
     "data": {
      "text/plain": [
       "Index(['Date', 'Day', 'Year', 'Month', 'Location', 'Rainfall (in mm)',\n",
       "       'Latitude', 'Longitude', 'Quarter', 'Cumulative_Rainfall',\n",
       "       'Previous_Day_Rainfall', 'Weekly_Average', 'hasRainfall',\n",
       "       'HighRainfall', 'Season'],\n",
       "      dtype='object')"
      ]
     },
     "execution_count": 50,
     "metadata": {},
     "output_type": "execute_result"
    }
   ],
   "source": [
    "df0.columns"
   ]
  },
  {
   "cell_type": "code",
   "execution_count": null,
   "id": "debd2114-010d-46f1-bedf-58986b077442",
   "metadata": {},
   "outputs": [],
   "source": []
  }
 ],
 "metadata": {
  "kernelspec": {
   "display_name": "Python 3 (ipykernel)",
   "language": "python",
   "name": "python3"
  },
  "language_info": {
   "codemirror_mode": {
    "name": "ipython",
    "version": 3
   },
   "file_extension": ".py",
   "mimetype": "text/x-python",
   "name": "python",
   "nbconvert_exporter": "python",
   "pygments_lexer": "ipython3",
   "version": "3.12.7"
  }
 },
 "nbformat": 4,
 "nbformat_minor": 5
}
